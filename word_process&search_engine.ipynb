{
  "nbformat": 4,
  "nbformat_minor": 0,
  "metadata": {
    "colab": {
      "name": "word_process&search_engine.ipynb",
      "version": "0.3.2",
      "provenance": [],
      "collapsed_sections": [],
      "include_colab_link": true
    },
    "kernelspec": {
      "name": "python3",
      "display_name": "Python 3"
    }
  },
  "cells": [
    {
      "cell_type": "markdown",
      "metadata": {
        "id": "view-in-github",
        "colab_type": "text"
      },
      "source": [
        "<a href=\"https://colab.research.google.com/github/shaobingbing/AI-For-NLP/blob/master/word_process%26search_engine.ipynb\" target=\"_parent\"><img src=\"https://colab.research.google.com/assets/colab-badge.svg\" alt=\"Open In Colab\"/></a>"
      ]
    },
    {
      "cell_type": "markdown",
      "metadata": {
        "id": "yYkrfY7aLG8B",
        "colab_type": "text"
      },
      "source": [
        "## Training Word2vec\n"
      ]
    },
    {
      "cell_type": "code",
      "metadata": {
        "id": "V0-WsClu2yjD",
        "colab_type": "code",
        "colab": {}
      },
      "source": [
        "import pandas as pd\n",
        "import re\n",
        "import jieba"
      ],
      "execution_count": 0,
      "outputs": []
    },
    {
      "cell_type": "code",
      "metadata": {
        "id": "GyHarP0i3ySt",
        "colab_type": "code",
        "colab": {
          "base_uri": "https://localhost:8080/",
          "height": 122
        },
        "outputId": "28dba232-b0ea-44f8-d2b2-51a573ad89fe"
      },
      "source": [
        "from google.colab import drive\n",
        "drive.mount('/content/drive')"
      ],
      "execution_count": 1,
      "outputs": [
        {
          "output_type": "stream",
          "text": [
            "Go to this URL in a browser: https://accounts.google.com/o/oauth2/auth?client_id=947318989803-6bn6qk8qdgf4n4g3pfee6491hc0brc4i.apps.googleusercontent.com&redirect_uri=urn%3Aietf%3Awg%3Aoauth%3A2.0%3Aoob&scope=email%20https%3A%2F%2Fwww.googleapis.com%2Fauth%2Fdocs.test%20https%3A%2F%2Fwww.googleapis.com%2Fauth%2Fdrive%20https%3A%2F%2Fwww.googleapis.com%2Fauth%2Fdrive.photos.readonly%20https%3A%2F%2Fwww.googleapis.com%2Fauth%2Fpeopleapi.readonly&response_type=code\n",
            "\n",
            "Enter your authorization code:\n",
            "··········\n",
            "Mounted at /content/drive\n"
          ],
          "name": "stdout"
        }
      ]
    },
    {
      "cell_type": "code",
      "metadata": {
        "id": "YR4Dc5QR30Gd",
        "colab_type": "code",
        "colab": {}
      },
      "source": [
        "def token(string):\n",
        "    return re.findall(r'[\\w|\\d]+', string)\n",
        "\n",
        "def cut(string):\n",
        "    # cut sentences\n",
        "    return ' '.join(jieba.cut(string))"
      ],
      "execution_count": 0,
      "outputs": []
    },
    {
      "cell_type": "code",
      "metadata": {
        "id": "cEsArP5N6BcV",
        "colab_type": "code",
        "colab": {}
      },
      "source": [
        "origin_news_content = pd.read_csv('./drive/My Drive/data/sqlResult_1558435.csv', encoding = 'gb18030')"
      ],
      "execution_count": 0,
      "outputs": []
    },
    {
      "cell_type": "code",
      "metadata": {
        "id": "0TwwSD-k8ywO",
        "colab_type": "code",
        "colab": {
          "base_uri": "https://localhost:8080/",
          "height": 306
        },
        "outputId": "0f2eb849-cd55-4bcd-ef74-762806bb3e4a"
      },
      "source": [
        "origin_news_content.head()"
      ],
      "execution_count": 5,
      "outputs": [
        {
          "output_type": "execute_result",
          "data": {
            "text/html": [
              "<div>\n",
              "<style scoped>\n",
              "    .dataframe tbody tr th:only-of-type {\n",
              "        vertical-align: middle;\n",
              "    }\n",
              "\n",
              "    .dataframe tbody tr th {\n",
              "        vertical-align: top;\n",
              "    }\n",
              "\n",
              "    .dataframe thead th {\n",
              "        text-align: right;\n",
              "    }\n",
              "</style>\n",
              "<table border=\"1\" class=\"dataframe\">\n",
              "  <thead>\n",
              "    <tr style=\"text-align: right;\">\n",
              "      <th></th>\n",
              "      <th>id</th>\n",
              "      <th>author</th>\n",
              "      <th>source</th>\n",
              "      <th>content</th>\n",
              "      <th>feature</th>\n",
              "      <th>title</th>\n",
              "      <th>url</th>\n",
              "    </tr>\n",
              "  </thead>\n",
              "  <tbody>\n",
              "    <tr>\n",
              "      <th>0</th>\n",
              "      <td>89617</td>\n",
              "      <td>NaN</td>\n",
              "      <td>快科技@http://www.kkj.cn/</td>\n",
              "      <td>此外，自本周（6月12日）起，除小米手机6等15款机型外，其余机型已暂停更新发布（含开发版/...</td>\n",
              "      <td>{\"type\":\"科技\",\"site\":\"cnbeta\",\"commentNum\":\"37\"...</td>\n",
              "      <td>小米MIUI 9首批机型曝光：共计15款</td>\n",
              "      <td>http://www.cnbeta.com/articles/tech/623597.htm</td>\n",
              "    </tr>\n",
              "    <tr>\n",
              "      <th>1</th>\n",
              "      <td>89616</td>\n",
              "      <td>NaN</td>\n",
              "      <td>快科技@http://www.kkj.cn/</td>\n",
              "      <td>骁龙835作为唯一通过Windows 10桌面平台认证的ARM处理器，高通强调，不会因为只考...</td>\n",
              "      <td>{\"type\":\"科技\",\"site\":\"cnbeta\",\"commentNum\":\"15\"...</td>\n",
              "      <td>骁龙835在Windows 10上的性能表现有望改善</td>\n",
              "      <td>http://www.cnbeta.com/articles/tech/623599.htm</td>\n",
              "    </tr>\n",
              "    <tr>\n",
              "      <th>2</th>\n",
              "      <td>89615</td>\n",
              "      <td>NaN</td>\n",
              "      <td>快科技@http://www.kkj.cn/</td>\n",
              "      <td>此前的一加3T搭载的是3400mAh电池，DashCharge快充规格为5V/4A。\\r\\n...</td>\n",
              "      <td>{\"type\":\"科技\",\"site\":\"cnbeta\",\"commentNum\":\"18\"...</td>\n",
              "      <td>一加手机5细节曝光：3300mAh、充半小时用1天</td>\n",
              "      <td>http://www.cnbeta.com/articles/tech/623601.htm</td>\n",
              "    </tr>\n",
              "    <tr>\n",
              "      <th>3</th>\n",
              "      <td>89614</td>\n",
              "      <td>NaN</td>\n",
              "      <td>新华社</td>\n",
              "      <td>这是6月18日在葡萄牙中部大佩德罗冈地区拍摄的被森林大火烧毁的汽车。新华社记者张立云摄\\r\\n</td>\n",
              "      <td>{\"type\":\"国际新闻\",\"site\":\"环球\",\"commentNum\":\"0\",\"j...</td>\n",
              "      <td>葡森林火灾造成至少62人死亡 政府宣布进入紧急状态（组图）</td>\n",
              "      <td>http://world.huanqiu.com/hot/2017-06/10866126....</td>\n",
              "    </tr>\n",
              "    <tr>\n",
              "      <th>4</th>\n",
              "      <td>89613</td>\n",
              "      <td>胡淑丽_MN7479</td>\n",
              "      <td>深圳大件事</td>\n",
              "      <td>（原标题：44岁女子跑深圳约会网友被拒，暴雨中裸身奔走……）\\r\\n@深圳交警微博称：昨日清...</td>\n",
              "      <td>{\"type\":\"新闻\",\"site\":\"网易热门\",\"commentNum\":\"978\",...</td>\n",
              "      <td>44岁女子约网友被拒暴雨中裸奔 交警为其披衣相随</td>\n",
              "      <td>http://news.163.com/17/0618/00/CN617P3Q0001875...</td>\n",
              "    </tr>\n",
              "  </tbody>\n",
              "</table>\n",
              "</div>"
            ],
            "text/plain": [
              "      id  ...                                                url\n",
              "0  89617  ...     http://www.cnbeta.com/articles/tech/623597.htm\n",
              "1  89616  ...     http://www.cnbeta.com/articles/tech/623599.htm\n",
              "2  89615  ...     http://www.cnbeta.com/articles/tech/623601.htm\n",
              "3  89614  ...  http://world.huanqiu.com/hot/2017-06/10866126....\n",
              "4  89613  ...  http://news.163.com/17/0618/00/CN617P3Q0001875...\n",
              "\n",
              "[5 rows x 7 columns]"
            ]
          },
          "metadata": {
            "tags": []
          },
          "execution_count": 5
        }
      ]
    },
    {
      "cell_type": "code",
      "metadata": {
        "id": "AHmIplKY8843",
        "colab_type": "code",
        "colab": {}
      },
      "source": [
        "content = origin_news_content.fillna('')"
      ],
      "execution_count": 0,
      "outputs": []
    },
    {
      "cell_type": "code",
      "metadata": {
        "id": "GayKacsBGn9x",
        "colab_type": "code",
        "colab": {}
      },
      "source": [
        "news_content = content['content'].tolist()"
      ],
      "execution_count": 0,
      "outputs": []
    },
    {
      "cell_type": "code",
      "metadata": {
        "id": "QpIakopBGsMJ",
        "colab_type": "code",
        "colab": {
          "base_uri": "https://localhost:8080/",
          "height": 85
        },
        "outputId": "7c8e7e52-5454-438a-f91c-b6245bf6d830"
      },
      "source": [
        "content_1 = [token(n) for n in news_content]\n",
        "content_2 = [' '.join(n) for n in content_1]\n",
        "news_content = [cut(n) for n in content_2]"
      ],
      "execution_count": 10,
      "outputs": [
        {
          "output_type": "stream",
          "text": [
            "Building prefix dict from the default dictionary ...\n",
            "Dumping model to file cache /tmp/jieba.cache\n",
            "Loading model cost 0.882 seconds.\n",
            "Prefix dict has been built succesfully.\n"
          ],
          "name": "stderr"
        }
      ]
    },
    {
      "cell_type": "code",
      "metadata": {
        "id": "qaJNbVp-HQtz",
        "colab_type": "code",
        "colab": {
          "base_uri": "https://localhost:8080/",
          "height": 190
        },
        "outputId": "fb7195d4-e8e8-4d2e-a831-706f484501bf"
      },
      "source": [
        "content_2[1:10]"
      ],
      "execution_count": 11,
      "outputs": [
        {
          "output_type": "execute_result",
          "data": {
            "text/plain": [
              "['骁龙835作为唯一通过Windows 10桌面平台认证的ARM处理器 高通强调 不会因为只考虑性能而去屏蔽掉小核心 相反 他们正联手微软 找到一种适合桌面平台的 兼顾性能和功耗的完美方案 报道称 微软已经拿到了一些新的源码 以便Windows 10更好地理解big little架构 资料显示 骁龙835作为一款集成了CPU GPU 基带 蓝牙 Wi Fi的SoC 比传统的Wintel方案可以节省至少30 的PCB空间 按计划 今年Q4 华硕 惠普 联想将首发骁龙835 Win10电脑 预计均是二合一形态的产品 当然 高通骁龙只是个开始 未来也许还能见到三星Exynos 联发科 华为麒麟 小米澎湃等进入Windows 10桌面平台',\n",
              " '此前的一加3T搭载的是3400mAh电池 DashCharge快充规格为5V 4A 至于电池缩水 可能与刘作虎所说 一加手机5要做市面最轻薄大屏旗舰的设定有关 按照目前掌握的资料 一加手机5拥有5 5寸1080P三星AMOLED显示屏 6G 8GB RAM 64GB 128GB ROM 双1600万摄像头 备货量 惊喜 根据京东泄露的信息 一加5起售价是xx99元 应该是在2799 2899 2999中的某个',\n",
              " '这是6月18日在葡萄牙中部大佩德罗冈地区拍摄的被森林大火烧毁的汽车 新华社记者张立云摄',\n",
              " '原标题 44岁女子跑深圳约会网友被拒 暴雨中裸身奔走 深圳交警微博称 昨日清晨交警发现有一女子赤裸上身 行走在南坪快速上 期间还起了轻生年头 一辅警发现后赶紧为其披上黄衣 并一路劝说她 那么事发时 到底都发生了些什么呢 南都记者带您一起还原现场 南都记者在龙岗大队坂田中队见到了辅警刘青 发现女生的辅警 一位外表高大帅气 说话略带些腼腆的90后青年 刘青介绍 6月16日早上7时36分 他正在环城南路附近值勤 接到中队关于一位女子裸身进入机动车可能有危险的警情 随后骑着小铁骑开始沿路寻找 大概花了十多分钟在南坪大道坂田出口往龙岗方向的逆行辅道上发现该女子 女子身上一丝不挂地逆车流而行 时走时停 时坐时躺 险象环生 刘青停好小铁骑 和另外一名巡防员追了上去 发现女子的情绪很低落 话不多 刘青尝试和女子交流 劝说女子离开 可女子并不愿意接受 继续缓慢地往南坪快速路的主干道上走去 此时路边上已经聚集了很市民围观 为了不刺激女子的情绪 刘青和巡防员一边盯着女子一边驱赶着围观的群众 现场还原 从警方提供的一份视频了解到 16日早上7时25分 女子出现在坂雪岗大道与环城南路的监控视频中 此时女子还穿着白色的内裤 正沿着坂雪岗大道往南坪快速的方向缓慢地走着 当时正值上班高峰期 十字路口的车流已经排起了长队 当女子出现时 路上的市民纷纷驻足观望 不少车辆也放慢了速度 但女子并不为市民观望停下脚步 依然缓慢走着 当女子行进到十字路口中间时 一辆大货车挡住了镜头 但是当女子再次出现镜头时 可以发现女子已经没穿内裤了 全身裸露继续朝着南坪快速方向走去 记者发现 视频中女子周围并没有人尾随或者上前劝止的市民 一大清早路上看到这样的情况 恐怕大家都没办法淡定 面对这一情况 刘青表示 一开始根本不敢看她 心里挺别扭 感觉很尴尬 但当刘青跟随女子上了南坪快速路主干道时 女子作出了让人意想不到的举动 她突然靠近护栏要从上面跳下去 刘青赶忙冲上去拉住了女子的手 将其控制住并远离护栏 碍于女子没有穿衣服 刘青递上衣服 女子没接受还把衣服扔到排水沟里 继续往前走 没办法刘青只能紧紧拉着她的一只手跟在后面 刘青一路上耐心地开导安慰她 但只听到她不断地重复着一句话 要是你也遭遇我的事 你也会这样的 期间她还不时试图挣脱刘青的手要冲向护栏往下跳 就这样 我被牵着走了大概十多分钟 天突然下起了大暴雨 雨大的连眼睛都睁不开 刘青继续说着 瞬间他们就被雨透了 但女子依然不愿意接受刘青的帮助 就继续冒着大雨往前走 大概走了有四十分钟吧 女子突然停下来说 我想回家了 然后女子也接受了刘青递过来的小黄衣 就出现了深圳微博上的照片 女子披着小黄衣 刘青小心翼翼地在旁边走着的场景 从南平快速下来后 刘青和巡防员将女子带到了附近的坂田派出所 那姑娘到底是遭遇了什么样的事情 才会说 要是你也遭遇我的事 你也会这样 据警方透露 该女子姓陈 系湖北人 今年44岁 据家属反映其有精神病史 三天前 陈某从老家来深圳约会网友 但约会受挫导致情绪异常 女子遂产生轻生念头 目前 陈某已经被送往深圳某精神病医院进行治疗 大大君只希望姑娘能早点康复 其实真爱的到来并不存在年龄的限制 你们说呢 因善良的原因 一众网友纷纷为 交警暖男点ZAN 弓常yan桦 就想问这个小哥哥有女票吗 原谅我这一辈子浪荡不羁爱萨摩耶 有什么过不去的要轻生嘛 想想自己的家人 同时也感谢交警蜀黍 火心聆听心灵 点赞交警 中華云盾 警察 警察就是群众最需时申出援手 Tomchlee 蜀黍帅 SJ 李赫海i 这个交警很暖有木有 男子迷奸网友拍418个视频 女方从20岁到50岁不等 去年6月7号上午 淮安市涟水县公安局刑警大队突然接到了一个奇怪的报警电话 一名女子言语不清 声称自己遭到了侵害 女子 被侵害 言语不清 几个关键词令接到电话的民警瞬间紧张起来',\n",
              " '受到A股被纳入MSCI指数的利好消息刺激 A股市场从周三开始再度上演龙马行情 周四上午金融股和白马股表现喜人 但是尾盘跳水之后 仅金融板块仍维系红盘状态 分析人士认为 金融股受益于MSCI纳入A股和低估值而重获资金青睐 但是存量资金博弈格局下 风格交替的震荡格局料延续 流动性改善 经济悲观预期修正等有助于支撑板块继而大盘指数逐步向好 一九 再现 周四 A股市场未能延续周三的上行态势 两市成交小幅放量 29个中信一级行业中 收盘仅银行和非银行金融两个行业指数收红 分别上涨1 80 和0 20 从二级行业来看 股份制与城商行的涨幅最高 达到2 22 国有银行上涨0 82 信托及其他上涨0 64 保险板块上涨0 34 证券板块上涨0 06 银行板块25只成分股中 共有21只收红 其中 招商银行涨幅最大 上涨6 66 贵阳银行上涨3 65 上海银行 华夏银行 浦发银行和兴业银行的涨幅均超过1 50 非银行金融板块44只成分股中 共17只个股上涨 其中 安信信托 中国太保涨幅居前两名 分别上涨4 57 和3 04 西水股份 华安证券 中国人寿和新华保险的涨幅也均超过2 相对而言 券商股多小幅下跌 近期 对A股市场消息面影响最大的就是MSCI宣布从2018年6月开始将A股纳入MSCI新兴市场指数 而其中 金融股是占比最大的一个群体 国金证券李立峰团队指出 最新方案中包含的222只成分股中 剔除了中等市值 非互联互通可交易的股票以及有停牌限制的标的 由于纳入了很多大市值AH股 A股在MSCI EM中的权重由0 5 上升到了0 73 其中 金融板块占比最高 达到40 11 泛消费次之 占比为24 26 两个板块涵盖了大部分权重股 动态来看 由于加入了很多是指占比高的金融公司 金融板块的权重增加了近一半 其他大部分行业权重都受到了稀释 尽管A股被纳入MSCI这一利好事件对短期市场情绪有所提振 对中长期海外增量资金预期升温 但短期内 市场量能尚不能有效放大 金融股独乐乐情景也就难以持续 存量博弈格局下 风格交替 指数震荡格局难改变 光大证券指出 利好并未引起市场太大的热情 两市指数和成交量均较为平淡 但市场风格出现了较大变化 白马股金融股上涨的同时 成长股 题材股全天低迷 这表明市场增量资金依然很少 存量资金在不同板块之间腾挪 这样的跷跷板格局使得指数难有突破 市场中期依旧偏空 短期依旧可能维持震荡格局',\n",
              " '虽然至今夏普智能手机在市场上无法排得上号 已经完全没落 并于 2013 年退出中国市场 但是今年 3 月份官方突然宣布回归中国 预示着很快就有夏普新机在中国登场了 那么 第一款夏普手机什么时候登陆中国呢 又会是怎么样的手机呢 近日 一款型号为 FS8016 的夏普神秘新机悄然出现在 GeekBench 的跑分库上 从其中相关信息了解到 这款机子并非旗舰定位 所搭载的是高通骁龙 660 处理器 配备有 4GB 的内存 骁龙 660 是高通今年最受瞩目的芯片之一 采用 14 纳米工艺 八个 Kryo 260 核心设计 集成 Adreno 512 GPU 和 X12 LTE 调制解调器 当前市面上只有一款机子采用了骁龙 660 处理器 那就是已经上市销售的 OPPO R11 骁龙 660 尽管并非旗舰芯片 但在多核新能上比去年骁龙 820 强 单核改进也很明显 所以放在今年仍可以让很多手机变成高端机 不过 由于 OPPO 与高通签署了排他性协议 可以独占两三个月时间 考虑到夏普既然开始测试新机了 说明只要等独占时期一过 夏普就能发布骁龙 660 新品了 按照之前被曝光的渲染图了解 夏普的新机核心竞争优势还是全面屏 因为从 2013 年推出全球首款全面屏手机 EDGEST 302SH 至今 夏普手机推出了多达 28 款的全面屏手机 在 5 月份的媒体沟通会上 惠普罗忠生表示 我敢打赌 12 个月之后 在座的各位手机都会换掉 因为全面屏时代的到来 我们怀揣的手机都将成为传统手机',\n",
              " '沙漠雄鹰 震荡有利消化套牢筹码 周四开盘上证50在银行券商大蓝筹带动下一度涨近2 沪指也一度站上60日与120日均线 但在 黑天鹅 万达电影暴跌拖累下 沪深股市绝大多数时间分道扬镳 14点后次新股大幅跳水令各大指数全线收绿 存量博弈格局难改 量能久日不见放大下 蓝筹行情并不可持续 短线策略依然是以题材为主 次新股和区域经济概念股调整压力仍然突出 成长股再次大跌 但目前处于底部 低位反复震荡有助于夯实底部 目前市场仍属存量资金博弈 短期蓝筹股上演的指数行情令市场承压 短期利好带动的蓝筹股行情或将告一段落 后期需要题材股接力来维稳指数走向 今日经财要闻 一 央行上海总部发布 债券通 北向通境外投资者准入备案业务指引 二 我国信用法规和标准研究正在加快推进 三 上海易居房地产研究院发布的 房贷利率与楼市研究报告 显示 近期许多城市的个人住房贷款利率均有不同程度的上涨 四 水污染防治法修正案草案二审 更大力度保护水环境 五 根据中国结算发布的 关于开展存量一人多户休眠工作的通知 已启动对同一投资者开立的三户以上多开账户的休眠工作 按中国结算的文件要求 自6月23日后的下一交易日 下周一 6月26日 起 被确认为休眠账户的 将在交易系统中止交易 六 李军 十三五 末上海金融市场交易额或达2000万亿 七 受A股纳入MSCI新兴市场指数 以及中国宏观环境持续稳定的双重因素鼓舞下 富达国际基金经理马磊表示 预计2017年下半年中国股市投资者情绪将有望转好 中国股市未来十年增长将主要由创新驱动 大盘回顾 周四A股市场出现了早盘冲高 午市后震荡回落 尾盘大幅跳水的走势 从盘面看 沪深300指数盘中创17个月新高 但2000余只个股下跌 市场分化相当明显 至收盘 上证指数报3147 45点 较前一交易日跌8 76点 跌幅为0 28 深成指报10265 20点 跌101 97点 跌幅为0 98 创业板指表现最弱 报1798 38点 跌幅达到1 44 两市个股普跌 仅400余只交易品种上涨 不计算ST股和未股改股 两市涨停个股不足30只 两市共成交4781亿元 较前一交易日大增800多亿元 数据显示 昨日两市共有主力尽流出190 57亿元 较上一日的96 95亿元大增96 27 两市61个行业板块有57个遭遇主力抛售 虽然券商与银行板块共有近13亿元主力介入 但化工行业与医药制造就分别遭遇14亿元与12 21亿元的主力抛售 而持续低迷的雄安新区的抛售力度更是高达41 69亿元 技术分析 昨日临近收盘的半个小时 沪指上演高位跳水 将涨幅全部回吐 失守60日均线 成交量明显放大 留下长长的上影线 尽管跌幅不深 但个股一地鸡毛 沪指自3016点以来 大盘每次回调的相对低点位置都在不断抬升 所以即使大盘冲高乏力后出现回落 指数调整的空间也因被封住而难以出现大跌 总体来说市场震荡分化的格局短期依然难以打破 短线来看 沪指在盘中攻克60日均线和半年线压力之后 却在当日得而复失 而创业板指则连上方均线压力都无法触及 这样的走势 无疑会对投资者心理产生负面影响 而在技术形态上 在60分钟K线级别已经形成了背离雏形 一旦沪指跌破3117点 就意味着背离成型 如此即可能引发日线级别的下跌 综合分析 目前指数正处在压力区间 市场脆弱的心态 碎片化的涨停板 主线模糊 热点凌乱 赚钱效应弱等因素都是大盘突破的掣肘因素 而昨日的尾盘跳水 主要有以下原因 首先 长期的二八分化 导致人气低迷 最近一段时间权重股虽然整体走高 但该板块群众基础弱 弹性小制约绝对涨幅 难以形成大面积的赚钱效应 与此同时 现在场内二八轮动非常频繁 今天追进的资金明天就要吃套 打击资金积极性 其次 市场反弹到重要压力区 却仅靠资金拉升指标股来抬升指数 这种没有赚钱效应的拉抬是不可能持久的 昨日招商银行一度大涨7 但投资者似乎并不买账 跟风盘极少 由于目前A股一直是存量资金博弈的市场 所以 指标股吸引着资金加码 那么 就意味着中小市值品种面临着强大的筹码套现压力 另外 昨日万达股票债券莫名齐跌 午后复星医药盘中突现 闪崩 令市场踩踏事件出现 短期市场受此影响 再次收复上方半年线的压力大增 投资建议 近期权重蓝筹一直强于中小创 但上涨始终缺乏有效的量能支持 在存量博弈背景下 后续资金若无法跟上 活跃资金或会转战中小创 短线投资者在降低权重配置时 可加大中小创中盘子小 股性活跃的超跌品种 大盘的纠缠格局依然还在进行中 权重股虽整体走高 但群众基础弱 弹性小 绝对涨幅有所制约 金融板块大涨促使沪指上摸3180点压力位区间 但能否真正有效突破 还需要观察几日 基于周四K线组合形态偏向悲观 因此投资者当前宜先退出观望 等待股指下方获得支撑后再寻机操作 热点分析 由于粤港澳大湾区论坛期间 腾讯看多人工智能 百度也将于7月5日举办 百度AI开发者大会 以谷歌 亚马逊为代表的互联网巨头一致看好人工智能未来的发展 产业创新叠加政策扶持 人工智能行业高景气度有望维持 市场在最近一个月内出现了4次长上影线 之前三次都形成了周线级别调整 加之下周是月末钱荒效应 值得股民做好应对 自6月初以来 市场始终是以中小创为首的反弹模式 个股赚钱效应保持 而随着周三尾盘开始 权重股快速拉升 带来了指数尾盘翻红 周四刷新高点 但与此同时个股赚钱效应却有了明显的降温的 个股涨少跌多 午盘后个股跳水加剧这一现象必须要引起重视 玉名认为这意味着上证50创新高 但并没有带来其余个股的跟随 相反还带来了大部分个股的跳水 而受到政策红利的军工板块和上周 王者荣耀 引发的手游股类似 都是出现了 一日游 的走势 没有延续性的热点 更多地来自于事件刺激和超跌反弹 市场下周将进入到一个比较敏感的时间段 既是月末 季末 又是半年末 容易出现资金的异动 实际上 从美联储加息和缩表行为来看 已经意味着紧缩货币政策的开启 而这也在全球央行中流行 金融市场很难再现 大水漫灌 式强刺激 中性偏紧的政策和流动性将成为一种 常态 从基本面来看 玉名认为中国经济仍将是 L 型筑底走势 这是一个阶段 是一段较长的时间 意味着没有高速增长 也没有增速大幅下滑 而是横盘周期 同时以适度偏紧的政策 为供给侧结构性改革提供良好环境 因此 从基本面决定了股市只能处于震荡市周期 技术上 沪指运行到60日均线附近 在权重股拉升之下有突破之意 不过由于运行到前期肩部区域 压力还是比较大 这种单纯依托权重股 而忽略个股效应的模式能够走多远 还是值得担忧的 这是引发资金派发而形成跳水的关键因素 尤其是个股的赚钱效应越来越差 甚至不排除一些获利盘和解套盘选择了短线的离场 伴随着高位 资金追涨的压力也在增加 谨慎观望气氛增加 导致了成交量的止步不前 玉名认为目前股民需要对于个股做一个梳理了 短线反弹较多的 且近期放量滞涨的 就要有所警惕了 要逐步兑现利润 选择落袋为安 重新等待机会 而对于已经进入前期阻力区或密集套牢区的个股 应该及时考虑减仓 毕竟这样的品种很容易出现再度的调整 对于前期涨幅不大 或者是下跌通道已经扭转的个股 可以暂时持有观望 昨日回顾 主板终于费尽九牛二虎之力爬到了3180点附近 但是遗憾的是在主板尤其是上证50和沪深300不断地创新高之际 中小创却依然是忍受着无厘头的煎熬 午后市场更是以全线跳水的结局收盘 那么对于这样的市场周五会怎样 昨日消息面 央行 债券通 登记托管等实施细则会很快发布实施 发改委 抓紧制定出台配气价格监管规则 人社部 9月底前基本实现跨省异地就医住院费用直接结算 23日成品油将迎年内第六次下调 降幅或达270元 吨 国防科工局 推进军工企业混改 加快军工资产证券化进程 广电总局要求新浪微博等网站关停视听节目 欧美股指延续涨跌不一的走势 消息面上 外围市场整体稳健 国内信息面则继续是不死不活的形式 预计市场继续走整理行情 技术分析 技术上看 市场昨日走势在午后全线跳水 主板创新高后回落 创业板则是继续在1800点附近做整理 相比于主板则显得较为弱势 技术上看 市场周五将依然不会有大行情 但是二八转换的格局将可能随时出现 今日大盘下档第一支撑位在3130点 第二支撑位在3100 上档第一压力位在3160点 第二压力位在3180点 今日走势 欧美股指高位整理 隔夜信息面依然没有什么实质性的利好 今天继续有新股申购 在这样的情况下 预计大盘再度平开或小幅低开可能性大 整体看今天指数出现调整的可能性大 日线继续以小阴 小阳或十字星线为主 随时防止主板可能出现的回调 今日操作 就昨日市场的走势看 依然是面子行情 更是将中小创再度推到了一个极为尴尬的境地 当然在筑底的过程中很多的不确定因素将会愈发明显 因此建议大家操作继续在短期寻求涨幅不大的个股或者是底部放量的个股 尤其是再加上业绩稳定的个股将是最好 逢低介入 操作上短期建议执行快进快出的策略 远离短期涨幅过大的个股 具体操作坚持大涨卖 大跌买 不涨不跌选择观望的策略 从昨日市场走势看 又一次证明了彬哥之前所让大家关注的3180点主板可能回调的观点是正确的 而主板也确实在3180点附近出现了回调 对于这样的回调 彬哥认为是一个健康的事情 也是一个必须要出现的事情 现在唯一不能确定的就是在主板回调的时候中小创会不会出现企稳 会不会出现让投资者操作的机会 因此大家今天上午需要至少需要半天的时间去观察市场可能出现的结果 目前行情有一点可以确定的就是主板将会在3180点附近出现调整 因此大家万不可在这个时候再去追涨主板的个股 尤其是以保险银行为首的上证50个股 就周四午后市场的走势看 主板的调整势在必行 因此大家要做好主板调整的心理准备 当然还要做好市场全线调整的心理预期',\n",
              " '原标题 武汉警方一下子抓了808人 还都是俊男靓女 原来他们每天偷偷摸摸干这事 武汉警方一下子抓了808人 还都是俊男靓女 原来他们每天偷偷摸摸干这事 大家还记得今年4月光谷曾发生的一件大事吗 当时微博和朋友圈上都传疯了 说是光谷国际广场大量白领被捕 现场手铐都不够用 结果经记者深入调查后发现 这些被抓的并不是网传的 白领 而是一个有282名涉案人员的诈骗团伙 天呐 接近300人的犯罪团伙 你以为这个数字已经够庞大了吗 错 还有让你更震惊的 据武汉市公安局通报 6月9日 警方在武汉三镇的10处窝点内 抓获了808名嫌疑人 而且令人大跌眼镜的是 他们当中大多都是年青人 用 俊男靓女 来形容也不为过 年纪不大 外形不差 那么到底是犯了什么事呢 其实说起来 这事估计绝大多数人都碰到过 那就是网络诈骗 涉案电脑800余台 手机2000余部 银行卡3000余张 因为涉及的账户太多 涉案金额目前还没统计出来 这是全国涉案人数最多的一起特大网络诈骗案 这些惊人的数字背后 究竟藏着什么样的秘密 警方把他们一锅端了 今年4月 武汉警方获悉在塔子湖地区有电信网络诈骗活动 经过2个多月的秘密侦查 发现了一个特大网络诈骗犯罪团伙 原来该团伙利用非法互联网金融平台 实施推荐股票 炒期货等诈骗 其10处窝点散布在江岸 洪山 东湖高新 硚口 江汉等5个区的写字楼内 涉案人员多达800余名 6月9日上午 武汉警方组织了1000余名警力 分成14个抓捕组 同时对首脑分子和10处窝点实施了突击抓捕行动 目前 警方已依法刑事拘留411人 对45人取保候审 该案还在进一步调查中 他们是如何进行诈骗的 人数众多的这个诈骗组织是怎么样进行人员分工 又是如何一步步引受害人上钩的呢 2015年以来 该犯罪团伙以投资组建的某集团公司为总部 旗下成立多家分公司 子公司 设立人事部 财务部 行政部等机构部门 分为经理 分析师 业务小组长 业务员等组织层级 在网上发布招聘信息招揽 培训业务员 依托虚构的互联网金融平台 通过业务员散布 有内幕消息 等虚假信息 引诱受害人加入专门的QQ群 微信群 再由所谓的 证券公司资深分析师 和 经理 逐个联系受害人 引诱受害人交易股票 期货 贵金属 外汇等金融产品 受害人若获利则按 五五 六四 分成 若亏损则拉入 黑名单 不再联系 网友热评 李晓猫不吃鱼 在人信汇写字楼面试过一个这种工作 一听不对劲就撤了 说不适合我 我嘴巴笨 习惯就好33xxzz 八百多人 可能相当部分人都不大清楚自己到底是啥性质工作吧 刑法守望者 要警惕了 普法 各种工作都要预防法律风险 要做个明白人 不是什么钱都可以拿 尤其是从事金融 保险 银行 财务的人员 不小心就触犯刑法 童颜永在 心理医生 盘在写字楼内的诈骗公司 以高薪招聘业务人员为诱饵 实行诈骗的顽疾 终于被揣掉了 你的渔船 联系一下自己的朋友 看有多少个被抓了 The former degrees 招聘平台和销售会上百分之八十就是这种工作 从源头抓起 防止更多人受伤 宇宇家的小仙女 恐怖 进了一个星期发现不太对劲 这尼玛是让我骗人啊 赶紧自己跑路了 z_路漫漫 我做过 后来听说公司跑路了 睡不饱怎么办啊小铭大 我都面试过这种工作 还培训了几天 话术一看就的套路骗 果断闪人 这种公司太多了 遗忘的金叶子 碰到这样的骗子找我们做视频 最后被我打电话骂了一顿 a一元复始c 还有那些天天电话骚扰别人信贷的 卖房的 卖邮票的 发票的社会生活中一不留神就会被坑 所以活着需要理智 笑看世间丑2448337651 这是在路上发骗广告搞高利贷的那些互联网金融公司吗 未来温暖的时光属于自己 金融港 街道口都是这些 好多同学刚刚毕业都去做过 都是网上投简历 这些公司就猛联系你 其实好多都不知道这是骗人的吧 有强迫症的天蝎座怪咖 吓到我了 冉冉的彗星是个宝 早上还接到说做期货 霖心金鱼And张蒙 都不敢去找工作了 蒋妈妈1 5 刚回到武汉 准备找份工作 看网上好多这种招聘的 感觉像骗人的 都不看的 看了网友的评论 小编只有一个感觉 找工作时一定要擦亮双眼 不要因为一时疏忽 而给自己的生活抹上污点 俗话说 知己知彼百战不殆 弄清网络诈骗的常见手法 才能避免上当受骗 下面就为大家奉上防骗攻略 遇到诈骗只需见招拆招 网络防骗攻略 电信网络诈骗犯罪往往表现为 六大陷阱 1 物美价廉的网购陷阱 2 推销产品的便利陷阱 3 异性交友的情感陷阱 4 中奖信息的惊喜陷阱 5 冒充国家工作人员的恐吓陷阱 6 钓鱼网站和网上银行的迷惑陷阱 下面是网络诈骗中比较常见的几种类型 一起学习如何防范 让骗子无处遁形 1虚假红包诈骗 临近节日时 各大电商平台会以派发红包的形式 为促销活动预热 有不法分子趁机在微信朋友圈 微信群等平台中 派发虚假红包 诱骗大家点击 套取个人信息 或传播木马病毒 盗取银行账号 识骗方法 慎点此类红包领取链接 如果不小心点击 应第一时间关闭手机网络 修改网银 支付宝等重要账户密码 并通过安全软件查杀木马病毒 2二维码诈骗 抢购高峰期 网页打开慢 网银交易出现比较迟钝现象 有不法分子会冒充客服或店主 以单子出现 调单 卡单 等说法为幌子 故意说没有收到款项欺诈消费者 取得信任后要求消费者以其他办法进行转账 识骗方法 消费者要注意 调单 卡单 激活订单等多为诈骗术语 见此类词语基本可以断定对方是骗子 没有收到款项这样的问题 是不会在东京 天猫这样的大型网络购物平台出现的 3钓鱼网站诈骗 节假日期间 公众的购物热情高涨 假冒正规电商官方网站 在线支付平台等的钓鱼网站活动频繁 消费者在忙于浏览各色商品页面时 往往容易忽略链接的安全性 从而误入诈骗分子发来的虚假钓鱼网站 识骗方法 对陌生人发来的商品链接要提高警惕 谨慎打开 如遇网络诈骗应第一时间向属地公安机关报案 并向举报中心举报 4虚假客服诈骗 抢购高峰期 网页打开慢 网银交易出现比较迟钝现象 有不法分子会冒充客服或店主 以单子出现 调单 卡单 等说法为幌子 故意说没有收到款项欺诈消费者 取得信任后要求消费者以其他办法进行转账 识骗方法 消费者要注意 调单 卡单 激活订单等多为诈骗术语 见此类词语基本可以断定对方是骗子 没有收到款项这样的问题 是不会在东京 天猫这样的大型网络购物平台出现的 5预购诈骗 还有不法分子会以 提前购 预售 为诱饵向用户发送木马链接 除了网购链接被植入木马 钓鱼网站 还有不法分子会在 预售 活动上做文章 骗取买家 定金 识骗方法 慎点不明链接 有关购物短信也不要轻信 同时也请给手机装上杀毒软件 提供安全的上网环境 6中奖诈骗 购物过后 很多人会陆陆续续收到一些商家的中奖信息 切记不要随意拨打中奖信息提供的电话号码或点击发来的网站链接地址 很可能会让手机或电脑感染上木马病毒 识骗方法 收到中奖信息后留心一下 看一看你所购买的产品中有没有这家的产品 然后最好能在天猫店里直接和卖家联系确认消息 7朋友圈诈骗 由于缺少第三方监管平台 不法分子会在朋友圈发布虚假低价购物信息 骗取消费者汇款购买 识骗方法 朋友圈里的销售行为 存在取证难 查处难的问题 因此建议大家在朋友圈买东西时 尽可能选择正规第三方支付平台进行支付 避免直接支付 以确保安全 8快递诈骗 不法分子会从非法渠道获得客户信息 制作假的快递单 随后冒充快递员提前联系受骗者 把虚假货品送到消费者手中 骗取钱财 识骗方法 签收包裹前 务必按官方的信息核实对方身份 并确认是否是自己的包裹 在取货之后 一定记得把自己的个人信息从包裹上完全抹去 避免个人信息泄露 9退款诈骗 不法分子常以 退款 或 退货 为由假扮网店客服 要求消费者点击其提供的 钓鱼网站 链接 盗取持卡人的银行密码及动态验证码 识骗方法 如果接到网上购物退款的电话或短信等信息 一定要谨慎对待 切莫泄露银行卡账号 户名 动态验证码等个人信息 同时 提醒大家 保护好自己账户信息 遇到情况一定及时报警 武汉破特大网络诈骗案抓808人 以 内幕消息 骗人 6月12日 武汉市公安局向澎湃新闻通报 该局破获一起特大网络诈骗案 抓获包括卢某 熊某等8名首脑分子在内的涉案人员808名 查扣涉案电脑800余台 手机2000余部 银行卡3000余张 据悉 这是全国打击利用非法互联网金融平台实施诈骗犯罪中 查获涉案人数最多的一起案件',\n",
              " '6月21日 A股纳入MSCI指数尘埃落定 但当天被寄予厚望的券商股并未扛起反弹大旗 22日 在222只纳入MSCI指数的A股股票中 银行股全线飘红 其中招商银行领涨 涨幅达6 66 保险股和券商股的表现也可圈可点 在这222只股票中 金融板块的股票数量和总市值占比均位居首位 分析人士指出 银行股股息率高 估值低 收益稳定 对于资金量较大 投资期限较长的资金存在相当大的吸引力 从国际经验来看 纳入MSCI指数后 相关股市的投资者风格将更加稳健 更加偏好业绩稳定 流动性好 风险低的优质蓝筹股 银行股具估值优势 6月22日 A股金融股表现强势 板块涨幅达1 19 据平安证券统计 在222只纳入MSCI指数的A股股票中 金融板块市值占比达41 32 其中银行 证券和保险子板块的市值占比分别为27 30 7 75 和6 24 多家券商研究报告认为 银行等金融股受到纳入MSCI指数的提振 未来更多境外资金将进入金融股 华泰证券表示 在纳入MSCI指数之后 A股将迎来约850亿元人民币的增量资金 其中 考虑到222只股票中 金融股市值占比约42 并且金融股体量大 流动性强 估值低 符合境外资金偏好 有望迎来超过权重的资金比例 预计金融股有望吸引增量资金约350亿元人民币 新富资本证券投资中心研究总监廖云龙认为 银行股脱颖而出的主要原因是低估值 市场预期银行股基本面改善 同时市场整体风格偏保守 偏爱低估值 22日银行股的大涨是市场风格的延续 是投资者对龙头股和对低估值的防御性选择 东方财富choice统计的一季度末QFII重仓股数据显示 银行股是QFII关注的重点之一 在前五十大重仓股中 北京银行 南京银行 宁波银行 上海银行榜上有名']"
            ]
          },
          "metadata": {
            "tags": []
          },
          "execution_count": 11
        }
      ]
    },
    {
      "cell_type": "code",
      "metadata": {
        "id": "WdKyDEVjJuOr",
        "colab_type": "code",
        "colab": {}
      },
      "source": [
        "with open('./drive/My Drive/data/news_sentences_cut.txt', 'w') as f:\n",
        "    for n in news_content:\n",
        "        f.write(n + '\\n')    "
      ],
      "execution_count": 0,
      "outputs": []
    },
    {
      "cell_type": "code",
      "metadata": {
        "id": "s65UpE50J8Kx",
        "colab_type": "code",
        "colab": {}
      },
      "source": [
        "from gensim.models import Word2Vec\n",
        "from gensim.models.word2vec import LineSentence"
      ],
      "execution_count": 0,
      "outputs": []
    },
    {
      "cell_type": "code",
      "metadata": {
        "id": "plxLTkdCKwvX",
        "colab_type": "code",
        "colab": {
          "base_uri": "https://localhost:8080/",
          "height": 71
        },
        "outputId": "cda5a2be-4f5b-4552-e257-bd736e348cfb"
      },
      "source": [
        "news_word2vec_model = Word2Vec(LineSentence('./drive/My Drive/data/news_sentences_cut.txt'), size = 35, workers = 8)"
      ],
      "execution_count": 43,
      "outputs": [
        {
          "output_type": "stream",
          "text": [
            "/usr/local/lib/python3.6/dist-packages/smart_open/smart_open_lib.py:398: UserWarning: This function is deprecated, use smart_open.open instead. See the migration notes for details: https://github.com/RaRe-Technologies/smart_open/blob/master/README.rst#migrating-to-the-new-open-function\n",
            "  'See the migration notes for details: %s' % _MIGRATION_NOTES_URL\n"
          ],
          "name": "stderr"
        }
      ]
    },
    {
      "cell_type": "code",
      "metadata": {
        "id": "Ie4Uh78PK3BK",
        "colab_type": "code",
        "colab": {
          "base_uri": "https://localhost:8080/",
          "height": 71
        },
        "outputId": "934fa053-b186-4705-acac-0f5b8a9a916e"
      },
      "source": [
        "news_word2vec_model.save('./drive/My Drive/model/news_word2vec.model')"
      ],
      "execution_count": 46,
      "outputs": [
        {
          "output_type": "stream",
          "text": [
            "/usr/local/lib/python3.6/dist-packages/smart_open/smart_open_lib.py:398: UserWarning: This function is deprecated, use smart_open.open instead. See the migration notes for details: https://github.com/RaRe-Technologies/smart_open/blob/master/README.rst#migrating-to-the-new-open-function\n",
            "  'See the migration notes for details: %s' % _MIGRATION_NOTES_URL\n"
          ],
          "name": "stderr"
        }
      ]
    },
    {
      "cell_type": "code",
      "metadata": {
        "id": "cZF42lYlL0sM",
        "colab_type": "code",
        "colab": {
          "base_uri": "https://localhost:8080/",
          "height": 71
        },
        "outputId": "5c48a956-ff5c-487c-cb76-b221aa1b5dca"
      },
      "source": [
        "model = Word2Vec.load('./drive/My Drive/model/news_word2vec.model')"
      ],
      "execution_count": 14,
      "outputs": [
        {
          "output_type": "stream",
          "text": [
            "/usr/local/lib/python3.6/dist-packages/smart_open/smart_open_lib.py:398: UserWarning: This function is deprecated, use smart_open.open instead. See the migration notes for details: https://github.com/RaRe-Technologies/smart_open/blob/master/README.rst#migrating-to-the-new-open-function\n",
            "  'See the migration notes for details: %s' % _MIGRATION_NOTES_URL\n"
          ],
          "name": "stderr"
        }
      ]
    },
    {
      "cell_type": "code",
      "metadata": {
        "id": "8NF5X_uTa2Be",
        "colab_type": "code",
        "colab": {}
      },
      "source": [
        "from collections import defaultdict\n",
        "def get_related_words(initial_word, model, topn = 20):\n",
        "    \n",
        "    unseen = initial_word\n",
        "    seen = defaultdict(int)\n",
        "    \n",
        "    max_size = 500\n",
        "    \n",
        "    while unseen and len(seen) < max_size:\n",
        "        if len(seen)% 50 == 0:\n",
        "            print(\"seen length : {}\".format(len(seen)))\n",
        "            \n",
        "        node = unseen.pop(0)\n",
        "        new_expanding = [w for w,s in model.most_similar(node, topn = topn)]\n",
        "        unseen += new_expanding\n",
        "        \n",
        "        seen[node] += 1\n",
        "    return seen"
      ],
      "execution_count": 0,
      "outputs": []
    },
    {
      "cell_type": "code",
      "metadata": {
        "id": "KimgyJiBcRuZ",
        "colab_type": "code",
        "colab": {
          "base_uri": "https://localhost:8080/",
          "height": 309
        },
        "outputId": "66ec3706-f309-4055-9f1e-600bd9add7b1"
      },
      "source": [
        "related_words = get_related_words(['说', '表示'], model)"
      ],
      "execution_count": 97,
      "outputs": [
        {
          "output_type": "stream",
          "text": [
            "seen length : 0\n"
          ],
          "name": "stdout"
        },
        {
          "output_type": "stream",
          "text": [
            "/usr/local/lib/python3.6/dist-packages/ipykernel_launcher.py:14: DeprecationWarning: Call to deprecated `most_similar` (Method will be removed in 4.0.0, use self.wv.most_similar() instead).\n",
            "  \n",
            "/usr/local/lib/python3.6/dist-packages/gensim/matutils.py:737: FutureWarning: Conversion of the second argument of issubdtype from `int` to `np.signedinteger` is deprecated. In future, it will be treated as `np.int64 == np.dtype(int).type`.\n",
            "  if np.issubdtype(vec.dtype, np.int):\n"
          ],
          "name": "stderr"
        },
        {
          "output_type": "stream",
          "text": [
            "seen length : 50\n",
            "seen length : 50\n",
            "seen length : 50\n",
            "seen length : 100\n",
            "seen length : 150\n",
            "seen length : 200\n",
            "seen length : 250\n",
            "seen length : 300\n",
            "seen length : 350\n",
            "seen length : 400\n",
            "seen length : 450\n"
          ],
          "name": "stdout"
        }
      ]
    },
    {
      "cell_type": "markdown",
      "metadata": {
        "id": "AeUIY42WnYOP",
        "colab_type": "text"
      },
      "source": [
        "### TD-IDF"
      ]
    },
    {
      "cell_type": "code",
      "metadata": {
        "id": "DoSWxbfSc1l0",
        "colab_type": "code",
        "colab": {}
      },
      "source": [
        "import math\n",
        "\n",
        "def document_frequency(word, document):\n",
        "    return sum(1 for n in news_content if word in n)\n",
        "\n",
        "def idf(word, document):\n",
        "    return math.log10(len(news_content)/document_frequency(word, document))\n",
        "           "
      ],
      "execution_count": 0,
      "outputs": []
    },
    {
      "cell_type": "code",
      "metadata": {
        "id": "pSGDa_JEn8W7",
        "colab_type": "code",
        "colab": {}
      },
      "source": [
        "def tf(word, document):\n",
        "    words = document.split()\n",
        "    return sum(1 for w in words if w == word)   "
      ],
      "execution_count": 0,
      "outputs": []
    },
    {
      "cell_type": "code",
      "metadata": {
        "id": "cLMp9W64oAbh",
        "colab_type": "code",
        "colab": {}
      },
      "source": [
        "def get_key_word_of_document(document, all_document):\n",
        "    words = set(document.split())\n",
        "    \n",
        "    tfidf = [(w, tf(w, document) * idf(w, all_document)) for w in words]\n",
        "    \n",
        "    tfidf = sorted(tfidf, key = lambda x: x[1], reverse = True)\n",
        "    \n",
        "    return tfidf"
      ],
      "execution_count": 0,
      "outputs": []
    },
    {
      "cell_type": "code",
      "metadata": {
        "id": "9ZTkmNUqoVo8",
        "colab_type": "code",
        "colab": {
          "base_uri": "https://localhost:8080/",
          "height": 187
        },
        "outputId": "d06c5884-2343-4269-ca7e-2c49603dd746"
      },
      "source": [
        "get_key_word_of_document(news_content[11], news_content)[:10]"
      ],
      "execution_count": 18,
      "outputs": [
        {
          "output_type": "execute_result",
          "data": {
            "text/plain": [
              "[('市场', 21.353584391728972),\n",
              " ('股指', 18.198034968575843),\n",
              " ('周四', 17.26088617439966),\n",
              " ('均线', 15.505514875366993),\n",
              " ('板块', 15.184208429020511),\n",
              " ('创业板', 15.040542723113257),\n",
              " ('沪', 14.096891190311872),\n",
              " ('反弹', 11.40131732928378),\n",
              " ('巨丰', 11.244724023409647),\n",
              " ('普涨', 11.1657372072426)]"
            ]
          },
          "metadata": {
            "tags": []
          },
          "execution_count": 18
        }
      ]
    },
    {
      "cell_type": "markdown",
      "metadata": {
        "id": "y5Gy-s7l6QMd",
        "colab_type": "text"
      },
      "source": [
        "### wordcloud"
      ]
    },
    {
      "cell_type": "code",
      "metadata": {
        "id": "DjrimEVKoQQJ",
        "colab_type": "code",
        "colab": {}
      },
      "source": [
        "import wordcloud"
      ],
      "execution_count": 0,
      "outputs": []
    },
    {
      "cell_type": "code",
      "metadata": {
        "id": "jfRPOdw58o0D",
        "colab_type": "code",
        "colab": {}
      },
      "source": [
        "wc = wordcloud.WordCloud('./drive/My Drive/font/SourceHanSerifSC-Regular.otf')"
      ],
      "execution_count": 0,
      "outputs": []
    },
    {
      "cell_type": "code",
      "metadata": {
        "id": "aS1shxKAFhSf",
        "colab_type": "code",
        "colab": {
          "base_uri": "https://localhost:8080/",
          "height": 54
        },
        "outputId": "4d3138b0-5b7f-451a-ce06-f159558d3924"
      },
      "source": [
        "news_content[4]"
      ],
      "execution_count": 21,
      "outputs": [
        {
          "output_type": "execute_result",
          "data": {
            "text/plain": [
              "'原 标题   44 岁 女子 跑 深圳 约会 网友 被 拒   暴雨 中 裸身 奔走   深圳 交警 微博称   昨日 清晨 交警 发现 有 一 女子 赤裸 上身   行走 在 南坪 快速 上   期间 还 起 了 轻生 年头   一辅警 发现 后 赶紧 为 其 披上 黄衣   并 一路 劝说 她   那么 事发 时   到底 都 发生 了 些 什么 呢   南 都 记者 带 您 一起 还原 现场   南 都 记者 在 龙岗 大队 坂田 中队 见到 了 辅警 刘青   发现 女生 的 辅警   一位 外表 高大 帅气   说话 略带 些 腼腆 的 90 后 青年   刘青 介绍   6 月 16 日 早上 7 时 36 分   他 正在 环城 南路 附近 值勤   接到 中队 关于 一位 女子 裸身 进入 机动车 可能 有 危险 的 警情   随后 骑着 小 铁骑 开始 沿路 寻找   大概 花 了 十多分钟 在 南坪 大道 坂田 出口 往 龙岗 方向 的 逆行 辅道 上 发现 该 女子   女子 身上 一丝不挂 地逆 车流 而行   时 走时 停   时 坐 时 躺   险象环生   刘青停 好 小 铁骑   和 另外 一名 巡防 员 追 了 上去   发现 女子 的 情绪 很 低落   话 不 多   刘青 尝试 和 女子 交流   劝说 女子 离开   可 女子 并 不 愿意 接受   继续 缓慢 地往 南坪 快速路 的 主干道 上 走 去   此时 路边 上 已经 聚集 了 很 市民 围观   为了 不 刺激 女子 的 情绪   刘青 和 巡防 员 一边 盯 着 女子 一边 驱赶 着 围观 的 群众   现场 还原   从 警方 提供 的 一份 视频 了解 到   16 日 早上 7 时 25 分   女子 出现 在 坂雪岗 大道 与 环城 南路 的 监控 视频 中   此时 女子 还 穿着 白色 的 内裤   正 沿着 坂雪岗 大道 往 南坪 快速 的 方向 缓慢 地 走 着   当时 正值 上班 高峰期   十字路口 的 车流 已经 排起 了 长队   当 女子 出现 时   路上 的 市民 纷纷 驻足 观望   不少 车辆 也 放慢 了 速度   但 女子 并 不 为 市民 观望 停下 脚步   依然 缓慢 走 着   当 女子 行进 到 十字路口 中间 时   一辆 大 货车 挡住 了 镜头   但是 当 女子 再次出现 镜头 时   可以 发现 女子 已经 没 穿 内裤 了   全身 裸露 继续 朝着 南坪 快速 方向 走 去   记者 发现   视频 中 女子 周围 并 没有 人 尾随 或者 上前 劝止 的 市民   一 大清早 路上 看到 这样 的 情况   恐怕 大家 都 没 办法 淡定   面对 这一 情况   刘青 表示   一 开始 根本 不敢 看 她   心里 挺 别扭   感觉 很 尴尬   但 当 刘青 跟随 女子 上 了 南坪 快速路 主干道 时   女子 作出 了 让 人 意想不到 的 举动   她 突然 靠近 护栏 要 从 上面 跳下去   刘青 赶忙 冲上去 拉住 了 女子 的 手   将 其 控制 住 并 远离 护栏   碍于 女子 没有 穿衣服   刘青递 上 衣服   女子 没 接受 还 把 衣服 扔 到 排水沟 里   继续 往前走   没 办法 刘青 只能 紧紧 拉 着 她 的 一只 手 跟 在 后面   刘青 一路上 耐心 地 开导 安慰 她   但 只 听到 她 不断 地 重复 着 一句 话   要是 你 也 遭遇 我 的 事   你 也 会 这样 的   期间 她 还 不时 试图 挣脱 刘青 的 手要 冲向 护栏 往下跳   就 这样   我 被 牵 着 走 了 大概 十多分钟   天 突然 下起 了 大暴雨   雨大 的 连 眼睛 都 睁不开   刘青 继续 说 着   瞬间 他们 就 被 雨 透 了   但 女子 依然 不 愿意 接受 刘青 的 帮助   就 继续 冒 着 大雨 往前走   大概 走 了 有 四十分钟 吧   女子 突然 停下 来说   我 想 回家 了   然后 女子 也 接受 了 刘青 递过来 的 小 黄衣   就 出现 了 深圳 微博上 的 照片   女子 披着 小 黄衣   刘青 小心翼翼 地 在 旁边 走 着 的 场景   从 南平 快速 下来 后   刘青 和 巡防 员 将 女子 带到 了 附近 的 坂田 派出所   那 姑娘 到底 是 遭遇 了 什么样 的 事情   才 会 说   要是 你 也 遭遇 我 的 事   你 也 会 这样   据 警方 透露   该 女子 姓 陈   系 湖北 人   今年 44 岁   据 家属 反映 其有 精神病 史   三天 前   陈某 从 老家 来 深圳 约会 网友   但 约会 受挫 导致 情绪 异常   女子 遂 产生 轻生 念头   目前   陈某 已经 被 送往 深圳 某 精神病 医院 进行 治疗   大大 君 只 希望 姑娘 能 早点 康复   其实 真爱 的 到来 并 不 存在 年龄 的 限制   你们 说 呢   因 善良 的 原因   一众 网友 纷纷 为   交警 暖 男点 ZAN   弓常 yan 桦   就 想 问 这个 小 哥哥 有 女票 吗   原谅 我 这 一辈子 浪荡 不羁 爱 萨摩耶   有 什么 过不去 的 要 轻生 嘛   想想 自己 的 家人   同时 也 感谢 交警 蜀黍   火心 聆听 心灵   点赞 交警   中華云盾   警察   警察 就是 群众 最 需时 申出 援手   Tomchlee   蜀黍 帅   SJ   李赫海 i   这个 交警 很 暖 有 木有   男子 迷奸 网友 拍 418 个 视频   女方 从 20 岁 到 50 岁 不 等   去年 6 月 7 号 上午   淮安市 涟水县 公安局 刑警大队 突然 接到 了 一个 奇怪 的 报警 电话   一名 女子 言语 不清   声称 自己 遭到 了 侵害   女子   被 侵害   言语 不清   几个 关键词 令 接到 电话 的 民警 瞬间 紧张 起来'"
            ]
          },
          "metadata": {
            "tags": []
          },
          "execution_count": 21
        }
      ]
    },
    {
      "cell_type": "code",
      "metadata": {
        "id": "tKebIhuAFl22",
        "colab_type": "code",
        "colab": {}
      },
      "source": [
        "import matplotlib.pyplot as plt\n",
        "%matplotlib inline"
      ],
      "execution_count": 0,
      "outputs": []
    },
    {
      "cell_type": "code",
      "metadata": {
        "id": "ib1_J4ABFqgX",
        "colab_type": "code",
        "colab": {}
      },
      "source": [
        "machine_new_keywords = get_key_word_of_document(news_content[101], news_content)"
      ],
      "execution_count": 0,
      "outputs": []
    },
    {
      "cell_type": "code",
      "metadata": {
        "id": "yKchBDojHuzK",
        "colab_type": "code",
        "colab": {
          "base_uri": "https://localhost:8080/",
          "height": 170
        },
        "outputId": "e381cf68-04f6-4848-b6cb-f31e60774ac3"
      },
      "source": [
        "machine_new_keywords[1:10]"
      ],
      "execution_count": 24,
      "outputs": [
        {
          "output_type": "execute_result",
          "data": {
            "text/plain": [
              "[('工业', 13.726799287798574),\n",
              " ('百强', 12.218936930008129),\n",
              " ('机械行业', 11.732905915902746),\n",
              " ('王瑞祥', 9.904722647584947),\n",
              " ('中机联', 9.904722647584947),\n",
              " ('增速', 8.057368905265053),\n",
              " ('态势', 7.971371787277901),\n",
              " ('恢复性', 6.867694767829172),\n",
              " ('规模', 6.861746056315247)]"
            ]
          },
          "metadata": {
            "tags": []
          },
          "execution_count": 24
        }
      ]
    },
    {
      "cell_type": "code",
      "metadata": {
        "id": "HIgD1vkDH43n",
        "colab_type": "code",
        "colab": {}
      },
      "source": [
        "machine_news_keywords_dict = {w:score for w, score in machine_new_keywords}"
      ],
      "execution_count": 0,
      "outputs": []
    },
    {
      "cell_type": "code",
      "metadata": {
        "id": "t2rC8gE9FyWL",
        "colab_type": "code",
        "colab": {
          "base_uri": "https://localhost:8080/",
          "height": 306
        },
        "outputId": "fc4ab339-96bd-47ef-ae71-d0ab44366b28"
      },
      "source": [
        "help(wc.generate_from_frequencies)"
      ],
      "execution_count": 26,
      "outputs": [
        {
          "output_type": "stream",
          "text": [
            "Help on method generate_from_frequencies in module wordcloud.wordcloud:\n",
            "\n",
            "generate_from_frequencies(frequencies, max_font_size=None) method of wordcloud.wordcloud.WordCloud instance\n",
            "    Create a word_cloud from words and frequencies.\n",
            "    \n",
            "    Parameters\n",
            "    ----------\n",
            "    frequencies : dict from string to float\n",
            "        A contains words and associated frequency.\n",
            "    \n",
            "    max_font_size : int\n",
            "        Use this font-size instead of self.max_font_size\n",
            "    \n",
            "    Returns\n",
            "    -------\n",
            "    self\n",
            "\n"
          ],
          "name": "stdout"
        }
      ]
    },
    {
      "cell_type": "code",
      "metadata": {
        "id": "_yMjHjJFHk5G",
        "colab_type": "code",
        "colab": {
          "base_uri": "https://localhost:8080/",
          "height": 236
        },
        "outputId": "63595b6d-c28b-4a02-b3e7-3b43d23c881a"
      },
      "source": [
        "plt.imshow(wc.generate_from_frequencies(machine_news_keywords_dict))"
      ],
      "execution_count": 27,
      "outputs": [
        {
          "output_type": "execute_result",
          "data": {
            "text/plain": [
              "<matplotlib.image.AxesImage at 0x7f8a8e1223c8>"
            ]
          },
          "metadata": {
            "tags": []
          },
          "execution_count": 27
        },
        {
          "output_type": "display_data",
          "data": {
            "image/png": "[encoded data removed]",
            "text/plain": [
              "<Figure size 432x288 with 1 Axes>"
            ]
          },
          "metadata": {
            "tags": []
          }
        }
      ]
    },
    {
      "cell_type": "code",
      "metadata": {
        "id": "EeG-GFBXI2gl",
        "colab_type": "code",
        "colab": {}
      },
      "source": [
        "shenzhen_social_news = get_key_word_of_document(news_content[4], news_content)"
      ],
      "execution_count": 0,
      "outputs": []
    },
    {
      "cell_type": "code",
      "metadata": {
        "id": "7hjCSCjzQWaO",
        "colab_type": "code",
        "colab": {}
      },
      "source": [
        "from PIL import Image"
      ],
      "execution_count": 0,
      "outputs": []
    },
    {
      "cell_type": "code",
      "metadata": {
        "id": "xYwA1FW5Qh9v",
        "colab_type": "code",
        "colab": {}
      },
      "source": [
        "import numpy as np"
      ],
      "execution_count": 0,
      "outputs": []
    },
    {
      "cell_type": "code",
      "metadata": {
        "id": "GHGLAM7dQj1Y",
        "colab_type": "code",
        "colab": {}
      },
      "source": [
        "duola_mask = np.array(Image.open('./drive/My Drive/data/duola.jpg'))"
      ],
      "execution_count": 0,
      "outputs": []
    },
    {
      "cell_type": "code",
      "metadata": {
        "id": "GOBYpt0_QwIV",
        "colab_type": "code",
        "colab": {}
      },
      "source": [
        "wordcloud_with_mask = wordcloud.WordCloud(font_path = './drive/My Drive/font/SourceHanSerifSC-Regular.otf', mask=duola_mask)"
      ],
      "execution_count": 0,
      "outputs": []
    },
    {
      "cell_type": "code",
      "metadata": {
        "id": "NqzrHOmwRMaT",
        "colab_type": "code",
        "colab": {
          "base_uri": "https://localhost:8080/",
          "height": 236
        },
        "outputId": "967de2ba-4819-45d3-c810-c680f3444638"
      },
      "source": [
        "plt.imshow(wc.generate_from_frequencies({w:s for w,s in shenzhen_social_news[:20]}))"
      ],
      "execution_count": 33,
      "outputs": [
        {
          "output_type": "execute_result",
          "data": {
            "text/plain": [
              "<matplotlib.image.AxesImage at 0x7f8a8cf325f8>"
            ]
          },
          "metadata": {
            "tags": []
          },
          "execution_count": 33
        },
        {
          "output_type": "display_data",
          "data": {
            "image/png": "[encoded data removed]",
            "text/plain": [
              "<Figure size 432x288 with 1 Axes>"
            ]
          },
          "metadata": {
            "tags": []
          }
        }
      ]
    },
    {
      "cell_type": "code",
      "metadata": {
        "id": "G9laqIW2RUhI",
        "colab_type": "code",
        "colab": {
          "base_uri": "https://localhost:8080/",
          "height": 286
        },
        "outputId": "f6cc2cc0-d96c-44bd-e574-6dc37aaa1b19"
      },
      "source": [
        "plt.imshow(wordcloud_with_mask.generate_from_frequencies({w:s for w, s in shenzhen_social_news[:20]}))"
      ],
      "execution_count": 34,
      "outputs": [
        {
          "output_type": "execute_result",
          "data": {
            "text/plain": [
              "<matplotlib.image.AxesImage at 0x7f8a8c6cdac8>"
            ]
          },
          "metadata": {
            "tags": []
          },
          "execution_count": 34
        },
        {
          "output_type": "display_data",
          "data": {
            "image/png": "[encoded data removed]",
            "text/plain": [
              "<Figure size 432x288 with 1 Axes>"
            ]
          },
          "metadata": {
            "tags": []
          }
        }
      ]
    },
    {
      "cell_type": "markdown",
      "metadata": {
        "id": "K8yOxRsySPSF",
        "colab_type": "text"
      },
      "source": [
        "### TF_IDF vectorized"
      ]
    },
    {
      "cell_type": "code",
      "metadata": {
        "id": "v9DefDwXRZPB",
        "colab_type": "code",
        "colab": {}
      },
      "source": [
        "from sklearn.feature_extraction.text import TfidfVectorizer"
      ],
      "execution_count": 0,
      "outputs": []
    },
    {
      "cell_type": "code",
      "metadata": {
        "id": "3vQsMPsASXhk",
        "colab_type": "code",
        "colab": {}
      },
      "source": [
        "vectorized = TfidfVectorizer(max_features = 10000)"
      ],
      "execution_count": 0,
      "outputs": []
    },
    {
      "cell_type": "code",
      "metadata": {
        "id": "uWzZ14PCUYQm",
        "colab_type": "code",
        "colab": {}
      },
      "source": [
        "x = vectorized.fit_transform(news_content)"
      ],
      "execution_count": 0,
      "outputs": []
    },
    {
      "cell_type": "code",
      "metadata": {
        "id": "36fiD8q8UavU",
        "colab_type": "code",
        "colab": {
          "base_uri": "https://localhost:8080/",
          "height": 34
        },
        "outputId": "4b0dcdc9-3172-4fc1-b974-7bb91a06f873"
      },
      "source": [
        "x.shape"
      ],
      "execution_count": 38,
      "outputs": [
        {
          "output_type": "execute_result",
          "data": {
            "text/plain": [
              "(89611, 10000)"
            ]
          },
          "metadata": {
            "tags": []
          },
          "execution_count": 38
        }
      ]
    },
    {
      "cell_type": "code",
      "metadata": {
        "id": "eSl-SmgRWBOd",
        "colab_type": "code",
        "colab": {
          "base_uri": "https://localhost:8080/",
          "height": 119
        },
        "outputId": "f3e0a4f5-cd37-4a5a-a582-bba1bf46c63f"
      },
      "source": [
        "np.where(x[0].toarray())"
      ],
      "execution_count": 39,
      "outputs": [
        {
          "output_type": "execute_result",
          "data": {
            "text/plain": [
              "(array([0, 0, 0, 0, 0, 0, 0, 0, 0, 0, 0, 0, 0, 0, 0, 0, 0, 0, 0, 0, 0, 0,\n",
              "        0, 0, 0, 0, 0, 0, 0, 0, 0, 0, 0, 0]),\n",
              " array([  35,   47,  293,  899,  921, 1529, 1717, 1792, 1814, 2522, 2605,\n",
              "        2699, 3976, 4122, 4140, 4407, 4514, 4537, 4807, 4875, 5633, 5738,\n",
              "        5758, 5804, 5884, 6193, 6886, 7321, 7340, 7613, 7675, 9060, 9114,\n",
              "        9615]))"
            ]
          },
          "metadata": {
            "tags": []
          },
          "execution_count": 39
        }
      ]
    },
    {
      "cell_type": "code",
      "metadata": {
        "id": "pltKIiTuW4_J",
        "colab_type": "code",
        "colab": {}
      },
      "source": [
        "import random"
      ],
      "execution_count": 0,
      "outputs": []
    },
    {
      "cell_type": "code",
      "metadata": {
        "id": "mO8FcVXyYSQx",
        "colab_type": "code",
        "colab": {}
      },
      "source": [
        "document_id_1, document_id_2 = random.randint(0, 1000), random.randint(0, 1000)"
      ],
      "execution_count": 0,
      "outputs": []
    },
    {
      "cell_type": "code",
      "metadata": {
        "id": "Xy2HiqpNYam7",
        "colab_type": "code",
        "colab": {
          "base_uri": "https://localhost:8080/",
          "height": 34
        },
        "outputId": "9bd9c15b-b102-4c4c-ea9e-347d6116c77f"
      },
      "source": [
        "document_id_1"
      ],
      "execution_count": 42,
      "outputs": [
        {
          "output_type": "execute_result",
          "data": {
            "text/plain": [
              "699"
            ]
          },
          "metadata": {
            "tags": []
          },
          "execution_count": 42
        }
      ]
    },
    {
      "cell_type": "code",
      "metadata": {
        "id": "omE6-68AYcOo",
        "colab_type": "code",
        "colab": {
          "base_uri": "https://localhost:8080/",
          "height": 34
        },
        "outputId": "bfbbe778-9ab9-4476-b8d9-ae7793266204"
      },
      "source": [
        "document_id_2"
      ],
      "execution_count": 43,
      "outputs": [
        {
          "output_type": "execute_result",
          "data": {
            "text/plain": [
              "326"
            ]
          },
          "metadata": {
            "tags": []
          },
          "execution_count": 43
        }
      ]
    },
    {
      "cell_type": "code",
      "metadata": {
        "id": "M2Gak16nYdQJ",
        "colab_type": "code",
        "colab": {
          "base_uri": "https://localhost:8080/",
          "height": 54
        },
        "outputId": "80a27237-a02c-442a-e3de-a91597845a66"
      },
      "source": [
        "news_content[document_id_1]"
      ],
      "execution_count": 44,
      "outputs": [
        {
          "output_type": "execute_result",
          "data": {
            "text/plain": [
              "'原 标题   安徽 理工大学 学位证书 封面 漏印 字母 校方 收回   去年 曾 印错 内 页   今年 安徽 理工大学 学位证书 封面 上 的 英文单词   bachelor   注   学士   被 印成   bacheor   且 去年 该校 学位证书 内页 曾 出过 错误   6 月 19 日   安徽 理工大学 有关 负责人 告诉 澎湃 新闻   目前   印刷错误 的 学位证书 封面 已 全部 收回   新 的 封面 已 赶制 完成   并 分发 至 各 学院   6 月 17 日   网友   淮南 直播   发帖 称   有 安徽 理工大学 学生 反映   该校 今年 部分 学位证书 封面 上 的 英文单词   bachelor   被 印成   bacheor   并称 该校 学位证书 封面 出错 已经 不是 第一次   2016 年 学位证书 内页 曾 出现 过 错误   当时 被 紧急 收回   澎湃 新闻 注意 到   有 疑似 该校 学生 评论 称   这 很安理   安徽 理工大学   6 月 20 日   安徽 理工大学 研究生院 常务副 院长   党委 研 工部 部长 兼 学位 办公室 主任 徐颖向 澎湃 新闻 表示   6 月 16 日 下午 学位证书 封面 由 各 学院 领走   但 并未 发放 给 学生   每个 学院   都 是 原封不动 地 放在 那里   化学 工程学院 几个 学生 拿出 来看 了 看   发现 了 错误   徐颖 说   对于 印错 的 原因   徐颖 表示   学校 提供 的 设计图 没有 问题   可能 是 负责 印刷 的 浙江 某 印刷厂 校对   排版 出现 错误   印错 一个 字母 也 很 正常 啊   徐颖向 澎湃 新闻 表示   6 月 16 日 当晚 已 连夜 联系 印刷厂 家   6 月 17 日 上午 厂家 已 开始 重新 印刷   6 月 19 日 上午 已 将 新 印刷 的 学位证书 封面 运来   明天   6 月 21 日   上午 开 毕业典礼   今天 或 明天 各 学院 会 把 学位证书 封面 发放 给 学生   毕业证书 和 学位证书 内 页 明天 上午 才 会发   针对 去年 该校 学位证书 被 指内页 曾 出错   徐颖称   去年 内 页 出错 只是 极个别 的   学位 办公室 工作人员 打印 过程 中 打错 了   也 及时 收回 了   是 我们 的 问题   公开 资料 显示   2015 年   国务院学位委员会 和 教育部 联合 印发   学位证书 和 学位 授予 信息管理 办法   称   自 2016 年 1 月 1 日起   学位证书 由 各 学位 授予 单位 自行 印制   国务院学位委员会 办公室 印制 的 学位证书 不再 使用   徐颖向 澎湃 新闻 表示   去年 第一次 改   全国 也 有 别的 高校 出 了 错误   学校 当然 不 应该 出现 这种 错误   我们 承认 工作 上 有 失误'"
            ]
          },
          "metadata": {
            "tags": []
          },
          "execution_count": 44
        }
      ]
    },
    {
      "cell_type": "code",
      "metadata": {
        "id": "gyduyXxqYf7V",
        "colab_type": "code",
        "colab": {
          "base_uri": "https://localhost:8080/",
          "height": 54
        },
        "outputId": "bcfa72d3-6648-4a53-a87f-07566d292d21"
      },
      "source": [
        "news_content[document_id_2]"
      ],
      "execution_count": 45,
      "outputs": [
        {
          "output_type": "execute_result",
          "data": {
            "text/plain": [
              "'原 标题   家庭 摄像头 遭 入侵   关键 是 厂家 责任 缺失   网络 上 针对 个人信息   隐私 的 各种 违法   侵权 乃至 犯罪行为 为何 屡禁不止   监管部门 以及 大型 网络平台 失责 是 重要 原因   近日   据 央视 报道   大量 家庭 摄像头 遭 非法 入侵   令 原本 私密 的 家庭 生活 场景   被 陌生人 所 偷窥   猎奇   此 消息 一出   顿时 让 很多 人 感到 惊恐 与 愤怒   事实上   从 厂商   黑客 到 监管部门   再 到 网络 上 的   内容   平台 和 传播者   现有 法律 已经 设置 了 一道 严密 的 防火墙   在 生产 和 销售 环节   如果 家庭 摄像头 是因为 产品质量 而 遭受 入侵   则 厂家 和 商家 需要 承担 相应 的 法律责任   根据   消费者 权益保护法   的 规定   经营者 应当 保证 其 提供 的 商品 或 服务 符合 保障 人身   财产 安全 的 要求   隐私权 便是 重要 的 一项 人身权利   对于 家庭 摄像头 来说   其 产品质量 不 只 限于 实体 的 摄像 清晰 程度   使用 期限   同样 也 包括 内置 软件 的 安全性 和 配置 方案 的 合理性   而 一些 网络 摄像头 可能 由于 软件 安全 的 问题   存在 漏洞   容易 被 黑客攻击 入侵   根据   网络安全 法   第六十条 的 规定   网络 产品 生产厂家 对 其 产品   服务 存在 安全 缺陷 和 漏洞 的   应当 立即 采取 补救措施   因此   家庭 摄像头 的 配套 软件 如果 存在 安全漏洞   同样 属于 厂商 的 产品质量 问题   受害人 可以 向 摄像头 厂商 提起 民事 侵权 索赔   此外   一些 用户 可能 在 使用 家庭 摄像头 时 设置 不当   使用 默认 或是 过于 简单 的 账号 和 密码   这 同样 也 能 导致 摄像头 被 入侵   对于 这种 情况   假如 厂商 在 销售 产品 时 没有 配备 详细 的 说明书   同样 需要 承担 用户 受损 的 产品质量 责任   对于 黑客 来说   同样 面临 多重 的 法律制裁   近年来 尤其 强调 打击 侵犯 公民 个人信息 的 犯罪行为   刑法 上新设 了 侵犯 公民 个人信息 罪   对于 入侵 家庭 摄像头   获取 摄像头 IP地址   账号密码 等 的 黑客 行为   便 有 可能 构成 该罪   即使 黑客 未 成功 获取 这些 信息   但 若 已经 使用 危害 网络安全 的 软件工具 等   也 可能 构成   信息安全 法   上 的 违法行为   可 受到 没收 非法所得   治安拘留 以及 最高 罚款 一百万元 的 治安管理 处罚   在 传播 环节   假如 一些 家庭 隐私 已经 被 窃取   获取   观看 这些 视频 的 个人 则 构成 对 他人 隐私权 的 侵犯   应 承担 侵权 责任   假如 隐私 内容 涉及 色情   相关 传播 人员 还 可能 涉及 传播 淫秽物品 罪   法律 的 防火墙 虽然 看上去 很 严密   但 网络 上 针对 个人信息   隐私 的 各种 违法   侵权 乃至 犯罪行为 却 屡禁不止   个 中 原因 除了 网络 世界 的 复杂性 外   还 包括 监管部门 以及 大型 网络平台 的 失责   网络安全 法   要求 信息 发送 的 服务者 和 软件 下载 服务 的 提供者 尽到 安全 管理 义务   应当 及时发现 网络 上 传播 的 破坏 安全 的 软件   但是 现在 大量 黑客软件 正是 通过 QQ 群等 方式 传播 和 下载   我国 已 制定 了 网络设备 安全 的 国家标准   大量 家庭 摄像头 是否 符合 国家标准   这 需要 监管部门 加大 监管 力度   近年 很少 出现 广为 流行 的 电脑病毒 了   根本原因 并 不 在于 消灭 了 病毒   而 在于 提高 了 系统 的 安全性   防止 家庭 摄像头 遭受 入侵 的 根本 之道 也 在于 此   也 就是 通过 消费者 维权 和 监管部门 的 监管   促使 厂商 提高 安全 技术标准 和 及时 的 安全 服务'"
            ]
          },
          "metadata": {
            "tags": []
          },
          "execution_count": 45
        }
      ]
    },
    {
      "cell_type": "code",
      "metadata": {
        "id": "JsU64JZ5YilV",
        "colab_type": "code",
        "colab": {}
      },
      "source": [
        "vector_id_1 = x[document_id_1].toarray()\n",
        "vector_id_2 = x[document_id_2].toarray()"
      ],
      "execution_count": 0,
      "outputs": []
    },
    {
      "cell_type": "code",
      "metadata": {
        "id": "YtVwG01BYp_p",
        "colab_type": "code",
        "colab": {
          "base_uri": "https://localhost:8080/",
          "height": 34
        },
        "outputId": "81b0aaf4-0396-456a-b49f-9c08de1f9c7b"
      },
      "source": [
        "random_choose = random.randint(0, 1000)\n",
        "random_choose"
      ],
      "execution_count": 47,
      "outputs": [
        {
          "output_type": "execute_result",
          "data": {
            "text/plain": [
              "971"
            ]
          },
          "metadata": {
            "tags": []
          },
          "execution_count": 47
        }
      ]
    },
    {
      "cell_type": "code",
      "metadata": {
        "id": "0KqCG4mRYypz",
        "colab_type": "code",
        "colab": {
          "base_uri": "https://localhost:8080/",
          "height": 54
        },
        "outputId": "edf1f99c-a22c-4a7e-efa2-21820ab891dc"
      },
      "source": [
        "news_content[random_choose]"
      ],
      "execution_count": 48,
      "outputs": [
        {
          "output_type": "execute_result",
          "data": {
            "text/plain": [
              "'央广网 北京 6 月 23 日 消息   据 中国 之声   新闻 和 报纸 摘要   报道   从 21 日 开始   华北 迎来 入汛 来 最强 的 一次 降雨 过程   中央气象台 昨天   22 日   18 点 继续 发布 暴雨 黄色 预警   预计 到 今天   23 日   晚上   河北 东部   北京   天津   山东 北部 等 北方 部分 地区 仍 有 大到暴雨   其中 天津 北部 等 地 局地 有 大暴雨   同时   今天   23 日   起   长江 中下游 安徽   江苏   浙江 等 地 将 迎来 较 强降雨   为 应对 入汛 以来 最强 的 一次 降雨   京津冀 严阵以待   北京 昨天   22 日   起 迎来 阵雨   气温 骤降   在 北京 大兴 榆 垡   降雨量 60   4 毫米   达到 暴雨 级别   北京市 防汛 办 新闻 发言人 刘 宏伟 介绍   已 启动 防汛 三级 应急 响应   关闭 58 家 景区   刘 宏伟   对 城区 的 易 积水 点 进行 了 重点 布控   延庆 和 门头沟 两个 区县 一共 转移 7100 多人   在 河北   保定   石家庄 等 地 遭受 暴雨 袭击   36 个 县 出现 8 级 以上 大风   108 个 县 出现 雷暴   保定 市区 和 曲阳县 等 地 出现 冰雹   受 暴雨 影响   石家庄   保定 等 地 山区 的 旅游 景区 关闭 河北省 防汛 抗旱 指挥部 启动 防汛 IV 级 应急 响应   河北省 防汛 抗旱 指挥部 办公室 督查 专员 魏国 忠 表示   我们 省 67 个 山区县 全部 建成 了 山洪 灾害 预警 平台   当地 乡村干部 会 根据 预警 信息 及时 组织 群众 及时 转移   对于 18 座 大型 水库   我们 正在 采取措施 积极 调度 泄水   自 6 月 20 日 以来   河南 南阳   安阳   新乡 多地 出现 降雨 过程   部分 城市 遭遇 强对流 天气   在 河南 南阳 唐河县   暴风雨 伴随 冰雹 袭击 农田   给 当地 农民 造成 严重 经济损失   唐河县 桐寨 铺 福田 农业 合作社 莲藕 种植 基地 负责人 李丰瑞   3000 多亩 莲藕 的 叶子 都 是 齐头 折断   通过 种植 的 经验 来看   今年 要 面临 非常 大 的 减产   不 只是 北方   南方 也 在 被 暴雨 侵袭   截止 昨天   22   晚上 八点   贵州 全省 已 出现 11 站 大暴雨   167 站 暴雨   今天 起   安徽   江苏   浙江 等 地 也 将 迎来 暴雨   局地 有 大暴雨   中央人民广播电台 推出 新闻热线 4008000088   拨打 热线电话 即可 将 您 手中 的 新闻线索 第一 时间 反馈   我们 将 第一 时间 派出 记者 调查 事件   报道 事实   揭开 真相'"
            ]
          },
          "metadata": {
            "tags": []
          },
          "execution_count": 48
        }
      ]
    },
    {
      "cell_type": "code",
      "metadata": {
        "id": "PXRy_fZ-Y1jj",
        "colab_type": "code",
        "colab": {}
      },
      "source": [
        "from scipy.spatial.distance import cosine"
      ],
      "execution_count": 0,
      "outputs": []
    },
    {
      "cell_type": "code",
      "metadata": {
        "id": "uGA_0gFjY6j6",
        "colab_type": "code",
        "colab": {}
      },
      "source": [
        "def distance(v_1, v_2):\n",
        "    return cosine(v_1, v_2)"
      ],
      "execution_count": 0,
      "outputs": []
    },
    {
      "cell_type": "code",
      "metadata": {
        "id": "IWMPpgUtZAXD",
        "colab_type": "code",
        "colab": {
          "base_uri": "https://localhost:8080/",
          "height": 34
        },
        "outputId": "c46af4cf-2a4c-4c2a-9529-6e9ddd0e59b5"
      },
      "source": [
        "distance([1,1], [2,2])"
      ],
      "execution_count": 52,
      "outputs": [
        {
          "output_type": "execute_result",
          "data": {
            "text/plain": [
              "0.0"
            ]
          },
          "metadata": {
            "tags": []
          },
          "execution_count": 52
        }
      ]
    },
    {
      "cell_type": "code",
      "metadata": {
        "id": "YNFVhUPBZDTt",
        "colab_type": "code",
        "colab": {
          "base_uri": "https://localhost:8080/",
          "height": 34
        },
        "outputId": "eba290f3-9912-44bd-a32b-d3e9f481ad1f"
      },
      "source": [
        "distance([1,1], [-1,1])"
      ],
      "execution_count": 53,
      "outputs": [
        {
          "output_type": "execute_result",
          "data": {
            "text/plain": [
              "1.0"
            ]
          },
          "metadata": {
            "tags": []
          },
          "execution_count": 53
        }
      ]
    },
    {
      "cell_type": "code",
      "metadata": {
        "id": "yPIf39u4ZFmm",
        "colab_type": "code",
        "colab": {
          "base_uri": "https://localhost:8080/",
          "height": 34
        },
        "outputId": "f4e91690-2f5b-45f8-836e-d90177cea7f3"
      },
      "source": [
        "distance(x[random_choose].toarray()[0], x[document_id_1].toarray()[0])"
      ],
      "execution_count": 54,
      "outputs": [
        {
          "output_type": "execute_result",
          "data": {
            "text/plain": [
              "0.908686878753848"
            ]
          },
          "metadata": {
            "tags": []
          },
          "execution_count": 54
        }
      ]
    },
    {
      "cell_type": "code",
      "metadata": {
        "id": "2eYVnQTQbR28",
        "colab_type": "code",
        "colab": {
          "base_uri": "https://localhost:8080/",
          "height": 34
        },
        "outputId": "3b3d7085-2799-462f-add9-03c1a4b6f949"
      },
      "source": [
        "distance(x[random_choose].toarray()[0], x[document_id_2].toarray()[0])"
      ],
      "execution_count": 55,
      "outputs": [
        {
          "output_type": "execute_result",
          "data": {
            "text/plain": [
              "0.9786753959220656"
            ]
          },
          "metadata": {
            "tags": []
          },
          "execution_count": 55
        }
      ]
    },
    {
      "cell_type": "code",
      "metadata": {
        "id": "SEGisKlXbWZ3",
        "colab_type": "code",
        "colab": {
          "base_uri": "https://localhost:8080/",
          "height": 68
        },
        "outputId": "e7a6c81d-7f60-420b-b127-71840bf335bc"
      },
      "source": [
        "distance(model['说'], model['表示'])"
      ],
      "execution_count": 56,
      "outputs": [
        {
          "output_type": "stream",
          "text": [
            "/usr/local/lib/python3.6/dist-packages/ipykernel_launcher.py:1: DeprecationWarning: Call to deprecated `__getitem__` (Method will be removed in 4.0.0, use self.wv.__getitem__() instead).\n",
            "  \"\"\"Entry point for launching an IPython kernel.\n"
          ],
          "name": "stderr"
        },
        {
          "output_type": "execute_result",
          "data": {
            "text/plain": [
              "0.10524886846542358"
            ]
          },
          "metadata": {
            "tags": []
          },
          "execution_count": 56
        }
      ]
    },
    {
      "cell_type": "code",
      "metadata": {
        "id": "nd5mSyi8blD4",
        "colab_type": "code",
        "colab": {
          "base_uri": "https://localhost:8080/",
          "height": 51
        },
        "outputId": "e53765eb-f37d-4821-f355-731ea82bb7cb"
      },
      "source": [
        "y = sorted(list(range(10000)), key=lambda i: distance(x[random_choose].toarray()[0], \n",
        "                                      x[i].toarray()[0]))"
      ],
      "execution_count": 57,
      "outputs": [
        {
          "output_type": "stream",
          "text": [
            "/usr/local/lib/python3.6/dist-packages/scipy/spatial/distance.py:720: RuntimeWarning: invalid value encountered in double_scalars\n",
            "  dist = 1.0 - uv / np.sqrt(uu * vv)\n"
          ],
          "name": "stderr"
        }
      ]
    },
    {
      "cell_type": "code",
      "metadata": {
        "id": "XuzqPBuFbf32",
        "colab_type": "code",
        "colab": {
          "base_uri": "https://localhost:8080/",
          "height": 34
        },
        "outputId": "11da475f-1523-4a44-dc71-5cfbc7107fda"
      },
      "source": [
        "y[:10]"
      ],
      "execution_count": 58,
      "outputs": [
        {
          "output_type": "execute_result",
          "data": {
            "text/plain": [
              "[971, 2725, 308, 7, 13, 92, 78, 48, 42, 108]"
            ]
          },
          "metadata": {
            "tags": []
          },
          "execution_count": 58
        }
      ]
    },
    {
      "cell_type": "code",
      "metadata": {
        "id": "g0L6vyURdK5R",
        "colab_type": "code",
        "colab": {
          "base_uri": "https://localhost:8080/",
          "height": 34
        },
        "outputId": "107343c7-9004-4b42-b8cf-6835b693437b"
      },
      "source": [
        "distance(x[random_choose].toarray()[0], x[971].toarray(0))"
      ],
      "execution_count": 60,
      "outputs": [
        {
          "output_type": "execute_result",
          "data": {
            "text/plain": [
              "0.0"
            ]
          },
          "metadata": {
            "tags": []
          },
          "execution_count": 60
        }
      ]
    },
    {
      "cell_type": "markdown",
      "metadata": {
        "id": "0X-8JyRHf4vF",
        "colab_type": "text"
      },
      "source": [
        "### Build a search engine\n",
        "\n",
        "> Input: Words    \n",
        "Output: Documents "
      ]
    },
    {
      "cell_type": "code",
      "metadata": {
        "id": "RZKSraMQdRIA",
        "colab_type": "code",
        "colab": {}
      },
      "source": [
        "def naive_search(keywords, all_document):\n",
        "    news_ids = [i for i,n in enumerate(all_document) if all(w in n for w in keywords)]\n",
        "    return news_ids"
      ],
      "execution_count": 0,
      "outputs": []
    },
    {
      "cell_type": "code",
      "metadata": {
        "id": "yYSUik4QhE9L",
        "colab_type": "code",
        "colab": {}
      },
      "source": [
        "# %%timeit\n",
        "news_id = naive_search('美军 司令 航母'.split(), news_content)"
      ],
      "execution_count": 0,
      "outputs": []
    },
    {
      "cell_type": "code",
      "metadata": {
        "id": "rnKq-U3yhMp4",
        "colab_type": "code",
        "colab": {
          "base_uri": "https://localhost:8080/",
          "height": 34
        },
        "outputId": "bf493735-2cb6-4c1e-b8d9-16fddd2ad1d7"
      },
      "source": [
        "len(news_content)"
      ],
      "execution_count": 63,
      "outputs": [
        {
          "output_type": "execute_result",
          "data": {
            "text/plain": [
              "89611"
            ]
          },
          "metadata": {
            "tags": []
          },
          "execution_count": 63
        }
      ]
    },
    {
      "cell_type": "code",
      "metadata": {
        "id": "UiA1IEYIhZ0N",
        "colab_type": "code",
        "colab": {
          "base_uri": "https://localhost:8080/",
          "height": 34
        },
        "outputId": "9619cf6d-0026-4379-8502-c8389311f892"
      },
      "source": [
        "x.shape"
      ],
      "execution_count": 64,
      "outputs": [
        {
          "output_type": "execute_result",
          "data": {
            "text/plain": [
              "(89611, 10000)"
            ]
          },
          "metadata": {
            "tags": []
          },
          "execution_count": 64
        }
      ]
    },
    {
      "cell_type": "code",
      "metadata": {
        "id": "biQfzr8_-rGv",
        "colab_type": "code",
        "colab": {}
      },
      "source": [
        "transposed_x = x.transpose().toarray()"
      ],
      "execution_count": 0,
      "outputs": []
    },
    {
      "cell_type": "code",
      "metadata": {
        "id": "_twA4-OB-vJC",
        "colab_type": "code",
        "colab": {}
      },
      "source": [
        "word_2_id = vectorized.vocabulary_"
      ],
      "execution_count": 0,
      "outputs": []
    },
    {
      "cell_type": "code",
      "metadata": {
        "id": "s3NTD76T-8jj",
        "colab_type": "code",
        "colab": {}
      },
      "source": [
        "id_2_word = {d:w for w,d in word_2_id.items()}"
      ],
      "execution_count": 0,
      "outputs": []
    },
    {
      "cell_type": "code",
      "metadata": {
        "id": "VVWkfsz5_Dd4",
        "colab_type": "code",
        "colab": {}
      },
      "source": [
        "from functools import reduce\n",
        "from operator import and_\n",
        "\n",
        "def search_engine(query):\n",
        "    words = query.split()    \n",
        "    query_vec = vectorized.transform([' '.join(words)]).toarray()[0]\n",
        "   \n",
        "    \n",
        "    candidates_ids = [word_2_id[w] for w in words]\n",
        "    document_ids = [set(np.where(transposed_x[_id])[0]) for _id in candidates_ids]\n",
        "    merged_document = reduce(and_, document_ids)\n",
        "    \n",
        "    sorted_document_id = sorted(merged_document, key = lambda i: distance(query_vec, x[i].toarray()))\n",
        "    \n",
        "    return sorted_document_id"
      ],
      "execution_count": 0,
      "outputs": []
    },
    {
      "cell_type": "code",
      "metadata": {
        "id": "F2Yt6clsPAqL",
        "colab_type": "code",
        "colab": {
          "base_uri": "https://localhost:8080/",
          "height": 34
        },
        "outputId": "59341d0d-ea7b-487e-9c9d-565605a29eda"
      },
      "source": [
        "search_engine('美联储 加息 次数')"
      ],
      "execution_count": 117,
      "outputs": [
        {
          "output_type": "execute_result",
          "data": {
            "text/plain": [
              "[2189]"
            ]
          },
          "metadata": {
            "tags": []
          },
          "execution_count": 117
        }
      ]
    },
    {
      "cell_type": "code",
      "metadata": {
        "id": "A1cg_KKUPQyb",
        "colab_type": "code",
        "colab": {
          "base_uri": "https://localhost:8080/",
          "height": 54
        },
        "outputId": "11fbfbb3-06f1-4f07-c0d7-4d7ef652ed51"
      },
      "source": [
        "print(news_content[2189])"
      ],
      "execution_count": 128,
      "outputs": [
        {
          "output_type": "stream",
          "text": [
            "6 月 15 日 凌晨   是 美联储 公布 利率 决议 的 时刻   截至 发稿   联邦 基金 利率 期货 蕴含 的 加息 概率 为 100   但 多位 分析 人士 告诉 中国 证券报 记者   目前 而言   单纯 从 加息 的 角度看   市场 已经 充分 定价   此次 会议 透露 出来 的 美联储 对 下半年 加息 和 缩表 的 态度 将 成为 接下来 市场 关注 焦点   此外   大宗 商品 近期走势 与 美元 相关性 走弱   未来 也 将 更 多 受 国内 基本面 主导   并 趋向 震荡 偏弱   市场 聚焦 美联储   在 美联储 利率 决议 公布 前夕 的 紧张 气氛 中   黄金 屏息以待   本周 来 持续 窄幅 震荡   截至 昨日   COMEX 黄金 期货 主力 报收 1269   7 美元   盎司   与此同时   原油期货 震荡 区间 也 明显 收窄   而 在 此前   黄金   原油期货 均 出现 明显 跌幅   南华 宏观 章 睿哲 表示   目前 美联储 加息 已 被 市场 充分 预期   周四 重点 关注 美联储 对 下半年 几次 议息 会议 的 态度   如果 态度 不够 鹰派   那么 美元 可能 还会 下行   黄金 短期内 还会 上涨   如何 看待 美联储 货币政策 后续 走势   当前 市场 的 核心 焦点 在 美联储 对 下半年 加息 和 缩表 的 态度   浙商 期货 研究 中心 首席 宏观 分析师 洪 清源 表示   6 月 美联储 加息 基本 被 市场 充分 预期   议息 会议 前 市场 预期 的 加息 概率 就 已 高达 99   加息 本身 对 市场 的 冲击 并不大   从 当前 美国 经济 基本面 看   补 库存 周期 进入 尾声   薪资 增长 放缓   消费 后继 增长 乏力   经济 复苏 面临 一定 压力   特朗普 政策 是 当前 美国 经济 最大 的 不 确定 因素   其 减税 和 基建 刺激 计划 有利于 提振 私人 部门 投资   但 从 目前 推进 的 情况 看 并 不是 很 顺畅   8 月 前 税改 能否 推出 则 十分 关键   同时   市场 表现 中   本次 加息 是 市场 反应 最 不 积极 的 一次 加息   以往 每次 加息 前美债 收益率 和 美元 均 有所 上涨   而 近期 美债 收益率 不升反降   美元 持续 疲弱   体现 出 市场 对 美国 经济 持续 复苏 的 担忧   因此 来看   近期 美联储 难以 鹰派   对 下半年 加息 和 缩表 的 预期 也 有望 放缓   值得注意 的 是   国金 宏观 边 泉水 团队 认为   本次 美联储 会议 将会 公布 新 的 点阵图   其 对 未来 缩表 相关 细节 的 披露   以及 点阵图 蕴含 的 加息 次数   将 是 影响 市场 的 关键 变量   当前 市场 对 9 月 进一步 加息 预期 不高   联邦 基金 利率 期货 蕴含 的 加息 概率 不 超过 50   如果 相关 信息 偏鹰   可能 推升 美国 国债 收益率   提振 美元 指数   打压 黄金价格\n"
          ],
          "name": "stdout"
        }
      ]
    }
  ]
}