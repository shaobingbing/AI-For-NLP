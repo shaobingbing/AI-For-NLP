{
  "nbformat": 4,
  "nbformat_minor": 0,
  "metadata": {
    "colab": {
      "name": "Untitled",
      "version": "0.3.2",
      "provenance": [],
      "collapsed_sections": [],
      "include_colab_link": true
    },
    "kernelspec": {
      "name": "python3",
      "display_name": "Python 3"
    },
    "accelerator": "GPU"
  },
  "cells": [
    {
      "cell_type": "markdown",
      "metadata": {
        "id": "view-in-github",
        "colab_type": "text"
      },
      "source": [
        "<a href=\"https://colab.research.google.com/github/shaobingbing/AI-For-NLP/blob/master/tensorflow_study.ipynb\" target=\"_parent\"><img src=\"https://colab.research.google.com/assets/colab-badge.svg\" alt=\"Open In Colab\"/></a>"
      ]
    },
    {
      "cell_type": "code",
      "metadata": {
        "id": "vmkl2L2nSkU8",
        "colab_type": "code",
        "colab": {}
      },
      "source": [
        "import tensorflow as tf\n",
        "import numpy as np"
      ],
      "execution_count": 0,
      "outputs": []
    },
    {
      "cell_type": "code",
      "metadata": {
        "id": "qOGMGCsJUCPX",
        "colab_type": "code",
        "colab": {}
      },
      "source": [
        "graph = tf.Graph() # Create a graph\n",
        "session = tf.InteractiveSession(graph = graph) # Create a Session"
      ],
      "execution_count": 0,
      "outputs": []
    },
    {
      "cell_type": "code",
      "metadata": {
        "id": "GdXeHcBCUY8p",
        "colab_type": "code",
        "colab": {}
      },
      "source": [
        "x = tf.placeholder(shape = [1,10], dtype = tf.float32, name = 'x')   # provide a value when runtime\n",
        "W = tf.Variable(tf.random_uniform(shape = [10, 5], minval = 0.1, maxval = 0.1, dtype = tf.float32), name = 'W')  # random initialization to [-0.1, 0.1] \n",
        "b = tf.Variable(tf.zeros(shape = [5], dtype = tf.float32), name = 'b')  #initialized to zeros\n",
        "h = tf.nn.sigmoid(tf.matmul(x, W) + b)    # output"
      ],
      "execution_count": 0,
      "outputs": []
    },
    {
      "cell_type": "code",
      "metadata": {
        "id": "PtfbY1V5V1EU",
        "colab_type": "code",
        "colab": {}
      },
      "source": [
        "tf.global_variables_initializer().run()      # initialized the global variable(W, b)"
      ],
      "execution_count": 0,
      "outputs": []
    },
    {
      "cell_type": "code",
      "metadata": {
        "id": "iJVHRJnhWhX4",
        "colab_type": "code",
        "colab": {}
      },
      "source": [
        "h_val = session.run(h, feed_dict = {x: np.random.rand(1,10)})"
      ],
      "execution_count": 0,
      "outputs": []
    },
    {
      "cell_type": "code",
      "metadata": {
        "id": "ys1dcUgvWtz_",
        "colab_type": "code",
        "colab": {}
      },
      "source": [
        "session.close()"
      ],
      "execution_count": 0,
      "outputs": []
    },
    {
      "cell_type": "code",
      "metadata": {
        "id": "1VQ0yxoKW6go",
        "colab_type": "code",
        "colab": {
          "base_uri": "https://localhost:8080/",
          "height": 34
        },
        "outputId": "ae17e6f0-17e9-4860-a839-b9349ff51559"
      },
      "source": [
        "print(h_val)"
      ],
      "execution_count": 7,
      "outputs": [
        {
          "output_type": "stream",
          "text": [
            "[[0.6306386  0.6306386  0.6306386  0.6306386  0.63063866]]\n"
          ],
          "name": "stdout"
        }
      ]
    },
    {
      "cell_type": "markdown",
      "metadata": {
        "id": "FJWYenDOZjyL",
        "colab_type": "text"
      },
      "source": [
        ""
      ]
    },
    {
      "cell_type": "markdown",
      "metadata": {
        "id": "pixkJv2WZoSJ",
        "colab_type": "text"
      },
      "source": [
        "### use constant"
      ]
    },
    {
      "cell_type": "code",
      "metadata": {
        "id": "8TMgjax0ZjQS",
        "colab_type": "code",
        "colab": {
          "base_uri": "https://localhost:8080/",
          "height": 34
        },
        "outputId": "a27bca6d-e8eb-4b37-fdc7-03eea467c80b"
      },
      "source": [
        "graph = tf.Graph()\n",
        "session = tf.InteractiveSession(graph = graph)\n",
        "\n",
        "# Building as graph\n",
        "\n",
        "# x: pre-loaded\n",
        "x = tf.constant(value = [[0.1, 0.2, 0.3, 0.4, 0.5, 0.6, 0.7, 0.8, 0.9, 1.0]], dtype = tf.float32, name = 'x')\n",
        "W = tf.Variable(tf.random_uniform(shape = [10,5], minval = -0.1, maxval = 0.1, dtype = tf.float32))\n",
        "b = tf.Variable(tf.zeros(shape = [5], dtype = tf.float32), name = 'b')\n",
        "h = tf.nn.sigmoid(tf.matmul(x,W) + b)\n",
        "\n",
        "# execute\n",
        "tf.global_variables_initializer().run()\n",
        "\n",
        "e_val = session.run(h)\n",
        "print(e_val)\n",
        "session.close()"
      ],
      "execution_count": 8,
      "outputs": [
        {
          "output_type": "stream",
          "text": [
            "[[0.4806654  0.4930861  0.5424131  0.47061113 0.44207993]]\n"
          ],
          "name": "stdout"
        }
      ]
    },
    {
      "cell_type": "markdown",
      "metadata": {
        "id": "zo1f2o_tb8gt",
        "colab_type": "text"
      },
      "source": [
        "### use input pipe"
      ]
    },
    {
      "cell_type": "code",
      "metadata": {
        "id": "nyu_DLPZZPIs",
        "colab_type": "code",
        "colab": {
          "base_uri": "https://localhost:8080/",
          "height": 1000
        },
        "outputId": "40dbe145-47bc-473c-b186-addbf4732fea"
      },
      "source": [
        "import tensorflow as tf\n",
        "import numpy as np\n",
        "\n",
        "# Create as graph\n",
        "graph = tf.Graph()\n",
        "session = tf.InteractiveSession(graph = graph)\n",
        "\n",
        "# file queue\n",
        "filenames = ['test%d.txt' %i for i in range(1,4)]\n",
        "filename_queue = tf.train.string_input_producer(filenames, capacity = 3, shuffle = True, name = 'string_input_producer')\n",
        "\n",
        "# check the files\n",
        "for i in filenames:\n",
        "    if not tf.gfile.Exists(i):\n",
        "        raise ValueError('Failed to find file: ' + i)\n",
        "    else:\n",
        "        print('File %s found.' %i)\n",
        "    \n",
        "reader = tf.TextLineReader()\n",
        "key, value = reader.read(filename_queue, name = 'text_read_op')\n",
        "\n",
        "record_defaults = [[-1.0], [-1.0], [-1.0], [-1.0], [-1.0], [-1.0], [-1.0], [-1.0], [-1.0], [-1.0]]\n",
        "col1, col2, col3, col4, col5, col6, col7, col8, col9, col10 = tf.decode_csv(value, record_defaults = record_defaults)\n",
        "\n",
        "features = tf.stack([col1, col2, col3, col4, col5, col6, col7, col8, col9, col10])\n",
        "\n",
        "x = tf.train.shuffle_batch([features], batch_size = 3, capacity = 5, name = 'data_batch', min_after_dequeue = 1, num_threads = 1)\n",
        "\n",
        "coord = tf.train.Coordinator()\n",
        "threads = tf.train.start_queue_runners(coord = coord, sess = session)\n",
        "\n",
        "W = tf.Variable(tf.random_uniform(shape = [10,5], dtype = tf.float32, minval = -0.1, maxval = 0.1), name = 'W')\n",
        "b = tf.Variable(tf.zeros(shape = [5], dtype = tf.float32), name = 'b')\n",
        "h = tf.nn.sigmoid(tf.matmul(x, W) + b)\n",
        "\n",
        "tf.global_variables_initializer().run()\n",
        "\n",
        "for step in range(5):\n",
        "    x_eval, h_eval = session.run([x,h]) \n",
        "    print('========== Step %d =========='%step)\n",
        "    print('Evaluated data (x)')\n",
        "    print(x_eval)\n",
        "    print('Evaluated data (h)')\n",
        "    print(h_eval)\n",
        "    print('')\n",
        "    \n",
        "coord.request_stop()\n",
        "coord.join(threads)\n",
        "session.close()"
      ],
      "execution_count": 9,
      "outputs": [
        {
          "output_type": "stream",
          "text": [
            "WARNING: Logging before flag parsing goes to stderr.\n",
            "W0906 03:51:09.946339 140049116563328 deprecation.py:323] From <ipython-input-9-6bb1610a56b2>:10: string_input_producer (from tensorflow.python.training.input) is deprecated and will be removed in a future version.\n",
            "Instructions for updating:\n",
            "Queue-based input pipelines have been replaced by `tf.data`. Use `tf.data.Dataset.from_tensor_slices(string_tensor).shuffle(tf.shape(input_tensor, out_type=tf.int64)[0]).repeat(num_epochs)`. If `shuffle=False`, omit the `.shuffle(...)`.\n",
            "W0906 03:51:09.955330 140049116563328 deprecation.py:323] From /usr/local/lib/python3.6/dist-packages/tensorflow/python/training/input.py:278: input_producer (from tensorflow.python.training.input) is deprecated and will be removed in a future version.\n",
            "Instructions for updating:\n",
            "Queue-based input pipelines have been replaced by `tf.data`. Use `tf.data.Dataset.from_tensor_slices(input_tensor).shuffle(tf.shape(input_tensor, out_type=tf.int64)[0]).repeat(num_epochs)`. If `shuffle=False`, omit the `.shuffle(...)`.\n",
            "W0906 03:51:09.957338 140049116563328 deprecation.py:323] From /usr/local/lib/python3.6/dist-packages/tensorflow/python/training/input.py:190: limit_epochs (from tensorflow.python.training.input) is deprecated and will be removed in a future version.\n",
            "Instructions for updating:\n",
            "Queue-based input pipelines have been replaced by `tf.data`. Use `tf.data.Dataset.from_tensors(tensor).repeat(num_epochs)`.\n",
            "W0906 03:51:09.962173 140049116563328 deprecation.py:323] From /usr/local/lib/python3.6/dist-packages/tensorflow/python/training/input.py:199: QueueRunner.__init__ (from tensorflow.python.training.queue_runner_impl) is deprecated and will be removed in a future version.\n",
            "Instructions for updating:\n",
            "To construct input pipelines, use the `tf.data` module.\n",
            "W0906 03:51:09.965028 140049116563328 deprecation.py:323] From /usr/local/lib/python3.6/dist-packages/tensorflow/python/training/input.py:199: add_queue_runner (from tensorflow.python.training.queue_runner_impl) is deprecated and will be removed in a future version.\n",
            "Instructions for updating:\n",
            "To construct input pipelines, use the `tf.data` module.\n",
            "W0906 03:51:09.973120 140049116563328 deprecation.py:323] From <ipython-input-9-6bb1610a56b2>:19: TextLineReader.__init__ (from tensorflow.python.ops.io_ops) is deprecated and will be removed in a future version.\n",
            "Instructions for updating:\n",
            "Queue-based input pipelines have been replaced by `tf.data`. Use `tf.data.TextLineDataset`.\n",
            "W0906 03:51:09.984039 140049116563328 deprecation.py:323] From <ipython-input-9-6bb1610a56b2>:27: shuffle_batch (from tensorflow.python.training.input) is deprecated and will be removed in a future version.\n",
            "Instructions for updating:\n",
            "Queue-based input pipelines have been replaced by `tf.data`. Use `tf.data.Dataset.shuffle(min_after_dequeue).batch(batch_size)`.\n",
            "W0906 03:51:09.997481 140049116563328 deprecation.py:323] From <ipython-input-9-6bb1610a56b2>:30: start_queue_runners (from tensorflow.python.training.queue_runner_impl) is deprecated and will be removed in a future version.\n",
            "Instructions for updating:\n",
            "To construct input pipelines, use the `tf.data` module.\n"
          ],
          "name": "stderr"
        },
        {
          "output_type": "stream",
          "text": [
            "File test1.txt found.\n",
            "File test2.txt found.\n",
            "File test3.txt found.\n",
            "========== Step 0 ==========\n",
            "Evaluated data (x)\n",
            "[[0.1 0.1 0.1 0.1 0.1 0.1 0.1 0.1 0.1 0.1]\n",
            " [0.1 0.1 0.1 0.1 0.1 0.1 0.1 0.1 0.1 0.1]\n",
            " [0.1 0.1 0.1 0.1 0.1 0.1 0.1 0.1 0.1 0.1]]\n",
            "Evaluated data (h)\n",
            "[[0.4932256  0.49977025 0.5040365  0.50682366 0.5021194 ]\n",
            " [0.4932256  0.49977025 0.5040365  0.50682366 0.5021194 ]\n",
            " [0.4932256  0.49977025 0.5040364  0.50682366 0.5021194 ]]\n",
            "\n",
            "========== Step 1 ==========\n",
            "Evaluated data (x)\n",
            "[[0.1 0.1 0.1 0.1 0.1 0.1 0.1 0.1 0.1 0.1]\n",
            " [0.1 0.1 0.1 0.1 0.1 0.1 0.1 0.1 0.1 0.1]\n",
            " [0.1 0.1 0.1 0.1 0.1 0.1 0.1 0.1 0.1 0.1]]\n",
            "Evaluated data (h)\n",
            "[[0.4932256  0.49977025 0.5040365  0.50682366 0.5021194 ]\n",
            " [0.4932256  0.49977025 0.5040365  0.50682366 0.5021194 ]\n",
            " [0.4932256  0.49977025 0.5040364  0.50682366 0.5021194 ]]\n",
            "\n",
            "========== Step 2 ==========\n",
            "Evaluated data (x)\n",
            "[[0.1 0.1 0.1 0.1 0.1 0.1 0.1 0.1 0.1 0.1]\n",
            " [0.1 0.1 0.1 0.1 0.1 0.1 0.1 0.1 0.1 0.1]\n",
            " [0.1 0.1 0.1 0.1 0.1 0.1 0.1 0.1 0.1 0.1]]\n",
            "Evaluated data (h)\n",
            "[[0.4932256  0.49977025 0.5040365  0.50682366 0.5021194 ]\n",
            " [0.4932256  0.49977025 0.5040365  0.50682366 0.5021194 ]\n",
            " [0.4932256  0.49977025 0.5040364  0.50682366 0.5021194 ]]\n",
            "\n",
            "========== Step 3 ==========\n",
            "Evaluated data (x)\n",
            "[[0.1 0.1 0.1 0.1 0.1 0.1 0.1 0.1 0.1 0.1]\n",
            " [0.1 0.2 0.3 0.4 0.5 0.6 0.7 0.8 0.9 1. ]\n",
            " [0.1 0.2 0.3 0.4 0.5 0.6 0.7 0.8 0.9 1. ]]\n",
            "Evaluated data (h)\n",
            "[[0.4932256  0.49977025 0.5040365  0.50682366 0.5021194 ]\n",
            " [0.47144097 0.47290087 0.5321721  0.5332808  0.51565254]\n",
            " [0.47144097 0.47290087 0.53217214 0.5332808  0.5156525 ]]\n",
            "\n",
            "========== Step 4 ==========\n",
            "Evaluated data (x)\n",
            "[[0.1 0.2 0.3 0.4 0.5 0.6 0.7 0.8 0.9 1. ]\n",
            " [0.1 0.2 0.3 0.4 0.5 0.6 0.7 0.8 0.9 1. ]\n",
            " [0.1 0.2 0.3 0.4 0.5 0.6 0.7 0.8 0.9 1. ]]\n",
            "Evaluated data (h)\n",
            "[[0.47144097 0.47290087 0.5321721  0.5332808  0.51565254]\n",
            " [0.47144097 0.47290087 0.5321721  0.5332808  0.51565254]\n",
            " [0.47144097 0.47290087 0.53217214 0.5332808  0.5156525 ]]\n",
            "\n"
          ],
          "name": "stdout"
        }
      ]
    },
    {
      "cell_type": "markdown",
      "metadata": {
        "id": "1hO05FtdlVJE",
        "colab_type": "text"
      },
      "source": [
        "### compare"
      ]
    },
    {
      "cell_type": "code",
      "metadata": {
        "id": "1_FElyQ_icLb",
        "colab_type": "code",
        "colab": {}
      },
      "source": [
        "x = tf.constant([[1, 2], [3, 4]], dtype = tf.int32)\n",
        "y = tf.constant([[4,3], [3,2]], dtype = tf.int32)"
      ],
      "execution_count": 0,
      "outputs": []
    },
    {
      "cell_type": "code",
      "metadata": {
        "id": "860Mco80eC2O",
        "colab_type": "code",
        "colab": {
          "base_uri": "https://localhost:8080/",
          "height": 51
        },
        "outputId": "aedbe298-fab0-4027-e30d-eed844819403"
      },
      "source": [
        "x_equal_y = tf.equal(x,y, name = None)\n",
        "session = tf.InteractiveSession()\n",
        "session.run(x_equal_y)"
      ],
      "execution_count": 11,
      "outputs": [
        {
          "output_type": "execute_result",
          "data": {
            "text/plain": [
              "array([[False, False],\n",
              "       [ True, False]])"
            ]
          },
          "metadata": {
            "tags": []
          },
          "execution_count": 11
        }
      ]
    },
    {
      "cell_type": "code",
      "metadata": {
        "id": "RTHgkcLrltu5",
        "colab_type": "code",
        "colab": {
          "base_uri": "https://localhost:8080/",
          "height": 51
        },
        "outputId": "1d60e118-13fb-4f31-b851-6b25894154dd"
      },
      "source": [
        "x_less_y = tf.less(x, y, name = None)\n",
        "session.run(x_less_y)"
      ],
      "execution_count": 12,
      "outputs": [
        {
          "output_type": "execute_result",
          "data": {
            "text/plain": [
              "array([[ True,  True],\n",
              "       [False, False]])"
            ]
          },
          "metadata": {
            "tags": []
          },
          "execution_count": 12
        }
      ]
    },
    {
      "cell_type": "code",
      "metadata": {
        "id": "XlXVKeFFmXL4",
        "colab_type": "code",
        "colab": {
          "base_uri": "https://localhost:8080/",
          "height": 51
        },
        "outputId": "24fe51a4-9cd1-4c08-d277-e0a3bd392632"
      },
      "source": [
        "x_great_equal_y = tf.greater_equal(x, y, name = None)\n",
        "session.run(x_great_equal_y)"
      ],
      "execution_count": 13,
      "outputs": [
        {
          "output_type": "execute_result",
          "data": {
            "text/plain": [
              "array([[False, False],\n",
              "       [ True,  True]])"
            ]
          },
          "metadata": {
            "tags": []
          },
          "execution_count": 13
        }
      ]
    },
    {
      "cell_type": "code",
      "metadata": {
        "id": "z_thjUydmkQK",
        "colab_type": "code",
        "colab": {
          "base_uri": "https://localhost:8080/",
          "height": 122
        },
        "outputId": "18374d24-4490-46cb-8fd4-70cfb6dd2f96"
      },
      "source": [
        "condition = tf.constant([[True, False], [True, False]], dtype = tf.bool)\n",
        "x_cond_y = tf.where(condition, x, y, name = None)\n",
        "session.run(x_cond_y)"
      ],
      "execution_count": 14,
      "outputs": [
        {
          "output_type": "stream",
          "text": [
            "W0906 03:51:10.117748 140049116563328 deprecation.py:323] From <ipython-input-14-e94931e97974>:2: add_dispatch_support.<locals>.wrapper (from tensorflow.python.ops.array_ops) is deprecated and will be removed in a future version.\n",
            "Instructions for updating:\n",
            "Use tf.where in 2.0, which has the same broadcast rule as np.where\n"
          ],
          "name": "stderr"
        },
        {
          "output_type": "execute_result",
          "data": {
            "text/plain": [
              "array([[1, 3],\n",
              "       [3, 2]], dtype=int32)"
            ]
          },
          "metadata": {
            "tags": []
          },
          "execution_count": 14
        }
      ]
    },
    {
      "cell_type": "markdown",
      "metadata": {
        "id": "mU_8gJnYnBSX",
        "colab_type": "text"
      },
      "source": [
        "### numerical computation"
      ]
    },
    {
      "cell_type": "code",
      "metadata": {
        "id": "xcPvrnW0m0Z9",
        "colab_type": "code",
        "colab": {
          "base_uri": "https://localhost:8080/",
          "height": 51
        },
        "outputId": "4686fe28-011a-49d3-edc9-262b2d0cd7d1"
      },
      "source": [
        "x_add_y = tf.add(x, y)\n",
        "session.run(x_add_y)"
      ],
      "execution_count": 15,
      "outputs": [
        {
          "output_type": "execute_result",
          "data": {
            "text/plain": [
              "array([[5, 5],\n",
              "       [6, 6]], dtype=int32)"
            ]
          },
          "metadata": {
            "tags": []
          },
          "execution_count": 15
        }
      ]
    },
    {
      "cell_type": "code",
      "metadata": {
        "id": "KVpymdjSnU_J",
        "colab_type": "code",
        "colab": {
          "base_uri": "https://localhost:8080/",
          "height": 51
        },
        "outputId": "1ad74c6d-080b-4568-90d5-1fe082748597"
      },
      "source": [
        "x_mul_y = tf.matmul(x, y)\n",
        "session.run(x_mul_y)"
      ],
      "execution_count": 16,
      "outputs": [
        {
          "output_type": "execute_result",
          "data": {
            "text/plain": [
              "array([[10,  7],\n",
              "       [24, 17]], dtype=int32)"
            ]
          },
          "metadata": {
            "tags": []
          },
          "execution_count": 16
        }
      ]
    },
    {
      "cell_type": "code",
      "metadata": {
        "id": "L21tfC39nave",
        "colab_type": "code",
        "colab": {
          "base_uri": "https://localhost:8080/",
          "height": 51
        },
        "outputId": "07223b7c-4623-4dbd-bda9-c6f6b3cdeeb4"
      },
      "source": [
        "log_x = tf.log(tf.cast(x, dtype = tf.float32))\n",
        "session.run(log_x)"
      ],
      "execution_count": 17,
      "outputs": [
        {
          "output_type": "execute_result",
          "data": {
            "text/plain": [
              "array([[0.       , 0.6931472],\n",
              "       [1.0986123, 1.3862944]], dtype=float32)"
            ]
          },
          "metadata": {
            "tags": []
          },
          "execution_count": 17
        }
      ]
    },
    {
      "cell_type": "code",
      "metadata": {
        "id": "Qplw74gfnzF-",
        "colab_type": "code",
        "colab": {
          "base_uri": "https://localhost:8080/",
          "height": 34
        },
        "outputId": "36229da9-54d0-403a-e75f-8aff936cf306"
      },
      "source": [
        "x_sum_1 = tf.reduce_sum(x, axis = [1], keepdims = False)\n",
        "session.run(x_sum_1)"
      ],
      "execution_count": 18,
      "outputs": [
        {
          "output_type": "execute_result",
          "data": {
            "text/plain": [
              "array([3, 7], dtype=int32)"
            ]
          },
          "metadata": {
            "tags": []
          },
          "execution_count": 18
        }
      ]
    },
    {
      "cell_type": "code",
      "metadata": {
        "id": "9MYnIBSOnhrj",
        "colab_type": "code",
        "colab": {
          "base_uri": "https://localhost:8080/",
          "height": 34
        },
        "outputId": "0677b5b6-8b68-41c8-8bc3-fe84efd0bfce"
      },
      "source": [
        "x_sum_1 = tf.reduce_sum(x, axis = [0], keepdims = False)\n",
        "session.run(x_sum_1)"
      ],
      "execution_count": 19,
      "outputs": [
        {
          "output_type": "execute_result",
          "data": {
            "text/plain": [
              "array([4, 6], dtype=int32)"
            ]
          },
          "metadata": {
            "tags": []
          },
          "execution_count": 19
        }
      ]
    },
    {
      "cell_type": "code",
      "metadata": {
        "id": "gfa_zSdCoPfe",
        "colab_type": "code",
        "colab": {
          "base_uri": "https://localhost:8080/",
          "height": 34
        },
        "outputId": "a2bc421b-82ed-4bb0-d85a-f6e060562a7a"
      },
      "source": [
        "data = tf.constant([1, 2, 3, 4, 5, 6, 7, 8, 9, 10], dtype = tf.float32)\n",
        "segment_ids = tf.constant([0, 0, 0, 1, 1, 2, 2, 2, 2, 2], dtype = tf.int32)\n",
        "x_seg_sum = tf.segment_sum(data, segment_ids)\n",
        "session.run(x_seg_sum)"
      ],
      "execution_count": 20,
      "outputs": [
        {
          "output_type": "execute_result",
          "data": {
            "text/plain": [
              "array([ 6.,  9., 40.], dtype=float32)"
            ]
          },
          "metadata": {
            "tags": []
          },
          "execution_count": 20
        }
      ]
    },
    {
      "cell_type": "markdown",
      "metadata": {
        "id": "1RceYiIHpLh-",
        "colab_type": "text"
      },
      "source": [
        "### split and join"
      ]
    },
    {
      "cell_type": "code",
      "metadata": {
        "id": "GGhcD9-To7Xo",
        "colab_type": "code",
        "colab": {
          "base_uri": "https://localhost:8080/",
          "height": 34
        },
        "outputId": "ce48b448-1378-4e56-83df-d0285d3a10b4"
      },
      "source": [
        "ref = tf.Variable(tf.constant([1, 9, 3, 10, 5], dtype = tf.float32), name = 'scatter_update')\n",
        "indices = [1, 3]\n",
        "updates = tf.constant([2, 4], dtype = tf.float32)\n",
        "tf_scatter_update = tf.scatter_update(ref, indices, updates, use_locking= None, name = None)\n",
        "\n",
        "tf.global_variables_initializer().run()\n",
        "session.run(tf_scatter_update)"
      ],
      "execution_count": 21,
      "outputs": [
        {
          "output_type": "execute_result",
          "data": {
            "text/plain": [
              "array([1., 2., 3., 4., 5.], dtype=float32)"
            ]
          },
          "metadata": {
            "tags": []
          },
          "execution_count": 21
        }
      ]
    },
    {
      "cell_type": "code",
      "metadata": {
        "id": "ZnF93McDp9Ow",
        "colab_type": "code",
        "colab": {
          "base_uri": "https://localhost:8080/",
          "height": 85
        },
        "outputId": "7eecd829-23e4-436f-f995-a9b0a3309c1e"
      },
      "source": [
        "indices = [[1], [3]]\n",
        "updates = tf.constant([[1, 1, 1], [2, 2, 2]])\n",
        "shape = [4, 3]\n",
        "tf_scatter_nd_1 = tf.scatter_nd(indices, updates, shape, name = None)\n",
        "session.run(tf_scatter_nd_1)"
      ],
      "execution_count": 22,
      "outputs": [
        {
          "output_type": "execute_result",
          "data": {
            "text/plain": [
              "array([[0, 0, 0],\n",
              "       [1, 1, 1],\n",
              "       [0, 0, 0],\n",
              "       [2, 2, 2]], dtype=int32)"
            ]
          },
          "metadata": {
            "tags": []
          },
          "execution_count": 22
        }
      ]
    },
    {
      "cell_type": "code",
      "metadata": {
        "id": "YY-_KT1KrYHO",
        "colab_type": "code",
        "colab": {
          "base_uri": "https://localhost:8080/",
          "height": 85
        },
        "outputId": "6b4e386b-0168-4afe-fb4e-8f4c3804f71d"
      },
      "source": [
        "indices = [[1, 0], [3, 1]]\n",
        "updates = tf.constant([1, 2])\n",
        "shape = [4, 3]\n",
        "tf_scatter_nd_1 = tf.scatter_nd(indices, updates, shape, name = None)\n",
        "session.run(tf_scatter_nd_1)"
      ],
      "execution_count": 23,
      "outputs": [
        {
          "output_type": "execute_result",
          "data": {
            "text/plain": [
              "array([[0, 0, 0],\n",
              "       [1, 0, 0],\n",
              "       [0, 0, 0],\n",
              "       [0, 2, 0]], dtype=int32)"
            ]
          },
          "metadata": {
            "tags": []
          },
          "execution_count": 23
        }
      ]
    },
    {
      "cell_type": "code",
      "metadata": {
        "id": "BScZIKBOrzJ7",
        "colab_type": "code",
        "colab": {
          "base_uri": "https://localhost:8080/",
          "height": 68
        },
        "outputId": "e49f837f-8d78-4595-aa01-faabc42a3cfb"
      },
      "source": [
        "params = tf.constant([1,2,3,4,5],dtype=tf.float32)\n",
        "indices = [1,4]\n",
        "tf_gather = tf.gather(params, indices, validate_indices=True, name=None) #=> [2,5]\n",
        "print('\\nGather Operation for 1-D')\n",
        "print(session.run(tf_gather))"
      ],
      "execution_count": 24,
      "outputs": [
        {
          "output_type": "stream",
          "text": [
            "\n",
            "Gather Operation for 1-D\n",
            "[2. 5.]\n"
          ],
          "name": "stdout"
        }
      ]
    },
    {
      "cell_type": "code",
      "metadata": {
        "id": "Fyrr3wELsJb8",
        "colab_type": "code",
        "colab": {
          "base_uri": "https://localhost:8080/",
          "height": 85
        },
        "outputId": "530e8493-2540-443a-c6e7-b23ee7beca9d"
      },
      "source": [
        "params = tf.constant([[0,0,0],[1,1,1],[2,2,2],[3,3,3]],dtype=tf.float32)\n",
        "indices = [[0],[2]]\n",
        "tf_gather_nd = tf.gather_nd(params, indices, name=None) #=> [[0,0,0],[2,2,2]]\n",
        "print('\\nGather Operation for n-D')\n",
        "print(session.run(tf_gather_nd))"
      ],
      "execution_count": 25,
      "outputs": [
        {
          "output_type": "stream",
          "text": [
            "\n",
            "Gather Operation for n-D\n",
            "[[0. 0. 0.]\n",
            " [2. 2. 2.]]\n"
          ],
          "name": "stdout"
        }
      ]
    },
    {
      "cell_type": "code",
      "metadata": {
        "id": "TtF_o7qGsvdS",
        "colab_type": "code",
        "colab": {
          "base_uri": "https://localhost:8080/",
          "height": 68
        },
        "outputId": "8e7e5fc7-a2ce-4035-9bd8-d536a3affaba"
      },
      "source": [
        "params = tf.constant([[0,0,0],[1,1,1],[2,2,2],[3,3,3]],dtype=tf.float32)\n",
        "indices = [[0,1],[2,2]]\n",
        "tf_gather_nd_2 = tf.gather_nd(params, indices, name=None) #=> [[0,0,0],[2,2,2]]\n",
        "print('\\nGather Operation for n-D')\n",
        "print(session.run(tf_gather_nd_2))"
      ],
      "execution_count": 26,
      "outputs": [
        {
          "output_type": "stream",
          "text": [
            "\n",
            "Gather Operation for n-D\n",
            "[0. 2.]\n"
          ],
          "name": "stdout"
        }
      ]
    },
    {
      "cell_type": "code",
      "metadata": {
        "id": "b8x19PNMszth",
        "colab_type": "code",
        "colab": {}
      },
      "source": [
        "session.close()"
      ],
      "execution_count": 0,
      "outputs": []
    },
    {
      "cell_type": "markdown",
      "metadata": {
        "id": "1wvh1Gu-tcRe",
        "colab_type": "text"
      },
      "source": [
        "### neural network ralted operation"
      ]
    },
    {
      "cell_type": "code",
      "metadata": {
        "id": "1s7ec3Mvs1em",
        "colab_type": "code",
        "colab": {
          "base_uri": "https://localhost:8080/",
          "height": 204
        },
        "outputId": "4b69d763-56d3-418d-ba65-975e93d7d248"
      },
      "source": [
        "# convolution operator\n",
        "\n",
        "graph = tf.Graph()\n",
        "session = tf.InteractiveSession(graph = graph)\n",
        "x = tf.constant(\n",
        "[[\n",
        "    [[1], [2], [3], [4]],\n",
        "    [[4], [3], [2], [1]],\n",
        "    [[5], [6], [7], [8]],\n",
        "    [[8], [7], [6], [5]]\n",
        "]], dtype = tf.float32)\n",
        "\n",
        "x_filter = tf.constant([\n",
        "    [\n",
        "        [[0.5]], [[1]]\n",
        "    ],\n",
        "    [\n",
        "        [[0.5]], [[1]]\n",
        "    ]\n",
        "], dtype = tf.float32)\n",
        "\n",
        "x_stride = [1, 1, 1, 1]\n",
        "x_padding = 'VALID'\n",
        "\n",
        "x_conv = tf.nn.conv2d(input = x, filter = x_filter, strides = x_stride, padding = x_padding)\n",
        "session.run(x_conv)"
      ],
      "execution_count": 31,
      "outputs": [
        {
          "output_type": "execute_result",
          "data": {
            "text/plain": [
              "array([[[[ 7.5],\n",
              "         [ 7.5],\n",
              "         [ 7.5]],\n",
              "\n",
              "        [[13.5],\n",
              "         [13.5],\n",
              "         [13.5]],\n",
              "\n",
              "        [[19.5],\n",
              "         [19.5],\n",
              "         [19.5]]]], dtype=float32)"
            ]
          },
          "metadata": {
            "tags": []
          },
          "execution_count": 31
        }
      ]
    },
    {
      "cell_type": "code",
      "metadata": {
        "id": "cij4Q8dG2hlB",
        "colab_type": "code",
        "colab": {
          "base_uri": "https://localhost:8080/",
          "height": 102
        },
        "outputId": "66d2533b-0ea3-4d0f-9910-c20a7e68a409"
      },
      "source": [
        "# pool operator\n",
        "x = tf.constant(\n",
        "    [[\n",
        "        [[1],[2],[3],[4]],\n",
        "        [[4],[3],[2],[1]],\n",
        "        [[5],[6],[7],[8]],\n",
        "        [[8],[7],[6],[5]]\n",
        "    ]],\n",
        "    dtype=tf.float32)\n",
        "\n",
        "x_ksize = [1,2,2,1]\n",
        "x_stride = [1,2,2,1]\n",
        "x_padding = 'VALID'\n",
        "\n",
        "x_pool = tf.nn.max_pool(\n",
        "    value=x, ksize=x_ksize,\n",
        "    strides=x_stride, padding=x_padding\n",
        ")\n",
        "\n",
        "session.run(x_pool)"
      ],
      "execution_count": 32,
      "outputs": [
        {
          "output_type": "execute_result",
          "data": {
            "text/plain": [
              "array([[[[4.],\n",
              "         [4.]],\n",
              "\n",
              "        [[8.],\n",
              "         [8.]]]], dtype=float32)"
            ]
          },
          "metadata": {
            "tags": []
          },
          "execution_count": 32
        }
      ]
    },
    {
      "cell_type": "code",
      "metadata": {
        "id": "Du0YhBw33N0p",
        "colab_type": "code",
        "colab": {}
      },
      "source": [
        "session.close()"
      ],
      "execution_count": 0,
      "outputs": []
    },
    {
      "cell_type": "markdown",
      "metadata": {
        "id": "N4n9wcks3Y1S",
        "colab_type": "text"
      },
      "source": [
        "### Loss function"
      ]
    },
    {
      "cell_type": "code",
      "metadata": {
        "id": "HYQPeHHuvgUQ",
        "colab_type": "code",
        "colab": {
          "base_uri": "https://localhost:8080/",
          "height": 34
        },
        "outputId": "b44b69ad-ffb0-43c5-fd19-5548a63f660f"
      },
      "source": [
        "# l2 loss\n",
        "graph = tf.Graph()\n",
        "session = tf.InteractiveSession(graph = graph)\n",
        "\n",
        "x = tf.constant([[2, 4], [6, 8]], dtype = tf.float32)\n",
        "x_hat = tf.constant([[1, 2], [3, 4]], dtype = tf.float32)\n",
        "\n",
        "# MSE: mean square error\n",
        "MSE = tf.nn.l2_loss(x - x_hat)\n",
        "session.run(MSE)"
      ],
      "execution_count": 35,
      "outputs": [
        {
          "output_type": "execute_result",
          "data": {
            "text/plain": [
              "15.0"
            ]
          },
          "metadata": {
            "tags": []
          },
          "execution_count": 35
        }
      ]
    },
    {
      "cell_type": "code",
      "metadata": {
        "id": "60atsD7j4r-r",
        "colab_type": "code",
        "colab": {
          "base_uri": "https://localhost:8080/",
          "height": 34
        },
        "outputId": "04169e10-098e-41d6-a58e-6052fcadb870"
      },
      "source": [
        "# cross entropy loss\n",
        "y = tf.constant([[1, 0], [0, 1]], dtype = tf.float32)\n",
        "y_hat = tf.constant([[3, 1], [2, 5]], dtype = tf.float32)\n",
        "\n",
        "CE = tf.reduce_mean(tf.nn.softmax_cross_entropy_with_logits_v2(logits = y_hat, labels = y))\n",
        "session.run(CE)"
      ],
      "execution_count": 36,
      "outputs": [
        {
          "output_type": "execute_result",
          "data": {
            "text/plain": [
              "0.08775769"
            ]
          },
          "metadata": {
            "tags": []
          },
          "execution_count": 36
        }
      ]
    },
    {
      "cell_type": "code",
      "metadata": {
        "id": "FPYcwngy5UOJ",
        "colab_type": "code",
        "colab": {
          "base_uri": "https://localhost:8080/",
          "height": 34
        },
        "outputId": "c7637d25-0edc-4791-9d7d-e6a3ce6eaa79"
      },
      "source": [
        "session.run(tf.nn.softmax_cross_entropy_with_logits_v2(logits = y_hat, labels = y))"
      ],
      "execution_count": 38,
      "outputs": [
        {
          "output_type": "execute_result",
          "data": {
            "text/plain": [
              "array([0.12692805, 0.04858733], dtype=float32)"
            ]
          },
          "metadata": {
            "tags": []
          },
          "execution_count": 38
        }
      ]
    },
    {
      "cell_type": "code",
      "metadata": {
        "id": "Do-o0A446Cu1",
        "colab_type": "code",
        "colab": {}
      },
      "source": [
        "session.close()"
      ],
      "execution_count": 0,
      "outputs": []
    },
    {
      "cell_type": "markdown",
      "metadata": {
        "id": "H8YBev5r6FyO",
        "colab_type": "text"
      },
      "source": [
        "### Optimization"
      ]
    },
    {
      "cell_type": "code",
      "metadata": {
        "id": "08Xu_iU76ECz",
        "colab_type": "code",
        "colab": {
          "base_uri": "https://localhost:8080/",
          "height": 504
        },
        "outputId": "28308e15-06f3-4482-bd6f-cb9a4ba5ec57"
      },
      "source": [
        "import matplotlib.pyplot as plt\n",
        "%matplotlib inline\n",
        "graph = tf.get_default_graph()\n",
        "session = tf.InteractiveSession(graph = graph)\n",
        "\n",
        "tf_x = tf.Variable(tf.constant(2.0, dtype = tf.float32), name = 'x')\n",
        "tf_y = tf_x ** 2;\n",
        "minimize_op = tf.train.GradientDescentOptimizer(learning_rate = 0.1).minimize(tf_y)\n",
        "\n",
        "x_series, y_series = [], []\n",
        "tf.global_variables_initializer().run()\n",
        "for step in range(5):\n",
        "    _, x, y = session.run([minimize_op, tf_x, tf_y])\n",
        "    print('Step: ', step, ', x: ', x, ', y: ', y)\n",
        "    x_series.append(x)\n",
        "    y_series.append(y)\n",
        "  \n",
        "fig, ax = plt.subplots(nrows=1, ncols=1)\n",
        "fig.set_size_inches(w=25,h=5)\n",
        "ax.plot(np.arange(-4,4.1,0.1),np.arange(-4,4.1,0.1)**2)\n",
        "ax.scatter(x_series,y_series,c='red',linewidths=4)\n",
        "\n",
        "x_offset, y_offset = 0.02, 0.75\n",
        "ax.annotate('Starting point', xy=(2.01, 4.1), xytext=(2.5, 8),\n",
        "            arrowprops=dict(facecolor='black', shrink=0.01),fontsize=20\n",
        "            )\n",
        "\n",
        "ax.annotate('Optimization path', xy=(2.01, 4.1), xytext=(0.6, 5),\n",
        "            arrowprops=None,fontsize=20\n",
        "            )\n",
        "\n",
        "\n",
        "for index,(x,y) in enumerate(zip(x_series,y_series)):\n",
        "    if index == len(x_series)-1:\n",
        "        break\n",
        "    ax.annotate('', xy=(x_series[index+1], y_series[index+1]+y_offset), xytext=( x - x_offset, y + y_offset),\n",
        "                arrowprops=dict(facecolor='red', edgecolor='red', shrink=0.01),fontsize=20\n",
        "                )\n",
        "\n",
        "ax.set_xlabel('x',fontsize=20)\n",
        "ax.set_ylabel('y',fontsize=20)\n",
        "ax.set_title('Optimizing y=x^2',fontsize=22)\n",
        "fig.savefig('optimization.jpg')\n",
        "session.close()"
      ],
      "execution_count": 41,
      "outputs": [
        {
          "output_type": "stream",
          "text": [
            "/usr/local/lib/python3.6/dist-packages/tensorflow/python/client/session.py:1735: UserWarning: An interactive session is already active. This can cause out-of-memory errors in some cases. You must explicitly call `InteractiveSession.close()` to release resources held by the other session(s).\n",
            "  warnings.warn('An interactive session is already active. This can '\n"
          ],
          "name": "stderr"
        },
        {
          "output_type": "stream",
          "text": [
            "Step:  0 , x:  2.0 , y:  4.0\n",
            "Step:  1 , x:  1.28 , y:  2.5600002\n",
            "Step:  2 , x:  1.28 , y:  1.6384\n",
            "Step:  3 , x:  1.0239999 , y:  1.0485759\n",
            "Step:  4 , x:  0.6553599 , y:  0.6710885\n"
          ],
          "name": "stdout"
        },
        {
          "output_type": "display_data",
          "data": {
            "image/png": "[encoded data removed]",
            "text/plain": [
              "<Figure size 1800x360 with 1 Axes>"
            ]
          },
          "metadata": {
            "tags": []
          }
        }
      ]
    },
    {
      "cell_type": "markdown",
      "metadata": {
        "id": "VrONnyFX8iDe",
        "colab_type": "text"
      },
      "source": [
        "### Control stream"
      ]
    },
    {
      "cell_type": "code",
      "metadata": {
        "id": "Rita1D6Z76sP",
        "colab_type": "code",
        "colab": {
          "base_uri": "https://localhost:8080/",
          "height": 105
        },
        "outputId": "a239c928-3eea-4cb2-c7d7-5ee26dc31dc4"
      },
      "source": [
        "session = tf.InteractiveSession()\n",
        "\n",
        "x = tf.Variable(tf.constant(2.0), name = 'x')\n",
        "x_assign_op = tf.assign(x, x + 5)\n",
        "z = x*2\n",
        "tf.global_variables_initializer().run()\n",
        "\n",
        "print('z = ', session.run(z))\n",
        "print('x = ', session.run(x))"
      ],
      "execution_count": 43,
      "outputs": [
        {
          "output_type": "stream",
          "text": [
            "z =  4.0\n",
            "x =  2.0\n"
          ],
          "name": "stdout"
        },
        {
          "output_type": "stream",
          "text": [
            "/usr/local/lib/python3.6/dist-packages/tensorflow/python/client/session.py:1735: UserWarning: An interactive session is already active. This can cause out-of-memory errors in some cases. You must explicitly call `InteractiveSession.close()` to release resources held by the other session(s).\n",
            "  warnings.warn('An interactive session is already active. This can '\n"
          ],
          "name": "stderr"
        }
      ]
    },
    {
      "cell_type": "code",
      "metadata": {
        "id": "XUtZNF6w9DDV",
        "colab_type": "code",
        "colab": {
          "base_uri": "https://localhost:8080/",
          "height": 51
        },
        "outputId": "6fd03338-bdaa-419b-99bd-63f00638e546"
      },
      "source": [
        "x = tf.Variable(tf.constant(2.0), name='x')\n",
        "with tf.control_dependencies([tf.assign(x, x+5)]):\n",
        "  z = x*2\n",
        "\n",
        "tf.global_variables_initializer().run()\n",
        "\n",
        "print('z=',session.run(z))\n",
        "print('x=',session.run(x))\n",
        "\n",
        "session.close()"
      ],
      "execution_count": 44,
      "outputs": [
        {
          "output_type": "stream",
          "text": [
            "z= 14.0\n",
            "x= 7.0\n"
          ],
          "name": "stdout"
        }
      ]
    },
    {
      "cell_type": "markdown",
      "metadata": {
        "id": "rxxOml36OlUt",
        "colab_type": "text"
      },
      "source": [
        "### MINST"
      ]
    },
    {
      "cell_type": "code",
      "metadata": {
        "id": "vZQ1rDQRWDcw",
        "colab_type": "code",
        "colab": {
          "base_uri": "https://localhost:8080/",
          "height": 493
        },
        "outputId": "977a27ee-5481-420d-8c7f-4d9af6f460d3"
      },
      "source": [
        "import struct\n",
        "import gzip\n",
        "import os\n",
        "from six.moves.urllib.request import urlretrieve\n",
        "\n",
        "def maybe_download(url, filename, expected_bytes, force=False):\n",
        "  \"\"\"Download a file if not present, and make sure it's the right size.\"\"\"\n",
        "  if force or not os.path.exists(filename):\n",
        "    print('Attempting to download:', filename) \n",
        "    filename, _ = urlretrieve(url + filename, filename)\n",
        "    print('\\nDownload Complete!')\n",
        "  statinfo = os.stat(filename)\n",
        "  if statinfo.st_size == expected_bytes:\n",
        "    print('Found and verified', filename)\n",
        "  else:\n",
        "    raise Exception(\n",
        "      'Failed to verify ' + filename + '. Can you get to it with a browser?')\n",
        "  return filename\n",
        "\n",
        "\n",
        "def read_mnist(fname_img, fname_lbl):\n",
        "    print('\\nReading files %s and %s'%(fname_img, fname_lbl))\n",
        "    \n",
        "    with gzip.open(fname_img) as fimg:        \n",
        "        magic, num, rows, cols = struct.unpack(\">IIII\", fimg.read(16))\n",
        "        print(num,rows,cols)\n",
        "        img = (np.frombuffer(fimg.read(num*rows*cols), dtype=np.uint8).reshape(num, rows * cols)).astype(np.float32)\n",
        "        print('(Images) Returned a tensor of shape ',img.shape)\n",
        "        \n",
        "        img = (img - np.mean(img))/np.std(img)\n",
        "        \n",
        "    with gzip.open(fname_lbl) as flbl:\n",
        "        # flbl.read(8) reads upto 8 bytes\n",
        "        magic, num = struct.unpack(\">II\", flbl.read(8))        \n",
        "        lbl = np.frombuffer(flbl.read(num), dtype=np.int8)\n",
        "        print('(Labels) Returned a tensor of shape: %s'%lbl.shape)\n",
        "        print('Sample labels: ',lbl[:10])\n",
        "        \n",
        "    return img, lbl\n",
        "    \n",
        "    \n",
        "# Download data if needed\n",
        "url = 'http://yann.lecun.com/exdb/mnist/'\n",
        "# training data\n",
        "maybe_download(url,'train-images-idx3-ubyte.gz',9912422)\n",
        "maybe_download(url,'train-labels-idx1-ubyte.gz',28881)\n",
        "# testing data\n",
        "maybe_download(url,'t10k-images-idx3-ubyte.gz',1648877)\n",
        "maybe_download(url,'t10k-labels-idx1-ubyte.gz',4542)\n",
        "\n",
        "# Read the training and testing data \n",
        "train_inputs, train_labels = read_mnist('train-images-idx3-ubyte.gz', 'train-labels-idx1-ubyte.gz')\n",
        "test_inputs, test_labels = read_mnist('t10k-images-idx3-ubyte.gz', 't10k-labels-idx1-ubyte.gz')"
      ],
      "execution_count": 110,
      "outputs": [
        {
          "output_type": "stream",
          "text": [
            "Attempting to download: train-images-idx3-ubyte.gz\n",
            "\n",
            "Download Complete!\n",
            "Found and verified train-images-idx3-ubyte.gz\n",
            "Attempting to download: train-labels-idx1-ubyte.gz\n",
            "\n",
            "Download Complete!\n",
            "Found and verified train-labels-idx1-ubyte.gz\n",
            "Attempting to download: t10k-images-idx3-ubyte.gz\n",
            "\n",
            "Download Complete!\n",
            "Found and verified t10k-images-idx3-ubyte.gz\n",
            "Attempting to download: t10k-labels-idx1-ubyte.gz\n",
            "\n",
            "Download Complete!\n",
            "Found and verified t10k-labels-idx1-ubyte.gz\n",
            "\n",
            "Reading files train-images-idx3-ubyte.gz and train-labels-idx1-ubyte.gz\n",
            "60000 28 28\n",
            "(Images) Returned a tensor of shape  (60000, 784)\n",
            "(Labels) Returned a tensor of shape: 60000\n",
            "Sample labels:  [5 0 4 1 9 2 1 3 1 4]\n",
            "\n",
            "Reading files t10k-images-idx3-ubyte.gz and t10k-labels-idx1-ubyte.gz\n",
            "10000 28 28\n",
            "(Images) Returned a tensor of shape  (10000, 784)\n",
            "(Labels) Returned a tensor of shape: 10000\n",
            "Sample labels:  [7 2 1 0 4 1 4 9 5 9]\n"
          ],
          "name": "stdout"
        }
      ]
    },
    {
      "cell_type": "code",
      "metadata": {
        "id": "BmcxABGCfKqG",
        "colab_type": "code",
        "colab": {}
      },
      "source": [
        "WEIGHTS_STRING = 'weights'\n",
        "BIAS_STRING = 'bias'\n",
        "\n",
        "batch_size = 100\n",
        "\n",
        "img_width, img_height = 28,28\n",
        "input_size = img_height * img_width\n",
        "num_labels = 10"
      ],
      "execution_count": 0,
      "outputs": []
    },
    {
      "cell_type": "code",
      "metadata": {
        "id": "dZj4EFpYfkUf",
        "colab_type": "code",
        "colab": {}
      },
      "source": [
        "tf_inputs = tf.placeholder(shape=[batch_size, input_size], dtype=tf.float32, name = 'inputs')\n",
        "tf_labels = tf.placeholder(shape=[batch_size, num_labels], dtype=tf.float32, name = 'labels')"
      ],
      "execution_count": 0,
      "outputs": []
    },
    {
      "cell_type": "code",
      "metadata": {
        "id": "oc6wh_OqPkcg",
        "colab_type": "code",
        "colab": {}
      },
      "source": [
        "# Defining the Tensorflow variables\n",
        "def define_net_parameters():\n",
        "    with tf.variable_scope('layer1'):\n",
        "        tf.get_variable(WEIGHTS_STRING,shape=[input_size,500],\n",
        "                            initializer=tf.random_normal_initializer(0,0.02))\n",
        "        tf.get_variable(BIAS_STRING, shape=[500],\n",
        "                           initializer=tf.random_uniform_initializer(0,0.01))\n",
        "        \n",
        "    with tf.variable_scope('layer2'):\n",
        "        tf.get_variable(WEIGHTS_STRING,shape=[500,250],\n",
        "                            initializer=tf.random_normal_initializer(0,0.02))\n",
        "        tf.get_variable(BIAS_STRING, shape=[250],\n",
        "                           initializer=tf.random_uniform_initializer(0,0.01))\n",
        "    \n",
        "    with tf.variable_scope('output'):\n",
        "        tf.get_variable(WEIGHTS_STRING,shape=[250,10],\n",
        "                            initializer=tf.random_normal_initializer(0,0.02))\n",
        "        tf.get_variable(BIAS_STRING, shape=[10],\n",
        "                           initializer=tf.random_uniform_initializer(0,0.01))"
      ],
      "execution_count": 0,
      "outputs": []
    },
    {
      "cell_type": "code",
      "metadata": {
        "id": "0DeDidMsfv_c",
        "colab_type": "code",
        "colab": {}
      },
      "source": [
        "def inference(x):\n",
        "    # calculations for layer 1\n",
        "    with tf.variable_scope('layer1',reuse=True):\n",
        "        w,b = tf.get_variable(WEIGHTS_STRING), tf.get_variable(BIAS_STRING)\n",
        "        tf_h1 = tf.nn.relu(tf.matmul(x,w) + b, name = 'hidden1')\n",
        "\n",
        "    # calculations for layer 2\n",
        "    with tf.variable_scope('layer2',reuse=True):\n",
        "        w,b = tf.get_variable(WEIGHTS_STRING), tf.get_variable(BIAS_STRING)\n",
        "        tf_h2 = tf.nn.relu(tf.matmul(tf_h1,w) + b, name = 'hidden1')\n",
        "\n",
        "    # calculations for output layer\n",
        "    with tf.variable_scope('output',reuse=True):\n",
        "        w,b = tf.get_variable(WEIGHTS_STRING), tf.get_variable(BIAS_STRING)\n",
        "        tf_logits = tf.nn.bias_add(tf.matmul(tf_h2,w), b, name = 'logits')\n",
        "\n",
        "    return tf_logits"
      ],
      "execution_count": 0,
      "outputs": []
    },
    {
      "cell_type": "code",
      "metadata": {
        "id": "nOzPPUyRgCZX",
        "colab_type": "code",
        "colab": {}
      },
      "source": [
        "define_net_parameters()\n",
        "\n",
        "# defining the loss\n",
        "tf_loss = tf.reduce_mean(tf.nn.softmax_cross_entropy_with_logits_v2(logits=inference(tf_inputs), labels=tf_labels))\n",
        "\n",
        "# defining the optimize function\n",
        "tf_loss_minimize = tf.train.MomentumOptimizer(momentum=0.9,learning_rate=0.01).minimize(tf_loss)"
      ],
      "execution_count": 0,
      "outputs": []
    },
    {
      "cell_type": "code",
      "metadata": {
        "id": "Go9e00vRgLIQ",
        "colab_type": "code",
        "colab": {}
      },
      "source": [
        "# defining predictions\n",
        "tf_predictions = tf.nn.softmax(inference(tf_inputs))"
      ],
      "execution_count": 0,
      "outputs": []
    },
    {
      "cell_type": "code",
      "metadata": {
        "id": "RX1i4lV8gNQH",
        "colab_type": "code",
        "colab": {
          "base_uri": "https://localhost:8080/",
          "height": 1000
        },
        "outputId": "1da1f6b1-286d-4c2c-bd8e-3af7405cb47f"
      },
      "source": [
        "session = tf.InteractiveSession()\n",
        "\n",
        "tf.global_variables_initializer().run()\n",
        "\n",
        "NUM_EPOCHS = 50\n",
        "\n",
        "def accuracy(predictions, labels):\n",
        "    ''' Measure the classification accuracy of some predictions (softmax outputs) \n",
        "    and labels (integer class labels)'''\n",
        "    return np.sum(np.argmax(predictions,axis=1).flatten()==labels.flatten())/batch_size\n",
        "\n",
        "test_accuracy_over_time = []\n",
        "train_loss_over_time = []\n",
        "\n",
        "for epoch in range(NUM_EPOCHS):\n",
        "    train_loss = []\n",
        "    \n",
        "    # Training Phase \n",
        "    for step in range(train_inputs.shape[0]//batch_size):\n",
        "        # Creating one-hot encoded labels with labels\n",
        "        # One-hot encoding dight 3 for 10-class MNIST data set will result in\n",
        "        # [0,0,0,1,0,0,0,0,0,0]\n",
        "        labels_one_hot = np.zeros((batch_size, num_labels),dtype=np.float32)\n",
        "        labels_one_hot[np.arange(batch_size),train_labels[step*batch_size:(step+1)*batch_size]] = 1.0\n",
        "        \n",
        "        # Printing the one-hot labels\n",
        "        if epoch ==0 and step==0:\n",
        "            print('Sample labels (one-hot)')\n",
        "            print(labels_one_hot[:10])\n",
        "            print()\n",
        "        \n",
        "        # Running the optimization process\n",
        "        loss, _ = session.run([tf_loss,tf_loss_minimize],feed_dict={\n",
        "            tf_inputs: train_inputs[step*batch_size: (step+1)*batch_size,:],\n",
        "            tf_labels: labels_one_hot}\n",
        "                             )\n",
        "        train_loss.append(loss) # Used to average the loss for a single epoch\n",
        "        \n",
        "    test_accuracy = []\n",
        "    # Testing Phase\n",
        "    for step in range(test_inputs.shape[0]//batch_size):\n",
        "        test_predictions = session.run(tf_predictions,feed_dict={tf_inputs: test_inputs[step*batch_size: (step+1)*batch_size,:]})\n",
        "        batch_test_accuracy = accuracy(test_predictions,test_labels[step*batch_size: (step+1)*batch_size])        \n",
        "        test_accuracy.append(batch_test_accuracy)\n",
        "    \n",
        "    print('Average train loss for the %d epoch: %.3f\\n'%(epoch+1,np.mean(train_loss)))\n",
        "    train_loss_over_time.append(np.mean(train_loss))\n",
        "    print('\\tAverage test accuracy for the %d epoch: %.2f\\n'%(epoch+1,np.mean(test_accuracy)*100.0))\n",
        "    test_accuracy_over_time.append(np.mean(test_accuracy)*100)\n",
        "    \n",
        "session.close()"
      ],
      "execution_count": 119,
      "outputs": [
        {
          "output_type": "stream",
          "text": [
            "/usr/local/lib/python3.6/dist-packages/tensorflow/python/client/session.py:1735: UserWarning: An interactive session is already active. This can cause out-of-memory errors in some cases. You must explicitly call `InteractiveSession.close()` to release resources held by the other session(s).\n",
            "  warnings.warn('An interactive session is already active. This can '\n"
          ],
          "name": "stderr"
        },
        {
          "output_type": "stream",
          "text": [
            "Sample labels (one-hot)\n",
            "[[0. 0. 0. 0. 0. 1. 0. 0. 0. 0.]\n",
            " [1. 0. 0. 0. 0. 0. 0. 0. 0. 0.]\n",
            " [0. 0. 0. 0. 1. 0. 0. 0. 0. 0.]\n",
            " [0. 1. 0. 0. 0. 0. 0. 0. 0. 0.]\n",
            " [0. 0. 0. 0. 0. 0. 0. 0. 0. 1.]\n",
            " [0. 0. 1. 0. 0. 0. 0. 0. 0. 0.]\n",
            " [0. 1. 0. 0. 0. 0. 0. 0. 0. 0.]\n",
            " [0. 0. 0. 1. 0. 0. 0. 0. 0. 0.]\n",
            " [0. 1. 0. 0. 0. 0. 0. 0. 0. 0.]\n",
            " [0. 0. 0. 0. 1. 0. 0. 0. 0. 0.]]\n",
            "\n",
            "Average train loss for the 1 epoch: 0.448\n",
            "\n",
            "\tAverage test accuracy for the 1 epoch: 94.64\n",
            "\n",
            "Average train loss for the 2 epoch: 0.140\n",
            "\n",
            "\tAverage test accuracy for the 2 epoch: 96.30\n",
            "\n",
            "Average train loss for the 3 epoch: 0.090\n",
            "\n",
            "\tAverage test accuracy for the 3 epoch: 96.94\n",
            "\n",
            "Average train loss for the 4 epoch: 0.063\n",
            "\n",
            "\tAverage test accuracy for the 4 epoch: 97.24\n",
            "\n",
            "Average train loss for the 5 epoch: 0.047\n",
            "\n",
            "\tAverage test accuracy for the 5 epoch: 97.60\n",
            "\n",
            "Average train loss for the 6 epoch: 0.035\n",
            "\n",
            "\tAverage test accuracy for the 6 epoch: 97.77\n",
            "\n",
            "Average train loss for the 7 epoch: 0.025\n",
            "\n",
            "\tAverage test accuracy for the 7 epoch: 97.78\n",
            "\n",
            "Average train loss for the 8 epoch: 0.019\n",
            "\n",
            "\tAverage test accuracy for the 8 epoch: 97.88\n",
            "\n",
            "Average train loss for the 9 epoch: 0.014\n",
            "\n",
            "\tAverage test accuracy for the 9 epoch: 97.98\n",
            "\n",
            "Average train loss for the 10 epoch: 0.011\n",
            "\n",
            "\tAverage test accuracy for the 10 epoch: 97.97\n",
            "\n",
            "Average train loss for the 11 epoch: 0.008\n",
            "\n",
            "\tAverage test accuracy for the 11 epoch: 97.90\n",
            "\n",
            "Average train loss for the 12 epoch: 0.006\n",
            "\n",
            "\tAverage test accuracy for the 12 epoch: 97.92\n",
            "\n",
            "Average train loss for the 13 epoch: 0.004\n",
            "\n",
            "\tAverage test accuracy for the 13 epoch: 98.12\n",
            "\n",
            "Average train loss for the 14 epoch: 0.003\n",
            "\n",
            "\tAverage test accuracy for the 14 epoch: 98.17\n",
            "\n",
            "Average train loss for the 15 epoch: 0.003\n",
            "\n",
            "\tAverage test accuracy for the 15 epoch: 98.22\n",
            "\n",
            "Average train loss for the 16 epoch: 0.002\n",
            "\n",
            "\tAverage test accuracy for the 16 epoch: 98.28\n",
            "\n",
            "Average train loss for the 17 epoch: 0.002\n",
            "\n",
            "\tAverage test accuracy for the 17 epoch: 98.27\n",
            "\n",
            "Average train loss for the 18 epoch: 0.001\n",
            "\n",
            "\tAverage test accuracy for the 18 epoch: 98.28\n",
            "\n",
            "Average train loss for the 19 epoch: 0.001\n",
            "\n",
            "\tAverage test accuracy for the 19 epoch: 98.26\n",
            "\n",
            "Average train loss for the 20 epoch: 0.001\n",
            "\n",
            "\tAverage test accuracy for the 20 epoch: 98.26\n",
            "\n",
            "Average train loss for the 21 epoch: 0.001\n",
            "\n",
            "\tAverage test accuracy for the 21 epoch: 98.26\n",
            "\n",
            "Average train loss for the 22 epoch: 0.001\n",
            "\n",
            "\tAverage test accuracy for the 22 epoch: 98.26\n",
            "\n",
            "Average train loss for the 23 epoch: 0.001\n",
            "\n",
            "\tAverage test accuracy for the 23 epoch: 98.29\n",
            "\n",
            "Average train loss for the 24 epoch: 0.001\n",
            "\n",
            "\tAverage test accuracy for the 24 epoch: 98.28\n",
            "\n",
            "Average train loss for the 25 epoch: 0.001\n",
            "\n",
            "\tAverage test accuracy for the 25 epoch: 98.29\n",
            "\n",
            "Average train loss for the 26 epoch: 0.001\n",
            "\n",
            "\tAverage test accuracy for the 26 epoch: 98.29\n",
            "\n",
            "Average train loss for the 27 epoch: 0.001\n",
            "\n",
            "\tAverage test accuracy for the 27 epoch: 98.28\n",
            "\n",
            "Average train loss for the 28 epoch: 0.001\n",
            "\n",
            "\tAverage test accuracy for the 28 epoch: 98.26\n",
            "\n",
            "Average train loss for the 29 epoch: 0.000\n",
            "\n",
            "\tAverage test accuracy for the 29 epoch: 98.26\n",
            "\n",
            "Average train loss for the 30 epoch: 0.000\n",
            "\n",
            "\tAverage test accuracy for the 30 epoch: 98.26\n",
            "\n",
            "Average train loss for the 31 epoch: 0.000\n",
            "\n",
            "\tAverage test accuracy for the 31 epoch: 98.25\n",
            "\n",
            "Average train loss for the 32 epoch: 0.000\n",
            "\n",
            "\tAverage test accuracy for the 32 epoch: 98.24\n",
            "\n",
            "Average train loss for the 33 epoch: 0.000\n",
            "\n",
            "\tAverage test accuracy for the 33 epoch: 98.24\n",
            "\n",
            "Average train loss for the 34 epoch: 0.000\n",
            "\n",
            "\tAverage test accuracy for the 34 epoch: 98.24\n",
            "\n",
            "Average train loss for the 35 epoch: 0.000\n",
            "\n",
            "\tAverage test accuracy for the 35 epoch: 98.23\n",
            "\n",
            "Average train loss for the 36 epoch: 0.000\n",
            "\n",
            "\tAverage test accuracy for the 36 epoch: 98.22\n",
            "\n",
            "Average train loss for the 37 epoch: 0.000\n",
            "\n",
            "\tAverage test accuracy for the 37 epoch: 98.23\n",
            "\n",
            "Average train loss for the 38 epoch: 0.000\n",
            "\n",
            "\tAverage test accuracy for the 38 epoch: 98.22\n",
            "\n",
            "Average train loss for the 39 epoch: 0.000\n",
            "\n",
            "\tAverage test accuracy for the 39 epoch: 98.23\n",
            "\n",
            "Average train loss for the 40 epoch: 0.000\n",
            "\n",
            "\tAverage test accuracy for the 40 epoch: 98.23\n",
            "\n",
            "Average train loss for the 41 epoch: 0.000\n",
            "\n",
            "\tAverage test accuracy for the 41 epoch: 98.23\n",
            "\n",
            "Average train loss for the 42 epoch: 0.000\n",
            "\n",
            "\tAverage test accuracy for the 42 epoch: 98.23\n",
            "\n",
            "Average train loss for the 43 epoch: 0.000\n",
            "\n",
            "\tAverage test accuracy for the 43 epoch: 98.23\n",
            "\n",
            "Average train loss for the 44 epoch: 0.000\n",
            "\n",
            "\tAverage test accuracy for the 44 epoch: 98.22\n",
            "\n",
            "Average train loss for the 45 epoch: 0.000\n",
            "\n",
            "\tAverage test accuracy for the 45 epoch: 98.22\n",
            "\n",
            "Average train loss for the 46 epoch: 0.000\n",
            "\n",
            "\tAverage test accuracy for the 46 epoch: 98.22\n",
            "\n",
            "Average train loss for the 47 epoch: 0.000\n",
            "\n",
            "\tAverage test accuracy for the 47 epoch: 98.22\n",
            "\n",
            "Average train loss for the 48 epoch: 0.000\n",
            "\n",
            "\tAverage test accuracy for the 48 epoch: 98.22\n",
            "\n",
            "Average train loss for the 49 epoch: 0.000\n",
            "\n",
            "\tAverage test accuracy for the 49 epoch: 98.22\n",
            "\n",
            "Average train loss for the 50 epoch: 0.000\n",
            "\n",
            "\tAverage test accuracy for the 50 epoch: 98.22\n",
            "\n"
          ],
          "name": "stdout"
        }
      ]
    },
    {
      "cell_type": "code",
      "metadata": {
        "id": "W-BGtSzNg-co",
        "colab_type": "code",
        "colab": {
          "base_uri": "https://localhost:8080/",
          "height": 383
        },
        "outputId": "8f344540-e3cf-4e15-ba61-7a22258640b7"
      },
      "source": [
        "\n",
        "x_axis = np.arange(len(train_loss_over_time))\n",
        "\n",
        "fig, ax = plt.subplots(nrows=1, ncols=2)\n",
        "fig.set_size_inches(w=25,h=5)\n",
        "ax[0].plot(x_axis, train_loss_over_time)\n",
        "ax[0].set_xlabel('Epochs',fontsize=18)\n",
        "ax[0].set_ylabel('Average train loss',fontsize=18)\n",
        "ax[0].set_title('Training Loss over Time',fontsize=20)\n",
        "ax[1].plot(x_axis, test_accuracy_over_time)\n",
        "ax[1].set_xlabel('Epochs',fontsize=18)\n",
        "ax[1].set_ylabel('Test accuracy',fontsize=18)\n",
        "ax[1].set_title('Test Accuracy over Time',fontsize=20)\n",
        "fig.savefig('mnist_stats.jpg')"
      ],
      "execution_count": 120,
      "outputs": [
        {
          "output_type": "display_data",
          "data": {
            "image/png": "[encoded data removed]",
            "text/plain": [
              "<Figure size 1800x360 with 2 Axes>"
            ]
          },
          "metadata": {
            "tags": []
          }
        }
      ]
    }
  ]
}