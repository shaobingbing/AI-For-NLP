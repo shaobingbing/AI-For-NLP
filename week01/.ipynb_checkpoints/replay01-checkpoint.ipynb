{
 "cells": [
  {
   "cell_type": "markdown",
   "metadata": {},
   "source": [
    "#### 地图搜索\n",
    "- networkx的用法\n",
    "- DFS\n",
    "- BFS"
   ]
  },
  {
   "cell_type": "code",
   "execution_count": 20,
   "metadata": {},
   "outputs": [],
   "source": [
    "BEIJING, CHANGCHUN, WULUMUQI, WUHAN, GUANGZHOU, SHENZHEN, BANGKOK, SHANGHAI, NEWYORK = \"\"\"\n",
    "北京 长春 乌鲁木齐 武汉 广州 深圳 曼谷 上海 纽约\n",
    "\"\"\".split()"
   ]
  },
  {
   "cell_type": "code",
   "execution_count": 21,
   "metadata": {},
   "outputs": [],
   "source": [
    "connection = {\n",
    "    CHANGCHUN:[BEIJING],\n",
    "    WULUMUQI:[BEIJING],\n",
    "    BEIJING:[WULUMUQI, CHANGCHUN, WUHAN, SHENZHEN, NEWYORK],\n",
    "    NEWYORK:[BEIJING,SHANGHAI],\n",
    "    SHANGHAI:[NEWYORK, WUHAN],\n",
    "    WUHAN:[SHANGHAI, BEIJING, GUANGZHOU],\n",
    "    GUANGZHOU:[WUHAN, BANGKOK],\n",
    "    SHENZHEN:[WUHAN, BANGKOK],\n",
    "    BANGKOK:[SHENZHEN, GUANGZHOU]\n",
    "}"
   ]
  },
  {
   "cell_type": "code",
   "execution_count": 79,
   "metadata": {},
   "outputs": [
    {
     "data": {
      "text/plain": [
       "['北京']"
      ]
     },
     "execution_count": 79,
     "metadata": {},
     "output_type": "execute_result"
    }
   ],
   "source": [
    "connection[CHANGCHUN]"
   ]
  },
  {
   "cell_type": "code",
   "execution_count": 23,
   "metadata": {},
   "outputs": [],
   "source": [
    "import networkx as nx\n",
    "%matplotlib inline\n",
    "import matplotlib as mpl\n",
    "mpl.rcParams['font.sans-serif'] = ['KaiTi']\n",
    "mpl.rcParams['font.serif'] = ['KaiTi']"
   ]
  },
  {
   "cell_type": "code",
   "execution_count": 140,
   "metadata": {},
   "outputs": [],
   "source": [
    "from collections import defaultdict\n",
    "\n",
    "# BFS\n",
    "def navigator(start, distination, connection_graph):\n",
    "    paths = [[start]]\n",
    "    visited = set()\n",
    "    results = []\n",
    "    while paths:\n",
    "        path = paths.pop(0)\n",
    "        current = path[-1]\n",
    "        \n",
    "        if current in visited:\n",
    "            continue;\n",
    "        visited.add(current)\n",
    "        \n",
    "        nexts = connection_graph[current]\n",
    "        for next in nexts:\n",
    "\n",
    "            current_path = path + [next]\n",
    "            if next == distination:\n",
    "                results.append(current_path)\n",
    "            paths.append(current_path)\n",
    "    return results\n",
    "\n",
    "# assignment2: DFS\n",
    "def navigator_dfs(start, destination, connection_graph):\n",
    "    paths = [[start]]\n",
    "    visited = set()\n",
    "    result = []\n",
    "    while paths:\n",
    "        path = paths.pop(0)\n",
    "        current = path[-1]\n",
    "        \n",
    "        if current in visited:\n",
    "            continue\n",
    "\n",
    "        for next in connection_graph[current]:\n",
    "            current_path = path + [next]\n",
    "            if next == destination:\n",
    "                result.append(current_path)\n",
    "            paths = [current_path] + paths\n",
    "        \n",
    "        visited.add(current)\n",
    "\n",
    "    return result\n",
    "    \n",
    "# 该函数将有向图转化为无向图    \n",
    "def diGraph_Graph(connection_graph):\n",
    "    connection = defaultdict(list)\n",
    "    for key, values in connection_graph.items():\n",
    "        for value in values:\n",
    "            if(value in connection[key]):\n",
    "                continue\n",
    "            else:\n",
    "                connection[key].append(value)\n",
    "            if key in connection[value]:\n",
    "                continue\n",
    "            else:\n",
    "                connection[value].append(key)\n",
    "    return connection\n",
    "\n",
    "def draw(routes):\n",
    "    for i,route in enumerate(routes):\n",
    "        print(i,\"->\".join(route))"
   ]
  },
  {
   "cell_type": "code",
   "execution_count": 141,
   "metadata": {},
   "outputs": [
    {
     "data": {
      "text/plain": [
       "[['曼谷', '广州', '武汉', '北京'],\n",
       " ['曼谷', '广州', '武汉', '北京', '纽约', '北京'],\n",
       " ['曼谷', '广州', '武汉', '北京', '长春', '北京'],\n",
       " ['曼谷', '广州', '武汉', '北京', '乌鲁木齐', '北京']]"
      ]
     },
     "execution_count": 141,
     "metadata": {},
     "output_type": "execute_result"
    }
   ],
   "source": [
    "navigator_dfs(\"曼谷\", \"北京\", connection)"
   ]
  },
  {
   "cell_type": "code",
   "execution_count": 142,
   "metadata": {},
   "outputs": [
    {
     "data": {
      "text/plain": [
       "[['曼谷', '深圳', '武汉', '北京'],\n",
       " ['曼谷', '深圳', '武汉', '上海', '纽约', '北京'],\n",
       " ['曼谷', '深圳', '武汉', '北京', '乌鲁木齐', '北京'],\n",
       " ['曼谷', '深圳', '武汉', '北京', '长春', '北京']]"
      ]
     },
     "execution_count": 142,
     "metadata": {},
     "output_type": "execute_result"
    }
   ],
   "source": [
    "navigator(\"曼谷\", \"北京\", connection)"
   ]
  },
  {
   "cell_type": "code",
   "execution_count": 92,
   "metadata": {},
   "outputs": [
    {
     "data": {
      "text/plain": [
       "{'长春': ['北京'],\n",
       " '乌鲁木齐': ['北京'],\n",
       " '北京': ['乌鲁木齐', '长春', '武汉', '深圳', '纽约'],\n",
       " '纽约': ['北京', '上海'],\n",
       " '上海': ['纽约', '武汉'],\n",
       " '武汉': ['上海', '北京', '广州'],\n",
       " '广州': ['武汉', '曼谷'],\n",
       " '深圳': ['武汉', '曼谷'],\n",
       " '曼谷': ['深圳', '广州']}"
      ]
     },
     "execution_count": 92,
     "metadata": {},
     "output_type": "execute_result"
    }
   ],
   "source": [
    "connection"
   ]
  },
  {
   "cell_type": "code",
   "execution_count": 93,
   "metadata": {},
   "outputs": [
    {
     "data": {
      "image/png": "[encoded data removed]",
      "text/plain": [
       "<Figure size 432x288 with 1 Axes>"
      ]
     },
     "metadata": {},
     "output_type": "display_data"
    }
   ],
   "source": [
    "graph = connection\n",
    "g = nx.DiGraph(graph)\n",
    "nx.draw(g, with_labels = True)"
   ]
  },
  {
   "cell_type": "code",
   "execution_count": 94,
   "metadata": {},
   "outputs": [
    {
     "data": {
      "text/plain": [
       "defaultdict(list,\n",
       "            {'长春': ['北京'],\n",
       "             '北京': ['长春', '乌鲁木齐', '武汉', '深圳', '纽约'],\n",
       "             '乌鲁木齐': ['北京'],\n",
       "             '武汉': ['北京', '上海', '广州', '深圳'],\n",
       "             '深圳': ['北京', '武汉', '曼谷'],\n",
       "             '纽约': ['北京', '上海'],\n",
       "             '上海': ['纽约', '武汉'],\n",
       "             '广州': ['武汉', '曼谷'],\n",
       "             '曼谷': ['广州', '深圳']})"
      ]
     },
     "execution_count": 94,
     "metadata": {},
     "output_type": "execute_result"
    }
   ],
   "source": [
    "diGraph_Graph(connection)"
   ]
  },
  {
   "cell_type": "code",
   "execution_count": 95,
   "metadata": {},
   "outputs": [
    {
     "data": {
      "image/png": "[encoded data removed]",
      "text/plain": [
       "<Figure size 432x288 with 1 Axes>"
      ]
     },
     "metadata": {},
     "output_type": "display_data"
    }
   ],
   "source": [
    "graph = diGraph_Graph(connection)\n",
    "g = nx.DiGraph(graph)\n",
    "nx.draw(g, with_labels = True)"
   ]
  },
  {
   "cell_type": "code",
   "execution_count": 120,
   "metadata": {},
   "outputs": [
    {
     "name": "stdout",
     "output_type": "stream",
     "text": [
      "有向图对应结果: [['曼谷', '深圳', '武汉', '北京'], ['曼谷', '深圳', '武汉', '上海', '纽约', '北京'], ['曼谷', '深圳', '武汉', '北京', '乌鲁木齐', '北京'], ['曼谷', '深圳', '武汉', '北京', '长春', '北京']]\n",
      "无向图对应结果: [['曼谷', '深圳', '北京'], ['曼谷', '广州', '武汉', '北京'], ['曼谷', '深圳', '北京', '长春', '北京'], ['曼谷', '深圳', '北京', '乌鲁木齐', '北京'], ['曼谷', '深圳', '北京', '纽约', '北京']]\n"
     ]
    }
   ],
   "source": [
    "# 该结果所给的对应的有向图, 最短路径只需返回第一个结果即可\n",
    "print(\"有向图对应结果:\",navigator(\"曼谷\", \"北京\", connection))\n",
    "\n",
    "print(\"无向图对应结果:\", navigator(\"曼谷\", \"北京\",diGraph_Graph(connection)))"
   ]
  },
  {
   "cell_type": "code",
   "execution_count": 143,
   "metadata": {},
   "outputs": [
    {
     "data": {
      "text/plain": [
       "[[1, 2], [2, 3], 3]"
      ]
     },
     "execution_count": 143,
     "metadata": {},
     "output_type": "execute_result"
    }
   ],
   "source": [
    "a = [ [1,2], [2,3]]\n",
    "a + [3]\n",
    "                "
   ]
  },
  {
   "cell_type": "markdown",
   "metadata": {},
   "source": [
    "####  语法解析"
   ]
  },
  {
   "cell_type": "code",
   "execution_count": 152,
   "metadata": {},
   "outputs": [],
   "source": [
    "def parse_grammer(grammer_str, sep = '=>'):\n",
    "    grammer = {}\n",
    "    for line in grammer_str.split('\\n'):\n",
    "        line = line.strip()\n",
    "        if not line:\n",
    "            continue\n",
    "        target, rules = line.split(sep)\n",
    "        grammer[target.strip()] = [r.split() for r in rules.split('|')]\n",
    "        \n",
    "    return grammer"
   ]
  },
  {
   "cell_type": "code",
   "execution_count": 148,
   "metadata": {},
   "outputs": [],
   "source": [
    "decimal_grammar = \"\"\"\n",
    "expression = operator op operator\n",
    "operator = num op num\n",
    "num = 0 | 1 | 2 | 3 | 4 | 5 | 6 | 7 | 8 | 9 | num num\n",
    "op = + | - | * | /\n",
    "\"\"\""
   ]
  },
  {
   "cell_type": "code",
   "execution_count": 154,
   "metadata": {},
   "outputs": [
    {
     "data": {
      "text/plain": [
       "{'expression': [['operator', 'op', 'operator']],\n",
       " 'operator': [['num', 'op', 'num']],\n",
       " 'num': [['0'],\n",
       "  ['1'],\n",
       "  ['2'],\n",
       "  ['3'],\n",
       "  ['4'],\n",
       "  ['5'],\n",
       "  ['6'],\n",
       "  ['7'],\n",
       "  ['8'],\n",
       "  ['9'],\n",
       "  ['num', 'num']],\n",
       " 'op': [['+'], ['-'], ['*'], ['/']]}"
      ]
     },
     "execution_count": 154,
     "metadata": {},
     "output_type": "execute_result"
    }
   ],
   "source": [
    "parse_grammer(decimal_grammar, sep = '=')"
   ]
  },
  {
   "cell_type": "code",
   "execution_count": 157,
   "metadata": {},
   "outputs": [],
   "source": [
    "grammar = \"\"\"\n",
    "sentence => noun_phrase verb_phrase \n",
    "noun_phrase => Article Adj* noun\n",
    "Adj* => null | Adj Adj*\n",
    "verb_phrase => verb noun_phrase\n",
    "Article =>  一个 | 这个\n",
    "noun =>   女人 |  篮球 | 桌子 | 小猫\n",
    "verb => 看着   |  坐在 |  听着 | 看见\n",
    "Adj =>   蓝色的 |  好看的 | 小小的\n",
    "\"\"\""
   ]
  },
  {
   "cell_type": "code",
   "execution_count": 162,
   "metadata": {},
   "outputs": [],
   "source": [
    "g = parse_grammer(grammar)"
   ]
  },
  {
   "cell_type": "code",
   "execution_count": 166,
   "metadata": {},
   "outputs": [],
   "source": [
    "import random\n",
    "def gene(parsed_grammer, target = 'sentence'):\n",
    "    if target not in parsed_grammer: return target\n",
    "    \n",
    "    rule = random.choice(parsed_grammer[target])\n",
    "    return ''.join(gene(parsed_grammer, target = r) for r in rule if r!='null')"
   ]
  },
  {
   "cell_type": "code",
   "execution_count": 167,
   "metadata": {},
   "outputs": [
    {
     "data": {
      "text/plain": [
       "[['noun_phrase', 'verb_phrase']]"
      ]
     },
     "execution_count": 167,
     "metadata": {},
     "output_type": "execute_result"
    }
   ],
   "source": [
    "g['sentence']"
   ]
  },
  {
   "cell_type": "code",
   "execution_count": 168,
   "metadata": {},
   "outputs": [
    {
     "data": {
      "text/plain": [
       "'一个好看的蓝色的篮球听着这个好看的小猫'"
      ]
     },
     "execution_count": 168,
     "metadata": {},
     "output_type": "execute_result"
    }
   ],
   "source": [
    "gene(g)"
   ]
  }
 ],
 "metadata": {
  "kernelspec": {
   "display_name": "Python 3",
   "language": "python",
   "name": "python3"
  },
  "language_info": {
   "codemirror_mode": {
    "name": "ipython",
    "version": 3
   },
   "file_extension": ".py",
   "mimetype": "text/x-python",
   "name": "python",
   "nbconvert_exporter": "python",
   "pygments_lexer": "ipython3",
   "version": "3.7.3"
  }
 },
 "nbformat": 4,
 "nbformat_minor": 2
}
