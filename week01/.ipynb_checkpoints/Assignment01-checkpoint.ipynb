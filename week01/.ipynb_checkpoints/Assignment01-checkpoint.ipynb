{
 "cells": [
  {
   "cell_type": "markdown",
   "metadata": {},
   "source": [
    "#### 基于模式匹配的对话机器人实现"
   ]
  },
  {
   "cell_type": "code",
   "execution_count": 20,
   "metadata": {},
   "outputs": [],
   "source": [
    "def is_variable(pat):\n",
    "    return pat.startswith('?') and all(s.isalpha() for s in pat[1:])"
   ]
  },
  {
   "cell_type": "code",
   "execution_count": 167,
   "metadata": {},
   "outputs": [],
   "source": [
    "# pre1\n",
    "def pat_match(pattern, saying):\n",
    "    if is_variable(pattern[0]):\n",
    "        return True\n",
    "    else:\n",
    "        if pattern[0] != saying[0]:\n",
    "            return False\n",
    "        else:\n",
    "            return pat_match(pattern[1:], saying[1:])\n",
    "        \n",
    "def test():\n",
    "    patterns = ['I want ?X', 'I have dreamd a ?X', 'I dreamed about ?X']\n",
    "    sayings = ['I want a holiday', 'I dreamed about dog', 'I dreamed about dog']\n",
    "    \n",
    "    assert pat_match(patterns[0], sayings[0]) == True\n",
    "    assert pat_match(patterns[1], sayings[1]) == False\n",
    "    assert pat_match(patterns[2], sayings[2]) == True\n",
    "    \n",
    "    print('test1 passed')"
   ]
  },
  {
   "cell_type": "code",
   "execution_count": 168,
   "metadata": {},
   "outputs": [
    {
     "name": "stdout",
     "output_type": "stream",
     "text": [
      "test1 passed\n"
     ]
    }
   ],
   "source": [
    "test()"
   ]
  },
  {
   "cell_type": "code",
   "execution_count": 169,
   "metadata": {},
   "outputs": [],
   "source": [
    "# pre2\n",
    "def patch_match(pattern, saying):\n",
    "    if is_variable(pattern[0]):\n",
    "        return pattern[0], saying[0]\n",
    "    else:\n",
    "        if pattern[0] != saying[0]:\n",
    "            return False\n",
    "        else:\n",
    "            return patch_match(pattern[1:], saying[1:])\n",
    "def test2():\n",
    "    patterns = ['I want ?X', 'I have dreamd a ?X', 'I dreamed about ?X', \"?X equals ?X\"]\n",
    "    sayings = ['I want holiday', 'I dreamed about dog', 'I dreamed about dog', \"2+2 equals 2+2\"]\n",
    "    result1 = ('?X', 'holiday' )\n",
    "    result2 = False\n",
    "    result3 = ('?X', 'dog')\n",
    "    assert patch_match(patterns[0].split(), sayings[0].split()) ==  result1\n",
    "    assert patch_match(patterns[1].split(), sayings[1].split()) ==  result2\n",
    "    assert patch_match(patterns[2].split(), sayings[2].split()) ==  result3\n",
    "\n",
    "    print('test2 passed')"
   ]
  },
  {
   "cell_type": "code",
   "execution_count": 170,
   "metadata": {},
   "outputs": [
    {
     "name": "stdout",
     "output_type": "stream",
     "text": [
      "test2 passed\n"
     ]
    }
   ],
   "source": [
    "test2()"
   ]
  },
  {
   "cell_type": "code",
   "execution_count": 181,
   "metadata": {},
   "outputs": [],
   "source": [
    "# pre3, 多个变量的匹配\n",
    "def pat_match(pattern, saying):\n",
    "    if not pattern or not saying: return []\n",
    "    \n",
    "    if is_variable(pattern[0]):\n",
    "        return [(pattern[0], saying[0])] + pat_match(pattern[1:], saying[1:])\n",
    "    else:\n",
    "        if pattern[0] != saying[0]: return []\n",
    "        else:\n",
    "            return pat_match(pattern[1:], saying[1:])\n",
    "\n",
    "def pat_to_dict(patterns):\n",
    "    return {k:v for k,v in patterns}\n",
    "\n",
    "def test3():\n",
    "    patterns = ['I want ?X', 'I have dreamd a ?X', 'I dreamed about ?X', \"?X equals ?X\", '?X greater than ?Y']\n",
    "    sayings = ['I want holiday', 'I dreamed about dog', 'I dreamed about dog', \"2+2 equals 2+2\",'3 greater than 2']\n",
    "    assert pat_to_dict(pat_match(patterns[0].split(), sayings[0].split())) ==  {'?X': 'holiday'}\n",
    "    assert pat_to_dict(pat_match(patterns[1].split(), sayings[1].split())) ==  {}\n",
    "    assert pat_to_dict(pat_match(patterns[2].split(), sayings[2].split())) ==  {'?X': 'dog'}\n",
    "    assert pat_to_dict(pat_match(patterns[3].split(), sayings[3].split())) ==  {'?X':'2+2'}\n",
    "    assert pat_to_dict(pat_match(patterns[4].split(), sayings[4].split())) ==  {'?X':'3', '?Y':'2'}\n",
    "\n",
    "\n",
    "    print('test3 passed')"
   ]
  },
  {
   "cell_type": "code",
   "execution_count": 180,
   "metadata": {},
   "outputs": [
    {
     "name": "stdout",
     "output_type": "stream",
     "text": [
      "test3 passed\n"
     ]
    }
   ],
   "source": [
    "test3()"
   ]
  },
  {
   "cell_type": "code",
   "execution_count": 183,
   "metadata": {},
   "outputs": [
    {
     "data": {
      "text/plain": [
       "[('?X', 'xiaom')]"
      ]
     },
     "execution_count": 183,
     "metadata": {},
     "output_type": "execute_result"
    }
   ],
   "source": [
    "# 有点不合理，应予以修改\n",
    "pat_match('?X love t'.split(), 'xiaom lox'.split())"
   ]
  },
  {
   "cell_type": "code",
   "execution_count": 173,
   "metadata": {},
   "outputs": [],
   "source": [
    "def substitute(rule, parsed_rules):\n",
    "    if not rule: return []\n",
    "    return [parsed_rules.get(rule[0], rule[0])] + substitute(rule[1:], parsed_rules)\n",
    "\n",
    "def test4():\n",
    "    patterns = ['I want ?X', '?P needs ?X','?P needs ?X']\n",
    "    sayings = ['I want iPhone', 'John needs resting', 'John needs vacation']\n",
    "    \n",
    "    pattern1 = pat_to_dict(pat_match(patterns[0].split(), sayings[0].split()))\n",
    "    pattern2 = pat_to_dict(pat_match(patterns[1].split(), sayings[1].split()))\n",
    "    pattern3 = pat_to_dict(pat_match(patterns[2].split(), sayings[2].split()))\n",
    "\n",
    "    rules = [\"What if you mean if you got a ?X\", \"why does ?P needs ?X ?\"]\n",
    "    \n",
    "    assert substitute(rules[0].split(), pattern1) == ['What', 'if', 'you', 'mean', 'if', 'you', 'got', 'a', 'iPhone']\n",
    "    assert substitute(rules[1].split(), pattern2) == ['why', 'does', 'John', 'needs', 'resting', '?']\n",
    "    assert substitute(rules[1].split(), pattern3) == ['why', 'does', 'John', 'needs', 'vacation', '?']\n",
    "\n",
    "    print(\"test4 passed\")"
   ]
  },
  {
   "cell_type": "code",
   "execution_count": 174,
   "metadata": {},
   "outputs": [
    {
     "name": "stdout",
     "output_type": "stream",
     "text": [
      "test4 passed\n"
     ]
    }
   ],
   "source": [
    "test4()"
   ]
  },
  {
   "cell_type": "code",
   "execution_count": 175,
   "metadata": {},
   "outputs": [],
   "source": [
    "# assignment 1: dialog 01\n",
    "defined_patterns = {\"I need ?X\": [\"Image you will get ?X soon\", \"Why do you need ?X ?\"], \n",
    "    \"My ?X told me something\": [\"Talk about more about your ?X\", \"How do you think about your ?X ?\"]\n",
    "}\n",
    "\n",
    "\n",
    "def get_response(saying, rules = ''):\n",
    "    \"\"\"\" please implement the code, to get the response as followings:\n",
    "    \n",
    "    >>> get_response('I need iPhone') \n",
    "    >>> Image you will get iPhone soon\n",
    "    >>> get_response(\"My mother told me something\")\n",
    "    >>> Talk about more about your mother.\n",
    "    \"\"\"\n",
    "    pattern = {}\n",
    "    result = \"\"\n",
    "    for key in defined_patterns:\n",
    "        pattern = pat_to_dict(pat_match(key.split(), saying.split()))\n",
    "        if pattern:\n",
    "            result = defined_patterns[key][0]\n",
    "            break\n",
    "    \n",
    "    result = ' '.join(substitute(result.split(), pattern))\n",
    "    return result\n",
    "    \n",
    "    pass\n",
    "\n",
    "def test5():\n",
    "    assert get_response('I need iPhone') == \"Image you will get iPhone soon\"\n",
    "    assert get_response(\"My mother told me something\") == \"Talk about more about your mother\"\n",
    "    print(\"test5 passed\")"
   ]
  },
  {
   "cell_type": "code",
   "execution_count": 176,
   "metadata": {},
   "outputs": [
    {
     "name": "stdout",
     "output_type": "stream",
     "text": [
      "test5 passed\n"
     ]
    }
   ],
   "source": [
    "test5()"
   ]
  },
  {
   "cell_type": "code",
   "execution_count": 305,
   "metadata": {},
   "outputs": [],
   "source": [
    "# segment pattern\n",
    "from collections import defaultdict\n",
    "\n",
    "fail = [None]\n",
    "def is_pattern_segment(pattern):\n",
    "    return pattern.startswith('?*') and all(a.isalpha() for a in pattern[2:])\n",
    "\n",
    "def pat_match_with_seg(pattern, saying):\n",
    "    if not pattern or not saying: return []\n",
    "    \n",
    "    pat = pattern[0]\n",
    "    if is_variable(pat):\n",
    "        return [(pat, saying[0])] + pat_match_with_seg(pattern[1:], saying[1:])\n",
    "    elif is_pattern_segment(pat):\n",
    "        if segment_match(pattern, saying) != fail:\n",
    "            match ,index = segment_match(pattern, saying)\n",
    "            return [match] + pat_match_with_seg(pattern[1:], saying[index:])\n",
    "        \n",
    "    elif pat == saying[0]:\n",
    "        return pat_match_with_seg(pattern[1:], saying[1:])\n",
    "    else:\n",
    "        return fail\n",
    "    \n",
    "def segment_match(pattern, saying):\n",
    "    seg_pat = pattern[0]\n",
    "    seg_pat = seg_pat.replace('?*', '?')\n",
    "\n",
    "    if len(pattern) > 1:\n",
    "        rest = pattern[1:]\n",
    "    else:\n",
    "        return(seg_pat, saying), 0\n",
    "    \n",
    "    for i,token in enumerate(saying):\n",
    "\n",
    "        if rest[0] == token: \n",
    "            return (seg_pat, saying[:i]), i\n",
    "        \n",
    "    return fail\n",
    "\n",
    "def is_match(rest, saying):\n",
    "    \n",
    "    if not rest and not saying:\n",
    "        return True\n",
    "    if not all(a.isalpha() for a in rest[0]):\n",
    "        print(rest[0])\n",
    "        return True\n",
    "    \n",
    "    if rest[0] != saying[0]:\n",
    "        return False\n",
    "    \n",
    "    return is_match(rest[1:], saying[1:])\n",
    "\n",
    "def pat_to_dict(patterns):\n",
    "    return {k: ' '.join(v) if isinstance(v, list) else v for k, v in patterns}\n",
    "\n",
    "def test6():\n",
    "    assert is_pattern_segment('?*P') == True\n",
    "    assert pat_match_with_seg('?*P is not ?X very good'.split(), \"My dog and my cat is ok good\".split()) == [('?P', ['My', 'dog', 'and', 'my', 'cat']), None]\n",
    "    \n",
    "    assert pat_match_with_seg('?*P is very good and ?*X'.split(), \"My dog is very good and my cat is very cute\".split()) == [('?P', ['My', 'dog']), ('?X', ['my', 'cat', 'is', 'very', 'cute'])]\n",
    "    assert pat_match_with_seg('?*P is very good and ?*X'.split(), \"My dog is very good and my cat is very cute\".split()) == [('?P', ['My', 'dog']), ('?X', ['my', 'cat', 'is', 'very', 'cute'])]\n",
    "    assert pat_match_with_seg('I need ?*X'.split(), \n",
    "                  \"I need an iPhone\".split()) == [('?X', ['an', 'iPhone'])]\n",
    "    assert substitute(\"Why do you neeed ?X\".split(), pat_to_dict(pat_match_with_seg('I need ?*X'.split(), \n",
    "                  \"I need an iPhone\".split()))) == ['Why', 'do', 'you', 'neeed', 'an iPhone']\n",
    "    assert substitute(\"Hi, how do you do?\".split(), pat_to_dict(pat_match_with_seg('?*X hello ?*Y'.split(), \n",
    "                  \"I am mike, hello \".split()))) == ['Hi,', 'how', 'do', 'you', 'do?']\n",
    "   \n",
    "    print('test6 passed')"
   ]
  },
  {
   "cell_type": "code",
   "execution_count": 306,
   "metadata": {},
   "outputs": [
    {
     "name": "stdout",
     "output_type": "stream",
     "text": [
      "test6 passed\n"
     ]
    }
   ],
   "source": [
    "test6()"
   ]
  },
  {
   "cell_type": "markdown",
   "metadata": {},
   "source": [
    "#### assignment "
   ]
  },
  {
   "cell_type": "markdown",
   "metadata": {},
   "source": [
    "Q1:编写一个程序, get_response(saying, response_rules)输入是一个字符串 + 我们定义的 rules，例如上边我们所写的 pattern， 输出是一个回答。"
   ]
  },
  {
   "cell_type": "code",
   "execution_count": 341,
   "metadata": {},
   "outputs": [],
   "source": [
    "import random\n",
    "rules = {\n",
    "    \"?*X hello ?*Y\": [\"Hi, how do you do?\"],\n",
    "    \"I was ?*X\": [\"Were you really ?X ?\", \"I already knew you were ?X .\"]\n",
    "}\n",
    "\n",
    "def get_response(saying, response_rules):\n",
    "    pattern = {}\n",
    "    result = \"\"\n",
    "    for key in response_rules:\n",
    "        rules = pat_match_with_seg(key.split(), saying.split())\n",
    "        if rules and rules[-1] != None:\n",
    "            pattern = pat_to_dict(rules)\n",
    "            result = random.choice(response_rules[key])\n",
    "            break\n",
    "    \n",
    "    return ' '.join(substitute(result.split(), pattern))\n",
    "\n",
    "def test_q1():\n",
    "    assert get_response(\"sany hello pig\", rules) == 'Hi, how do you do?'\n",
    "    assert get_response(\"I was good boy\", rules) == 'I already knew you were good boy .' or 'Were you really good boy ?'\n",
    "    \n",
    "    print(\"test_q1 passed\")\n",
    "    "
   ]
  },
  {
   "cell_type": "code",
   "execution_count": 350,
   "metadata": {},
   "outputs": [
    {
     "name": "stdout",
     "output_type": "stream",
     "text": [
      "test_q1 passed\n"
     ]
    }
   ],
   "source": [
    "test_q1()"
   ]
  },
  {
   "cell_type": "markdown",
   "metadata": {},
   "source": [
    "Q2:改写以上程序，将程序变成能够支持中文输入的模式。 提示: 你可以需用用到 jieba 分词"
   ]
  },
  {
   "cell_type": "markdown",
   "metadata": {},
   "source": [
    "Q3: 多设计一些模式，让这个程序变得更好玩，多和大家交流，看看大家有什么好玩的模式"
   ]
  },
  {
   "cell_type": "markdown",
   "metadata": {},
   "source": [
    "Q4:\n",
    "- 这样的程序有什么优点？有什么缺点？你有什么可以改进的方法吗？\n",
    "- 什么是数据驱动？数据驱动在这个程序里如何体现？\n",
    "- 数据驱动与 AI 的关系是什么？"
   ]
  },
  {
   "cell_type": "code",
   "execution_count": null,
   "metadata": {},
   "outputs": [],
   "source": [
    "rule_responses = {\n",
    "    '?*x hello ?*y': ['How do you do', 'Please state your problem'],\n",
    "    '?*x I want ?*y': ['what would it mean if you got ?y', 'Why do you want ?y', 'Suppose you got ?y soon'],\n",
    "    '?*x if ?*y': ['Do you really think its likely that ?y', 'Do you wish that ?y', 'What do you think about ?y', 'Really-- if ?y'],\n",
    "    '?*x no ?*y': ['why not?', 'You are being a negative', 'Are you saying \\'No\\' just to be negative?'],\n",
    "    '?*x I was ?*y': ['Were you really', 'Perhaps I already knew you were ?y', 'Why do you tell me you were ?y now?'],\n",
    "    '?*x I feel ?*y': ['Do you often feel ?y ?', 'What other feelings do you have?'],\n",
    "    '?*x你好?*y': ['你好呀', '请告诉我你的问题'],\n",
    "    '?*x我想?*y': ['你觉得?y有什么意义呢？', '为什么你想?y', '你可以想想你很快就可以?y了'],\n",
    "    '?*x我想要?*y': ['?x想问你，你觉得?y有什么意义呢?', '为什么你想?y', '?x觉得... 你可以想想你很快就可以有?y了', '你看?x像?y不', '我看你就像?y'],\n",
    "    '?*x喜欢?*y': ['喜欢?y的哪里？', '?y有什么好的呢？', '你想要?y吗？'],\n",
    "    '?*x讨厌?*y': ['?y怎么会那么讨厌呢?', '讨厌?y的哪里？', '?y有什么不好呢？', '你不想要?y吗？'],\n",
    "    '?*xAI?*y': ['你为什么要提AI的事情？', '你为什么觉得AI要解决你的问题？'],\n",
    "    '?*x机器人?*y': ['你为什么要提机器人的事情？', '你为什么觉得机器人要解决你的问题？'],\n",
    "    '?*x对不起?*y': ['不用道歉', '你为什么觉得你需要道歉呢?'],\n",
    "    '?*x我记得?*y': ['你经常会想起这个吗？', '除了?y你还会想起什么吗？', '你为什么和我提起?y'],\n",
    "    '?*x如果?*y': ['你真的觉得?y会发生吗？', '你希望?y吗?', '真的吗？如果?y的话', '关于?y你怎么想？'],\n",
    "    '?*x我?*z梦见?*y':['真的吗? --- ?y', '你在醒着的时候，以前想象过?y吗？', '你以前梦见过?y吗'],\n",
    "    '?*x妈妈?*y': ['你家里除了?y还有谁?', '嗯嗯，多说一点和你家里有关系的', '她对你影响很大吗？'],\n",
    "    '?*x爸爸?*y': ['你家里除了?y还有谁?', '嗯嗯，多说一点和你家里有关系的', '他对你影响很大吗？', '每当你想起你爸爸的时候， 你还会想起其他的吗?'],\n",
    "    '?*x我愿意?*y': ['我可以帮你?y吗？', '你可以解释一下，为什么想?y'],\n",
    "    '?*x我很难过，因为?*y': ['我听到你这么说， 也很难过', '?y不应该让你这么难过的'],\n",
    "    '?*x难过?*y': ['我听到你这么说， 也很难过',\n",
    "                 '不应该让你这么难过的，你觉得你拥有什么，就会不难过?',\n",
    "                 '你觉得事情变成什么样，你就不难过了?'],\n",
    "    '?*x就像?*y': ['你觉得?x和?y有什么相似性？', '?x和?y真的有关系吗？', '怎么说？'],\n",
    "    '?*x和?*y都?*z': ['你觉得?z有什么问题吗?', '?z会对你有什么影响呢?'],\n",
    "    '?*x和?*y一样?*z': ['你觉得?z有什么问题吗?', '?z会对你有什么影响呢?'],\n",
    "    '?*x我是?*y': ['真的吗？', '?x想告诉你，或许我早就知道你是?y', '你为什么现在才告诉我你是?y'],\n",
    "    '?*x我是?*y吗': ['如果你是?y会怎么样呢？', '你觉得你是?y吗', '如果你是?y，那一位着什么?'],\n",
    "    '?*x你是?*y吗':  ['你为什么会对我是不是?y感兴趣?', '那你希望我是?y吗', '你要是喜欢， 我就会是?y'],\n",
    "    '?*x你是?*y' : ['为什么你觉得我是?y'],\n",
    "    '?*x因为?*y' : ['?y是真正的原因吗？', '你觉得会有其他原因吗?'],\n",
    "    '?*x我不能?*y': ['你或许现在就能?*y', '如果你能?*y,会怎样呢？'],\n",
    "    '?*x我觉得?*y': ['你经常这样感觉吗？', '除了到这个，你还有什么其他的感觉吗？'],\n",
    "    '?*x我?*y你?*z': ['其实很有可能我们互相?y'],\n",
    "    '?*x你为什么不?*y': ['你自己为什么不?y', '你觉得我不会?y', '等我心情好了，我就?y'],\n",
    "    '?*x好的?*y': ['好的', '你是一个很正能量的人'],\n",
    "    '?*x嗯嗯?*y': ['好的', '你是一个很正能量的人'],\n",
    "    '?*x不嘛?*y': ['为什么不？', '你有一点负能量', '你说 不，是想表达不想的意思吗？'],\n",
    "    '?*x不要?*y': ['为什么不？', '你有一点负能量', '你说 不，是想表达不想的意思吗？'],\n",
    "    '?*x有些人?*y': ['具体是哪些人呢?'],\n",
    "    '?*x有的人?*y': ['具体是哪些人呢?'],\n",
    "    '?*x某些人?*y': ['具体是哪些人呢?'],\n",
    "    '?*x每个人?*y': ['我确定不是人人都是', '你能想到一点特殊情况吗？', '例如谁？', '你看到的其实只是一小部分人'],\n",
    "    '?*x所有人?*y': ['我确定不是人人都是', '你能想到一点特殊情况吗？', '例如谁？', '你看到的其实只是一小部分人'],\n",
    "    '?*x总是?*y': ['你能想到一些其他情况吗?', '例如什么时候?', '你具体是说哪一次？', '真的---总是吗？'],\n",
    "    '?*x一直?*y': ['你能想到一些其他情况吗?', '例如什么时候?', '你具体是说哪一次？', '真的---总是吗？'],\n",
    "    '?*x或许?*y': ['你看起来不太确定'],\n",
    "    '?*x可能?*y': ['你看起来不太确定'],\n",
    "    '?*x他们是?*y吗？': ['你觉得他们可能不是?y？'],\n",
    "    '?*x': ['很有趣', '请继续', '我不太确定我很理解你说的, 能稍微详细解释一下吗?']\n",
    "}"
   ]
  }
 ],
 "metadata": {
  "kernelspec": {
   "display_name": "Python 3",
   "language": "python",
   "name": "python3"
  },
  "language_info": {
   "codemirror_mode": {
    "name": "ipython",
    "version": 3
   },
   "file_extension": ".py",
   "mimetype": "text/x-python",
   "name": "python",
   "nbconvert_exporter": "python",
   "pygments_lexer": "ipython3",
   "version": "3.7.3"
  }
 },
 "nbformat": 4,
 "nbformat_minor": 2
}
