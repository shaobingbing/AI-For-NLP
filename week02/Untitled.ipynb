{
 "cells": [
  {
   "cell_type": "code",
   "execution_count": 1,
   "metadata": {},
   "outputs": [],
   "source": [
    "def laplace_smooth(counter, c = 1):\n",
    "    # 确切来说: add-k smoothing, c = 1为拉普拉斯平滑\n",
    "    N = sum(counter.values())\n",
    "    N_plus = N + c*(len(counter) + 1)\n",
    "    \n",
    "    return lambda word: (counter[word] + c)/N_plus"
   ]
  },
  {
   "cell_type": "code",
   "execution_count": null,
   "metadata": {},
   "outputs": [],
   "source": [
    "def simple_good_turing_version(counter, base = 1/26, prior = 1e-8):\n",
    "    N = sum(counter.values())\n",
    "    \n",
    "    lengthes = map(len, [w for w in counter if counter[w] == 1])\n",
    "    ones = Counter(lengthes)\n",
    "    longest = max(ones)\n",
    "    \n",
    "    def _get_prob(w):\n",
    "        if w in counter:\n",
    "            prob = counter[w]/N\n",
    "        elif len(w) in ones:\n",
    "            prob = prior * ones[len(w)]/N\n",
    "        else:\n",
    "            prob = prior * ones[longest] / N * base**(len(word) - longest)\n",
    "        return prob\n",
    "\n",
    "    return _get_prob"
   ]
  }
 ],
 "metadata": {
  "kernelspec": {
   "display_name": "Python 3",
   "language": "python",
   "name": "python3"
  },
  "language_info": {
   "codemirror_mode": {
    "name": "ipython",
    "version": 3
   },
   "file_extension": ".py",
   "mimetype": "text/x-python",
   "name": "python",
   "nbconvert_exporter": "python",
   "pygments_lexer": "ipython3",
   "version": "3.7.3"
  }
 },
 "nbformat": 4,
 "nbformat_minor": 2
}
