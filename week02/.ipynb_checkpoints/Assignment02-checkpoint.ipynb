{
 "cells": [
  {
   "cell_type": "markdown",
   "metadata": {},
   "source": [
    "### assignment01 "
   ]
  },
  {
   "cell_type": "markdown",
   "metadata": {},
   "source": [
    "Q1： 如何使用github，为什么要使用jupyter和pycharm"
   ]
  },
  {
   "cell_type": "markdown",
   "metadata": {},
   "source": [
    "Q2: 什么是概率模型"
   ]
  },
  {
   "cell_type": "markdown",
   "metadata": {},
   "source": [
    "Q3: 提出一些使用概率模型的场景"
   ]
  },
  {
   "cell_type": "markdown",
   "metadata": {},
   "source": [
    "Q4: 为什么要使用概率模型，基于解析和模式匹配的难点在哪？"
   ]
  },
  {
   "cell_type": "markdown",
   "metadata": {},
   "source": [
    "Q5：什么是语言模型?"
   ]
  },
  {
   "cell_type": "markdown",
   "metadata": {},
   "source": [
    "Q6：一些使用语言模型的场景?"
   ]
  },
  {
   "cell_type": "markdown",
   "metadata": {},
   "source": [
    "Q7: 什么是一元语言模型?"
   ]
  },
  {
   "cell_type": "markdown",
   "metadata": {},
   "source": [
    "Q8: 一元语言模型的优点和缺点?"
   ]
  },
  {
   "cell_type": "markdown",
   "metadata": {},
   "source": [
    "Q9: 什么是二元语言模型?"
   ]
  },
  {
   "cell_type": "markdown",
   "metadata": {},
   "source": [
    "Q10: 什么是网络爬虫，运行一个简单的网络爬虫(在地铁路线规划中再完成该任务)"
   ]
  },
  {
   "cell_type": "markdown",
   "metadata": {},
   "source": [
    "Q11: 哪些东西会使得网络爬虫运行起来比较困难，如何解决?"
   ]
  },
  {
   "cell_type": "markdown",
   "metadata": {},
   "source": [
    "Q12: 什么是正则表达式，如何使用?"
   ]
  },
  {
   "cell_type": "markdown",
   "metadata": {},
   "source": [
    "### assignment02 "
   ]
  },
  {
   "cell_type": "markdown",
   "metadata": {},
   "source": [
    "Step 1: You need to download the corpus from wikipedis:\n",
    "> https://dumps.wikimedia.org/zhwiki/20190401/\n",
    "\n",
    "Step 2: You may need the help of wiki-extractor:\n",
    "\n",
    "> https://github.com/attardi/wikiextractor\n",
    "\n",
    "step3: 完成语言模型  \n",
    "\n",
    "step4: 测试一些感兴趣的句子，看看模型的拟合程度\n",
    "\n",
    "step5: 如果我们像解决以下问题，语言模型能帮助我们什么?\n",
    "- Voice Recognization.\n",
    "- Sogou pinyin input.\n",
    "- Auto correction in search engine.\n",
    "- Abnormal Detection."
   ]
  },
  {
   "cell_type": "markdown",
   "metadata": {},
   "source": [
    "Compared to the previous learned parsing and pattern match problems. What's the advantage and disavantage of Probability Based Methods?\n",
    "对比之前的解析和模式匹配问题，基于概率的模型的优点和缺点在哪?"
   ]
  },
  {
   "cell_type": "markdown",
   "metadata": {},
   "source": [
    "### assignment03"
   ]
  },
  {
   "cell_type": "markdown",
   "metadata": {},
   "source": [
    "如何解决OOV问题？"
   ]
  },
  {
   "cell_type": "markdown",
   "metadata": {},
   "source": [
    "Q1: How did you solve this problem in your programming task?"
   ]
  },
  {
   "cell_type": "markdown",
   "metadata": {},
   "source": [
    "Q2: Read about the 'Turing-Good Estimator', can explain the main points about this method, and may implement this method in your programming task"
   ]
  },
  {
   "cell_type": "code",
   "execution_count": 1,
   "metadata": {},
   "outputs": [],
   "source": [
    "def laplace_smooth(counter, c = 1):\n",
    "    # 确切来说: add-k smoothing, c = 1为拉普拉斯平滑\n",
    "    N = sum(counter.values())\n",
    "    N_plus = N + c*(len(counter) + 1)\n",
    "    \n",
    "    return lambda word: (counter[word] + c)/N_plus"
   ]
  },
  {
   "cell_type": "code",
   "execution_count": null,
   "metadata": {},
   "outputs": [],
   "source": [
    "def simple_good_turing_version(counter, base = 1/26, prior = 1e-8):\n",
    "    N = sum(counter.values())\n",
    "    \n",
    "    lengthes = map(len, [w for w in counter if counter[w] == 1])\n",
    "    ones = Counter(lengthes)\n",
    "    longest = max(ones)\n",
    "    \n",
    "    def _get_prob(w):\n",
    "        if w in counter:\n",
    "            prob = counter[w]/N\n",
    "        elif len(w) in ones:\n",
    "            prob = prior * ones[len(w)]/N\n",
    "        else:\n",
    "            prob = prior * ones[longest] / N * base**(len(word) - longest)\n",
    "        return prob\n",
    "\n",
    "    return _get_prob"
   ]
  }
 ],
 "metadata": {
  "kernelspec": {
   "display_name": "Python 3",
   "language": "python",
   "name": "python3"
  },
  "language_info": {
   "codemirror_mode": {
    "name": "ipython",
    "version": 3
   },
   "file_extension": ".py",
   "mimetype": "text/x-python",
   "name": "python",
   "nbconvert_exporter": "python",
   "pygments_lexer": "ipython3",
   "version": "3.7.3"
  }
 },
 "nbformat": 4,
 "nbformat_minor": 2
}
