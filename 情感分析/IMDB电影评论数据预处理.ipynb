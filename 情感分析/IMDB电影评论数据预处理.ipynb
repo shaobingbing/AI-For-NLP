{
  "nbformat": 4,
  "nbformat_minor": 0,
  "metadata": {
    "colab": {
      "name": "IMDB电影评论数据预处理.ipynb",
      "version": "0.3.2",
      "provenance": [],
      "collapsed_sections": []
    },
    "kernelspec": {
      "name": "python3",
      "display_name": "Python 3"
    }
  },
  "cells": [
    {
      "cell_type": "code",
      "metadata": {
        "id": "s3hFP7c4wAQY",
        "colab_type": "code",
        "colab": {
          "base_uri": "https://localhost:8080/",
          "height": 34
        },
        "outputId": "2c987278-74d8-4d9b-a383-711745b98394"
      },
      "source": [
        "from google.colab import drive\n",
        "drive.mount('/content/drive')"
      ],
      "execution_count": 1,
      "outputs": [
        {
          "output_type": "stream",
          "text": [
            "Drive already mounted at /content/drive; to attempt to forcibly remount, call drive.mount(\"/content/drive\", force_remount=True).\n"
          ],
          "name": "stdout"
        }
      ]
    },
    {
      "cell_type": "markdown",
      "metadata": {
        "id": "x_snOIoYofn_",
        "colab_type": "text"
      },
      "source": [
        "### 加载词向量模型"
      ]
    },
    {
      "cell_type": "code",
      "metadata": {
        "id": "gwyqAVVEv6Q_",
        "colab_type": "code",
        "colab": {
          "base_uri": "https://localhost:8080/",
          "height": 173
        },
        "outputId": "cf51e72f-9c51-4602-a49a-3cf58608bd55"
      },
      "source": [
        "from gensim.models import KeyedVectors\n",
        "\n",
        "# 该文件未谷歌与训练的300维的词向量模型，直接加载使用\n",
        "model = KeyedVectors.load_word2vec_format('/content/drive/Shared drives/shao_bingbing/model/goodle_word2vec_model/GoogleNews-vectors-negative300.bin', binary = True)\n",
        "\n",
        "# 加载单词和对应的词向量\n",
        "word_list = [k for k,v in model.wv.vocab.items()]\n",
        "word_vectors = model.wv.vectors\n",
        "\n",
        "# 将加载的单词和词向量保存为.npy格式的文件\n",
        "import numpy as np\n",
        "\n",
        "word_list = [k for k,v in model.wv.vocab.items()]\n",
        "wordList = np.array(word_list)\n",
        "\n",
        "np.save('/content/drive/Shared drives/shao_bingbing/model/goodle_word2vec_model/WordList.npy', wordList)\n",
        "np.save('/content/drive/Shared drives/shao_bingbing/model/goodle_word2vec_model/wordVectors.npy', word_vectors)"
      ],
      "execution_count": 3,
      "outputs": [
        {
          "output_type": "stream",
          "text": [
            "/usr/local/lib/python3.6/dist-packages/smart_open/smart_open_lib.py:398: UserWarning: This function is deprecated, use smart_open.open instead. See the migration notes for details: https://github.com/RaRe-Technologies/smart_open/blob/master/README.rst#migrating-to-the-new-open-function\n",
            "  'See the migration notes for details: %s' % _MIGRATION_NOTES_URL\n",
            "/usr/local/lib/python3.6/dist-packages/ipykernel_launcher.py:7: DeprecationWarning: Call to deprecated `wv` (Attribute will be removed in 4.0.0, use self instead).\n",
            "  import sys\n",
            "/usr/local/lib/python3.6/dist-packages/ipykernel_launcher.py:8: DeprecationWarning: Call to deprecated `wv` (Attribute will be removed in 4.0.0, use self instead).\n",
            "  \n",
            "/usr/local/lib/python3.6/dist-packages/ipykernel_launcher.py:13: DeprecationWarning: Call to deprecated `wv` (Attribute will be removed in 4.0.0, use self instead).\n",
            "  del sys.path[0]\n"
          ],
          "name": "stderr"
        }
      ]
    },
    {
      "cell_type": "markdown",
      "metadata": {
        "id": "oZ9VaMF-pfDm",
        "colab_type": "text"
      },
      "source": [
        "### 对原始的csv文件进行操作，将review保存为对应的文本文件"
      ]
    },
    {
      "cell_type": "code",
      "metadata": {
        "id": "KuQoZIhsf0nw",
        "colab_type": "code",
        "colab": {}
      },
      "source": [
        "# 首先对CSV文件进行操作，将正负样本分别放入到该文件夹下的/pos 和 /neg文件夹下\n",
        "import pandas as pd\n",
        "\n",
        "imdb_data = pd.read_csv('/content/drive/Shared drives/shao_bingbing/data/imdb-movies-dataset/imdb_master.csv', encoding=\"latin-1\")\n",
        "imdb_data.head(5)\n",
        "\n",
        "base_dir = '/content/drive/Shared drives/shao_bingbing/data/imdb-movies-dataset/'\n",
        "\n",
        "# 需要建立train/pos, train/neg, train/unsup, test/neg, test/pos 几个文件夹\n",
        "# 将相应的文本数据放入对应的文本里\n",
        "for i in range(imdb_data.shape[0]):\n",
        "    list_1 = []\n",
        "    list_1.append(imdb_data.loc[i,]['type'])\n",
        "    list_1.append(imdb_data.loc[i,]['label'])\n",
        "    list_1.append(imdb_data.loc[i,]['file'])\n",
        "    path = base_dir + ('/').join(list_1)\n",
        "    with open(path, 'w+') as f:\n",
        "        f.write(imdb_data.loc[i,]['review'])\n",
        "\n",
        "train_dir = '/content/drive/Shared drives/shao_bingbing/data/imdb-movies-dataset/train/'\n",
        "\n",
        "import os\n",
        "from os.path import isfile, join\n",
        "\n",
        "# 正向评价文件夹下的所有文件\n",
        "pos_dir = train_dir + 'pos/'\n",
        "pos_files = [pos_dir + f for f in os.listdir(pos_dir) if isfile(join(pos_dir, f))]\n",
        "\n",
        "# 负向向评价文件夹下的所有文件\n",
        "neg_dir = train_dir + 'neg/'\n",
        "neg_files = [neg_dir + f for f in os.listdir(neg_dir) if isfile(join(neg_dir, f))]\n",
        "\n",
        "\n",
        "# 将所有文本数据放入到一个文本下，每一行代表一组数据，只需统计正负样本的分割线即可，防止多次读写造成的时间上的损失\n",
        "all_text = '/content/drive/Shared drives/shao_bingbing/data/imdb-movies-dataset/train/'\n",
        "with open(all_text + 'all_text.txt', 'w+') as f:\n",
        "    for pos in pos_files:\n",
        "        i = i + 1\n",
        "        print(i)\n",
        "        with open(pos, 'r', encoding = 'utf-8') as t:\n",
        "            line = t.readline()\n",
        "            f.write(line + '\\n')\n",
        "            \n",
        "    for neg in neg_files:\n",
        "        i = i + 1\n",
        "        print(i)\n",
        "        with open(neg, 'r', encoding = 'utf-8') as t:\n",
        "            line = t.readline()\n",
        "            f.write(line + '\\n')"
      ],
      "execution_count": 0,
      "outputs": []
    },
    {
      "cell_type": "markdown",
      "metadata": {
        "id": "YY3WvBpiqp6d",
        "colab_type": "text"
      },
      "source": [
        "#### 统计文本数据\n"
      ]
    },
    {
      "cell_type": "code",
      "metadata": {
        "id": "ExFw8B0uqsKa",
        "colab_type": "code",
        "colab": {}
      },
      "source": [
        "####################################### version01 ######################\n",
        "# num_words = []\n",
        "# i = 0\n",
        "# for pf in pos_files:\n",
        "#     i = i + 1\n",
        "#     print(i)\n",
        "#     with open(pf, 'r', encoding = 'utf-8') as f:\n",
        "#         line = f.readline()\n",
        "#         counter = len(line.split())\n",
        "#         # 统计每个文本的长度\n",
        "#         num_words.append(counter)\n",
        "        \n",
        "# for nf in neg_files:\n",
        "#     i = i + 1\n",
        "#     if i % 100 == 0:\n",
        "#         print(i)\n",
        "#     with open(nf, 'r', encoding = 'utf-8') as f:\n",
        "#         line = f.readline()\n",
        "#         counter = len(line.split())\n",
        "#         num_words.append(counter)        \n",
        "        \n",
        "# num_files = len(num_words)\n",
        "# print('文件总数 ', num_files)\n",
        "# print('所有词的数量', sum(num_words))\n",
        "# print('平均文本词的长度', sum(num_words)/len(num_words))\n",
        "\n",
        "\n",
        "# 这里我使用整合后的文本，结果是一致的\n",
        "\n",
        "num_words = []\n",
        "with open(all_text + 'all_text.txt', 'r') as f:\n",
        "    for line in f:\n",
        "        t = line\n",
        "        counter = len(line.split())\n",
        "        num_words.append(counter)\n",
        "        i += 1\n",
        "        \n",
        "num_files = len(num_words)\n",
        "print(\"文件总数：\",num_files)\n",
        "print('所有词的数量', sum(num_words))\n",
        "print('平均文件长度', sum(num_words)/len(num_words))"
      ],
      "execution_count": 0,
      "outputs": []
    },
    {
      "cell_type": "code",
      "metadata": {
        "id": "I1K_6eJYLdV7",
        "colab_type": "code",
        "colab": {
          "base_uri": "https://localhost:8080/",
          "height": 283
        },
        "outputId": "875cc3b3-bec3-4db5-b0c5-abd018932a52"
      },
      "source": [
        "import matplotlib.pyplot as plt\n",
        "import matplotlib as mpl\n",
        "# 用直方图对数据进行可视化\n",
        "\n",
        "# plt.rcParams['font.sans-serif'] = ['SimHei']  # 用来正常显示中文标签\n",
        "# mpl.rcParams['font.family'] = 'sans-serif'\n",
        "# plt.rcParams['axes.unicode_minus'] = False  # 用来正常显示负号\n",
        "\n",
        "zhfont = mpl.font_manager.FontProperties(fname='/content/drive/Shared drives/shao_bingbing/data/font/simhei.ttf')\n",
        "plt.rcParams['axes.unicode_minus'] = False  # 用来正常显示负号\n",
        "\n",
        "plt.hist(num_words, 50, facecolor = 'g')\n",
        "plt.xlabel('文本长度', fontproperties=zhfont)\n",
        "plt.ylabel('频次',fontproperties=zhfont)\n",
        "plt.axis([0, 1200, 0, 8000])\n",
        "plt.show()"
      ],
      "execution_count": 8,
      "outputs": [
        {
          "output_type": "display_data",
          "data": {
            "image/png": "[encoded data removed]",
            "text/plain": [
              "<Figure size 432x288 with 1 Axes>"
            ]
          },
          "metadata": {
            "tags": []
          }
        }
      ]
    },
    {
      "cell_type": "markdown",
      "metadata": {
        "id": "BroeygL2r41x",
        "colab_type": "text"
      },
      "source": [
        "### 为文档单词位置建立索引"
      ]
    },
    {
      "cell_type": "code",
      "metadata": {
        "id": "gKCrJlXcoDZs",
        "colab_type": "code",
        "colab": {}
      },
      "source": [
        "# 为单词建立索引，直接在列表中搜索数据太慢\n",
        "word_dict = {}\n",
        "for i in range(len(word_list)):\n",
        "    word_dict[word_list[i]] = i"
      ],
      "execution_count": 0,
      "outputs": []
    },
    {
      "cell_type": "code",
      "metadata": {
        "id": "PGha0zOnsVo4",
        "colab_type": "code",
        "colab": {}
      },
      "source": [
        "# # 从上图看出，大部分的文本长度都在300以下，因此我们使用一个25000*300的矩阵来对文本进行索引\n",
        "# import re\n",
        "# import numpy as np\n",
        "# strip_special_chars = re.compile(\"[^A-Za-z0-9 ]+\")\n",
        "\n",
        "# def cleanSentences(string):\n",
        "#     # 将所有的字符转化为小写，并去除<br />\n",
        "#     string = string.lower().replace(\"<br />\", \" \")\n",
        "#     # 去除非法字符\n",
        "#     return re.sub(strip_special_chars, \"\", string.lower())\n",
        "\n",
        "# max_seq_num = 300\n",
        "# ids = np.zeros((num_files, max_seq_num), dtype = 'int32')\n",
        "# file_count = 0\n",
        "# for pf in pos_files:\n",
        "#     with open(pf, 'r', encoding = 'utf-8') as f:\n",
        "#         indexCounter = 0\n",
        "#         line = f.readline()\n",
        "#         cleanedLine = cleanSentences(line)\n",
        "#         split = cleanedLine.split()\n",
        "#         print(file_count)\n",
        "#         for word in split:\n",
        "#             try:\n",
        "#                 ids[file_count][indexCounter] = word_dict[word]\n",
        "                \n",
        "#             except KeyError:\n",
        "#                 ids[file_count][indexCounter] = 399999\n",
        "            \n",
        "#             indexCounter = indexCounter + 1\n",
        "#             if indexCounter >= max_seq_num:\n",
        "#                 break\n",
        "#         file_count = file_count + 1\n",
        "\n",
        "# print('postive files finished')\n",
        "        \n",
        "# for nf in neg_files:\n",
        "#     with open(nf, 'r', encoding = 'utf-8') as f:\n",
        "#         indexCounter = 0\n",
        "#         line = f.readline()\n",
        "#         cleanedLine = cleanSentences(line)\n",
        "#         split = cleanedLine.split()\n",
        "        \n",
        "#         print(file_count)\n",
        "#         for word in split:\n",
        "#             try:\n",
        "#                 ids[file_count][indexCounter] = word_dict[word]\n",
        "                \n",
        "#             except KeyError:\n",
        "#                 ids[file_count][indexCounter] = 399999\n",
        "            \n",
        "#             indexCounter = indexCounter + 1\n",
        "#             if indexCounter >= max_seq_num:\n",
        "#                 break\n",
        "#         file_count = file_count + 1\n",
        "\n",
        "\n",
        "# 从上图看出，大部分的文本长度都在300以下，因此我们使用一个25000*300的矩阵来对文本进行索引\n",
        "import re\n",
        "import numpy as np\n",
        "strip_special_chars = re.compile(\"[^A-Za-z0-9 ]+\")\n",
        "\n",
        "def cleanSentences(string):\n",
        "    # 将所有的字符转化为小写，并去除<br />\n",
        "    string = string.lower().replace(\"<br />\", \" \")\n",
        "    # 去除非法字符\n",
        "    return re.sub(strip_special_chars, \"\", string.lower())\n",
        "\n",
        "max_seq_num = 300\n",
        "ids = np.zeros((num_files, max_seq_num), dtype = 'int32')\n",
        "file_count = 0\n",
        "\n",
        "with open(all_text + 'all_text.txt', 'r', encoding = 'utf-8') as f:\n",
        "    for line in f:\n",
        "        indexCounter = 0\n",
        "        cleanedLine = cleanSentences(line)\n",
        "        split = cleanedLine.split()\n",
        "        if file_count%100 == 0:\n",
        "            print(file_count)\n",
        "        for word in split:\n",
        "            try:\n",
        "\n",
        "                ids[file_count][indexCounter] = word_dict[word]\n",
        "\n",
        "\n",
        "            except ValueError:\n",
        "                ids[file_count][indexCounter] = 399999\n",
        "\n",
        "            indexCounter = indexCounter + 1\n",
        "            if indexCounter >= max_seq_num:\n",
        "                break\n",
        "        file_count = file_count + 1\n",
        "\n",
        "# 保存索引\n",
        "np.save('/content/drive/Shared drives/shao_bingbing/data/imdb-movies-dataset/idsMatrix.npy', ids)"
      ],
      "execution_count": 0,
      "outputs": []
    },
    {
      "cell_type": "code",
      "metadata": {
        "id": "RhChrOqyub4q",
        "colab_type": "code",
        "colab": {}
      },
      "source": [
        ""
      ],
      "execution_count": 0,
      "outputs": []
    }
  ]
}